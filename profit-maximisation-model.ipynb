{
 "metadata": {
  "language_info": {
   "codemirror_mode": {
    "name": "ipython",
    "version": 3
   },
   "file_extension": ".py",
   "mimetype": "text/x-python",
   "name": "python",
   "nbconvert_exporter": "python",
   "pygments_lexer": "ipython3",
   "version": "3.7.9-final"
  },
  "orig_nbformat": 2,
  "kernelspec": {
   "name": "python3",
   "display_name": "Python 3.7.9 64-bit",
   "metadata": {
    "interpreter": {
     "hash": "68cf0db5f3067a4776d13d703f6192178ebe9e16ae02aeaaff6ace0660eb419e"
    }
   }
  }
 },
 "nbformat": 4,
 "nbformat_minor": 2,
 "cells": [
  {
   "cell_type": "code",
   "execution_count": 1,
   "metadata": {},
   "outputs": [],
   "source": [
    "import pandas as pd\n",
    "import numpy as np\n",
    "import itertools\n",
    "import os\n",
    "from pulp import *"
   ]
  },
  {
   "cell_type": "code",
   "execution_count": 2,
   "metadata": {},
   "outputs": [],
   "source": [
    "problem = LpProblem(\"E-Scooter Allocation Profit Maximisation\", LpMaximize)"
   ]
  },
  {
   "cell_type": "code",
   "execution_count": 3,
   "metadata": {},
   "outputs": [],
   "source": [
    "df_distance = pd.read_csv(\"Data/Model Data - Smaller set Distance.csv\")\n",
    "df_distance.fillna(0, inplace=True)\n",
    "distance = df_distance.values[:,1:]\n",
    "distance_dict = { (x,y): distance[x][y] for x in range(distance.shape[0]) for y in range(distance.shape[1])}"
   ]
  },
  {
   "cell_type": "code",
   "execution_count": 4,
   "metadata": {},
   "outputs": [],
   "source": [
    "locations = list(df_distance['Location'])\n",
    "location_idx = np.arange(0, len(locations))\n",
    "loc_count = len(locations)"
   ]
  },
  {
   "cell_type": "code",
   "execution_count": 5,
   "metadata": {
    "tags": []
   },
   "outputs": [],
   "source": [
    "demand = dict()\n",
    "files = os.listdir('Data/Reduced set Demand/')\n",
    "for f in files:\n",
    "    hour = int(f.split(sep='.', maxsplit=1)[0])\n",
    "    df = pd.read_csv('Data/Reduced set Demand/' + f)\n",
    "    demand_arr = df.values[:,1:]\n",
    "    demand[hour] = demand_arr"
   ]
  },
  {
   "cell_type": "code",
   "execution_count": 6,
   "metadata": {},
   "outputs": [],
   "source": [
    "demand_dict = dict()\n",
    "for i,(_,v) in enumerate(demand.items()):\n",
    "    demand_dict.update({(x,y,i): v[x][y] for x in range(loc_count) for y in range(loc_count)})"
   ]
  },
  {
   "cell_type": "code",
   "execution_count": 7,
   "metadata": {},
   "outputs": [],
   "source": [
    "# Parameters\n",
    "M = sys.maxsize\n",
    "Nmax = 10\n",
    "Smax = 20\n",
    "Qmin = 0.35\n",
    "# Cost values\n",
    "# cost of maintaining one scooter per kilometer driven\n",
    "C_scooter_km = 7\n",
    "C_fixed_scooter = 167\n",
    "C_fixed_dock = 46\n",
    "C_fixed_station = 6\n",
    "# Cost relocation\n",
    "C_r = 160\n",
    "# Price rate for kilometer driven\n",
    "P_km = 0.2\n",
    "# Price for pickup\n",
    "P_init = 1"
   ]
  },
  {
   "cell_type": "code",
   "execution_count": 8,
   "metadata": {},
   "outputs": [],
   "source": [
    "# Penalty\n",
    "df_penalty = pd.read_csv(\"Data/Penalty Carbon Costs Smaller set.csv\")\n",
    "C_pen = df_penalty.values[:, 1]"
   ]
  },
  {
   "cell_type": "code",
   "execution_count": 9,
   "metadata": {},
   "outputs": [],
   "source": [
    "# Sets\n",
    "T = np.arange(0,len(files))\n",
    "# each location at a given time\n",
    "X = list(itertools.product(location_idx, T))\n",
    "A1 = [(xi, xj) for xi in X for xj in X if xi[0] != xj[0] and xi[1]+1==xj[1]]\n",
    "A2 = [(xi, xj) for xi in X for xj in X if xi[0]==xj[0] and xi[1]+1==xj[1]]\n",
    "# Relocation\n",
    "A3 = [(xi, xj) for xi in X for xj in X if xi[0]!=xj[0] and xi[1]==T[-1] and xj[1]==T[0]]"
   ]
  },
  {
   "cell_type": "code",
   "execution_count": 10,
   "metadata": {},
   "outputs": [
    {
     "output_type": "execute_result",
     "data": {
      "text/plain": [
       "array([ 0,  1,  2,  3,  4,  5,  6,  7,  8,  9, 10, 11, 12, 13, 14, 15, 16,\n",
       "       17, 18])"
      ]
     },
     "metadata": {},
     "execution_count": 10
    }
   ],
   "source": [
    "T"
   ]
  },
  {
   "cell_type": "code",
   "execution_count": 11,
   "metadata": {},
   "outputs": [],
   "source": [
    "# Decision Variables\n",
    "Yi = LpVariable.dicts(\"Station Presence\", location_idx,0,cat=const.LpBinary)\n",
    "Zi = LpVariable.dicts(\"Size\", location_idx, 0, cat=\"Continuous\")\n",
    "# Relocation\n",
    "Rij = LpVariable.dicts(\"#Relocated_Scooters\", A3, 0, cat=const.LpInteger)\n",
    "Vit = LpVariable.dicts(\"#Available_Scooters\",X,0,cat=\"Continuous\")\n",
    "Sit = LpVariable.dicts(\"#Stocked_Scooters\", A2, 0, cat=\"Continuous\")\n",
    "Ditj = LpVariable.dicts(\"#Used_Scooters\", A1, 0 ,cat=\"Continuous\")"
   ]
  },
  {
   "cell_type": "code",
   "execution_count": null,
   "metadata": {},
   "outputs": [],
   "source": [
    "problem+=lpSum(Ditj[((i,ti),(j,tj))]*(distance_dict[(i,j)]*(P_km-C_scooter_km) + P_init) for ((i,ti),(j,tj)) in A1) + \\\n",
    "    lpSum(Rij[((i,ti), (j,tj))]*distance_dict[(i,j)]*C_r for ((i,ti), (j,tj)) in A3) + \\\n",
    "    lpSum(Vit[(i,t)]*C_fixed_scooter for (i,t) in X if t==0) + \\\n",
    "    lpSum(Zi[i]*C_fixed_dock for i in location_idx) + \\\n",
    "    lpSum(Yi[i]*C_fixed_station for i in location_idx), \"Objective function\""
   ]
  },
  {
   "cell_type": "code",
   "execution_count": 13,
   "metadata": {},
   "outputs": [],
   "source": [
    "for (i,ti) in X:\n",
    "    if ti !=0:\n",
    "        problem+= Vit[(i,ti-1)] - lpSum(Ditj[((i,ti-1),(j,tj))] for (j,tj) in X if tj==ti and i !=j) + lpSum(Ditj[((j, tj),(i, ti))] for (j,tj) in X if tj == ti-1 and i !=j) == Vit[(i,ti)], f\"Availability Balance {(i,ti)}\"\n"
   ]
  },
  {
   "cell_type": "code",
   "execution_count": 14,
   "metadata": {},
   "outputs": [],
   "source": [
    "for (i,ti) in X:\n",
    "    if ti!=T[-1]:\n",
    "        problem+=Vit[(i,ti)] - lpSum(Ditj[((i,ti),(j,tj))]for (j,tj) in X if i !=j and ti+1==tj) == Sit[((i,ti), (i,ti+1))], f\"Stocked Scooters for {(i,ti)}\""
   ]
  },
  {
   "cell_type": "code",
   "execution_count": 15,
   "metadata": {},
   "outputs": [],
   "source": [
    "# Relocation constraint\n",
    "for i in location_idx:\n",
    "    problem+=Vit[(i,0)] == Vit[(i,T[-1])] + lpSum(Rij[((j,T[-1]), (i,0))] for j in location_idx if i!=j) - lpSum(Rij[((i,T[-1]), (j,0))] for j in location_idx if i!=j), f\"Relocation balance for location {i}\""
   ]
  },
  {
   "cell_type": "code",
   "execution_count": 16,
   "metadata": {},
   "outputs": [],
   "source": [
    "for i in location_idx:\n",
    "    problem+=lpSum(Rij[((i,T[-1]), (j,0))] for j in location_idx if i!=j) <= Vit[(i,T[-1])], f\"Relocation availability for location {i}\""
   ]
  },
  {
   "cell_type": "code",
   "execution_count": 17,
   "metadata": {},
   "outputs": [],
   "source": [
    "for (i,ti) in X:\n",
    "    problem+= Zi[i] >=Vit[(i,ti)], f\"Size constraint for {(i,ti)}\""
   ]
  },
  {
   "cell_type": "code",
   "execution_count": 18,
   "metadata": {},
   "outputs": [],
   "source": [
    "for (i,ti) in X:\n",
    "    problem+=Vit[(i,ti)] <= M*Yi[i], f\"Availability against Dock present{(i,ti)}\""
   ]
  },
  {
   "cell_type": "code",
   "execution_count": 19,
   "metadata": {},
   "outputs": [],
   "source": [
    "for i in location_idx:\n",
    "    problem+=Yi[i] <= Zi[i], f\"Size constraint for {i}\""
   ]
  },
  {
   "cell_type": "code",
   "execution_count": 20,
   "metadata": {},
   "outputs": [],
   "source": [
    "for ((i,ti),(j,tj)) in A1:\n",
    "    problem+=Ditj[((i,ti),(j,tj))]<=demand_dict[(i,j,ti)], f\"Maximum Demand for {((i,ti),(j,tj))}\""
   ]
  },
  {
   "cell_type": "code",
   "execution_count": null,
   "metadata": {},
   "outputs": [],
   "source": [
    "problem+=lpSum(v for v in Ditj.values())/lpSum(v for v in demand_dict.values()) >= Qmin, \"Minimum satisfied demand\""
   ]
  },
  {
   "cell_type": "code",
   "execution_count": 21,
   "metadata": {},
   "outputs": [],
   "source": [
    "for i in location_idx:\n",
    "    problem+=Zi[i] <= Smax, f\"Maximum size for {i}\""
   ]
  },
  {
   "cell_type": "code",
   "execution_count": 22,
   "metadata": {},
   "outputs": [],
   "source": [
    "problem+=lpSum(Yi[i] for i in location_idx) <= Nmax, f\"Maximum number of docks\""
   ]
  },
  {
   "cell_type": "code",
   "execution_count": 23,
   "metadata": {},
   "outputs": [
    {
     "output_type": "execute_result",
     "data": {
      "text/plain": [
       "'Optimal'"
      ]
     },
     "metadata": {},
     "execution_count": 23
    }
   ],
   "source": [
    "problem.writeLP(\"E-scooterProblem.lp\")\n",
    "problem.solve()\n",
    "LpStatus[problem.status]"
   ]
  },
  {
   "cell_type": "code",
   "execution_count": 24,
   "metadata": {
    "tags": []
   },
   "outputs": [
    {
     "output_type": "stream",
     "name": "stdout",
     "text": [
      "#Available_Scooters_(12,_0) = 1.0\n",
      "#Available_Scooters_(12,_1) = 1.0\n",
      "#Available_Scooters_(12,_10) = 13.0\n",
      "#Available_Scooters_(12,_11) = 14.0\n",
      "#Available_Scooters_(12,_12) = 14.0\n",
      "#Available_Scooters_(12,_13) = 15.0\n",
      "#Available_Scooters_(12,_14) = 16.0\n",
      "#Available_Scooters_(12,_15) = 13.0\n",
      "#Available_Scooters_(12,_16) = 4.0\n",
      "#Available_Scooters_(12,_17) = 3.0\n",
      "#Available_Scooters_(12,_18) = 1.0\n",
      "#Available_Scooters_(12,_2) = 1.0\n",
      "#Available_Scooters_(12,_3) = 1.0\n",
      "#Available_Scooters_(12,_4) = 1.0\n",
      "#Available_Scooters_(12,_5) = 1.0\n",
      "#Available_Scooters_(12,_6) = 1.0\n",
      "#Available_Scooters_(12,_7) = 2.0\n",
      "#Available_Scooters_(12,_8) = 4.0\n",
      "#Available_Scooters_(12,_9) = 11.0\n",
      "#Available_Scooters_(13,_0) = 5.0\n",
      "#Available_Scooters_(13,_1) = 4.0\n",
      "#Available_Scooters_(13,_10) = 6.0\n",
      "#Available_Scooters_(13,_11) = 7.0\n",
      "#Available_Scooters_(13,_12) = 7.0\n",
      "#Available_Scooters_(13,_13) = 7.0\n",
      "#Available_Scooters_(13,_14) = 7.0\n",
      "#Available_Scooters_(13,_15) = 7.0\n",
      "#Available_Scooters_(13,_16) = 5.0\n",
      "#Available_Scooters_(13,_17) = 7.0\n",
      "#Available_Scooters_(13,_18) = 5.0\n",
      "#Available_Scooters_(13,_2) = 4.0\n",
      "#Available_Scooters_(13,_3) = 4.0\n",
      "#Available_Scooters_(13,_4) = 4.0\n",
      "#Available_Scooters_(13,_5) = 4.0\n",
      "#Available_Scooters_(13,_6) = 7.0\n",
      "#Available_Scooters_(13,_7) = 7.0\n",
      "#Available_Scooters_(13,_8) = 5.0\n",
      "#Available_Scooters_(13,_9) = 5.0\n",
      "#Available_Scooters_(14,_0) = 5.0\n",
      "#Available_Scooters_(14,_1) = 5.0\n",
      "#Available_Scooters_(14,_10) = 3.0\n",
      "#Available_Scooters_(14,_11) = 3.0\n",
      "#Available_Scooters_(14,_12) = 3.0\n",
      "#Available_Scooters_(14,_13) = 3.0\n",
      "#Available_Scooters_(14,_14) = 3.0\n",
      "#Available_Scooters_(14,_15) = 3.0\n",
      "#Available_Scooters_(14,_16) = 5.0\n",
      "#Available_Scooters_(14,_17) = 3.0\n",
      "#Available_Scooters_(14,_18) = 5.0\n",
      "#Available_Scooters_(14,_2) = 5.0\n",
      "#Available_Scooters_(14,_3) = 5.0\n",
      "#Available_Scooters_(14,_4) = 5.0\n",
      "#Available_Scooters_(14,_5) = 4.0\n",
      "#Available_Scooters_(14,_6) = 5.0\n",
      "#Available_Scooters_(14,_7) = 3.0\n",
      "#Available_Scooters_(14,_8) = 5.0\n",
      "#Available_Scooters_(14,_9) = 3.0\n",
      "#Available_Scooters_(16,_0) = 15.0\n",
      "#Available_Scooters_(16,_1) = 19.0\n",
      "#Available_Scooters_(16,_10) = 2.0\n",
      "#Available_Scooters_(16,_11) = 2.0\n",
      "#Available_Scooters_(16,_12) = 3.0\n",
      "#Available_Scooters_(16,_13) = 2.0\n",
      "#Available_Scooters_(16,_14) = 1.0\n",
      "#Available_Scooters_(16,_15) = 6.0\n",
      "#Available_Scooters_(16,_16) = 10.0\n",
      "#Available_Scooters_(16,_17) = 9.0\n",
      "#Available_Scooters_(16,_18) = 15.0\n",
      "#Available_Scooters_(16,_2) = 19.0\n",
      "#Available_Scooters_(16,_3) = 20.0\n",
      "#Available_Scooters_(16,_4) = 20.0\n",
      "#Available_Scooters_(16,_5) = 18.0\n",
      "#Available_Scooters_(16,_6) = 11.0\n",
      "#Available_Scooters_(16,_7) = 11.0\n",
      "#Available_Scooters_(16,_8) = 10.0\n",
      "#Available_Scooters_(16,_9) = 6.0\n",
      "#Available_Scooters_(18,_0) = 5.0\n",
      "#Available_Scooters_(18,_1) = 4.0\n",
      "#Available_Scooters_(18,_10) = 6.0\n",
      "#Available_Scooters_(18,_11) = 7.0\n",
      "#Available_Scooters_(18,_12) = 7.0\n",
      "#Available_Scooters_(18,_13) = 8.0\n",
      "#Available_Scooters_(18,_14) = 9.0\n",
      "#Available_Scooters_(18,_15) = 5.0\n",
      "#Available_Scooters_(18,_16) = 5.0\n",
      "#Available_Scooters_(18,_17) = 8.0\n",
      "#Available_Scooters_(18,_18) = 5.0\n",
      "#Available_Scooters_(18,_2) = 4.0\n",
      "#Available_Scooters_(18,_3) = 3.0\n",
      "#Available_Scooters_(18,_4) = 2.0\n",
      "#Available_Scooters_(18,_5) = 3.0\n",
      "#Available_Scooters_(18,_6) = 3.0\n",
      "#Available_Scooters_(18,_7) = 6.0\n",
      "#Available_Scooters_(18,_8) = 3.0\n",
      "#Available_Scooters_(18,_9) = 4.0\n",
      "#Available_Scooters_(19,_0) = 19.0\n",
      "#Available_Scooters_(19,_1) = 18.0\n",
      "#Available_Scooters_(19,_10) = 7.0\n",
      "#Available_Scooters_(19,_11) = 6.0\n",
      "#Available_Scooters_(19,_12) = 5.0\n",
      "#Available_Scooters_(19,_13) = 4.0\n",
      "#Available_Scooters_(19,_14) = 2.0\n",
      "#Available_Scooters_(19,_15) = 7.0\n",
      "#Available_Scooters_(19,_16) = 14.0\n",
      "#Available_Scooters_(19,_17) = 15.0\n",
      "#Available_Scooters_(19,_18) = 19.0\n",
      "#Available_Scooters_(19,_2) = 18.0\n",
      "#Available_Scooters_(19,_3) = 19.0\n",
      "#Available_Scooters_(19,_4) = 20.0\n",
      "#Available_Scooters_(19,_5) = 17.0\n",
      "#Available_Scooters_(19,_6) = 18.0\n",
      "#Available_Scooters_(19,_7) = 15.0\n",
      "#Available_Scooters_(19,_8) = 16.0\n",
      "#Available_Scooters_(19,_9) = 12.0\n",
      "#Available_Scooters_(2,_0) = 1.0\n",
      "#Available_Scooters_(2,_1) = 1.0\n",
      "#Available_Scooters_(2,_10) = 8.0\n",
      "#Available_Scooters_(2,_11) = 8.0\n",
      "#Available_Scooters_(2,_12) = 8.0\n",
      "#Available_Scooters_(2,_13) = 8.0\n",
      "#Available_Scooters_(2,_14) = 8.0\n",
      "#Available_Scooters_(2,_15) = 7.0\n",
      "#Available_Scooters_(2,_16) = 4.0\n",
      "#Available_Scooters_(2,_17) = 3.0\n",
      "#Available_Scooters_(2,_18) = 1.0\n",
      "#Available_Scooters_(2,_2) = 1.0\n",
      "#Available_Scooters_(2,_3) = 1.0\n",
      "#Available_Scooters_(2,_4) = 1.0\n",
      "#Available_Scooters_(2,_5) = 2.0\n",
      "#Available_Scooters_(2,_6) = 2.0\n",
      "#Available_Scooters_(2,_7) = 3.0\n",
      "#Available_Scooters_(2,_8) = 4.0\n",
      "#Available_Scooters_(2,_9) = 7.0\n",
      "#Available_Scooters_(4,_0) = 3.0\n",
      "#Available_Scooters_(4,_1) = 3.0\n",
      "#Available_Scooters_(4,_10) = 3.0\n",
      "#Available_Scooters_(4,_11) = 2.0\n",
      "#Available_Scooters_(4,_12) = 2.0\n",
      "#Available_Scooters_(4,_13) = 2.0\n",
      "#Available_Scooters_(4,_14) = 2.0\n",
      "#Available_Scooters_(4,_15) = 1.0\n",
      "#Available_Scooters_(4,_16) = 1.0\n",
      "#Available_Scooters_(4,_17) = 3.0\n",
      "#Available_Scooters_(4,_18) = 3.0\n",
      "#Available_Scooters_(4,_2) = 3.0\n",
      "#Available_Scooters_(4,_3) = 2.0\n",
      "#Available_Scooters_(4,_4) = 2.0\n",
      "#Available_Scooters_(4,_5) = 3.0\n",
      "#Available_Scooters_(4,_6) = 3.0\n",
      "#Available_Scooters_(4,_7) = 3.0\n",
      "#Available_Scooters_(4,_8) = 1.0\n",
      "#Available_Scooters_(4,_9) = 1.0\n",
      "#Available_Scooters_(6,_0) = 2.0\n",
      "#Available_Scooters_(6,_1) = 2.0\n",
      "#Available_Scooters_(6,_10) = 4.0\n",
      "#Available_Scooters_(6,_11) = 3.0\n",
      "#Available_Scooters_(6,_12) = 3.0\n",
      "#Available_Scooters_(6,_13) = 3.0\n",
      "#Available_Scooters_(6,_14) = 4.0\n",
      "#Available_Scooters_(6,_15) = 4.0\n",
      "#Available_Scooters_(6,_16) = 4.0\n",
      "#Available_Scooters_(6,_17) = 4.0\n",
      "#Available_Scooters_(6,_18) = 2.0\n",
      "#Available_Scooters_(6,_2) = 2.0\n",
      "#Available_Scooters_(6,_3) = 2.0\n",
      "#Available_Scooters_(6,_4) = 2.0\n",
      "#Available_Scooters_(6,_5) = 4.0\n",
      "#Available_Scooters_(6,_6) = 4.0\n",
      "#Available_Scooters_(6,_7) = 4.0\n",
      "#Available_Scooters_(6,_8) = 4.0\n",
      "#Available_Scooters_(6,_9) = 4.0\n",
      "#Available_Scooters_(9,_0) = 2.0\n",
      "#Available_Scooters_(9,_1) = 1.0\n",
      "#Available_Scooters_(9,_10) = 6.0\n",
      "#Available_Scooters_(9,_11) = 6.0\n",
      "#Available_Scooters_(9,_12) = 6.0\n",
      "#Available_Scooters_(9,_13) = 6.0\n",
      "#Available_Scooters_(9,_14) = 6.0\n",
      "#Available_Scooters_(9,_15) = 5.0\n",
      "#Available_Scooters_(9,_16) = 6.0\n",
      "#Available_Scooters_(9,_17) = 3.0\n",
      "#Available_Scooters_(9,_18) = 2.0\n",
      "#Available_Scooters_(9,_2) = 1.0\n",
      "#Available_Scooters_(9,_3) = 1.0\n",
      "#Available_Scooters_(9,_4) = 1.0\n",
      "#Available_Scooters_(9,_5) = 2.0\n",
      "#Available_Scooters_(9,_6) = 4.0\n",
      "#Available_Scooters_(9,_7) = 4.0\n",
      "#Available_Scooters_(9,_8) = 6.0\n",
      "#Available_Scooters_(9,_9) = 5.0\n",
      "#Stocked_Scooters_((12,_0),_(12,_1)) = 1.0\n",
      "#Stocked_Scooters_((12,_1),_(12,_2)) = 1.0\n",
      "#Stocked_Scooters_((12,_10),_(12,_11)) = 13.0\n",
      "#Stocked_Scooters_((12,_11),_(12,_12)) = 14.0\n",
      "#Stocked_Scooters_((12,_12),_(12,_13)) = 14.0\n",
      "#Stocked_Scooters_((12,_13),_(12,_14)) = 15.0\n",
      "#Stocked_Scooters_((12,_14),_(12,_15)) = 13.0\n",
      "#Stocked_Scooters_((12,_15),_(12,_16)) = 4.0\n",
      "#Stocked_Scooters_((12,_16),_(12,_17)) = 2.0\n",
      "#Stocked_Scooters_((12,_17),_(12,_18)) = 1.0\n",
      "#Stocked_Scooters_((12,_2),_(12,_3)) = 1.0\n",
      "#Stocked_Scooters_((12,_3),_(12,_4)) = 1.0\n",
      "#Stocked_Scooters_((12,_7),_(12,_8)) = 1.0\n",
      "#Stocked_Scooters_((12,_8),_(12,_9)) = 4.0\n",
      "#Stocked_Scooters_((12,_9),_(12,_10)) = 11.0\n",
      "#Stocked_Scooters_((13,_0),_(13,_1)) = 4.0\n",
      "#Stocked_Scooters_((13,_1),_(13,_2)) = 4.0\n",
      "#Stocked_Scooters_((13,_10),_(13,_11)) = 6.0\n",
      "#Stocked_Scooters_((13,_11),_(13,_12)) = 7.0\n",
      "#Stocked_Scooters_((13,_12),_(13,_13)) = 7.0\n",
      "#Stocked_Scooters_((13,_13),_(13,_14)) = 7.0\n",
      "#Stocked_Scooters_((13,_14),_(13,_15)) = 4.0\n",
      "#Stocked_Scooters_((13,_2),_(13,_3)) = 4.0\n",
      "#Stocked_Scooters_((13,_3),_(13,_4)) = 4.0\n",
      "#Stocked_Scooters_((13,_4),_(13,_5)) = 1.0\n",
      "#Stocked_Scooters_((13,_6),_(13,_7)) = 2.0\n",
      "#Stocked_Scooters_((13,_9),_(13,_10)) = 3.0\n",
      "#Stocked_Scooters_((14,_0),_(14,_1)) = 5.0\n",
      "#Stocked_Scooters_((14,_1),_(14,_2)) = 5.0\n",
      "#Stocked_Scooters_((14,_10),_(14,_11)) = 3.0\n",
      "#Stocked_Scooters_((14,_11),_(14,_12)) = 3.0\n",
      "#Stocked_Scooters_((14,_12),_(14,_13)) = 3.0\n",
      "#Stocked_Scooters_((14,_13),_(14,_14)) = 3.0\n",
      "#Stocked_Scooters_((14,_14),_(14,_15)) = 2.0\n",
      "#Stocked_Scooters_((14,_2),_(14,_3)) = 5.0\n",
      "#Stocked_Scooters_((14,_3),_(14,_4)) = 5.0\n",
      "#Stocked_Scooters_((14,_4),_(14,_5)) = 3.0\n",
      "#Stocked_Scooters_((14,_9),_(14,_10)) = 2.0\n",
      "#Stocked_Scooters_((16,_0),_(16,_1)) = 13.0\n",
      "#Stocked_Scooters_((16,_1),_(16,_2)) = 18.0\n",
      "#Stocked_Scooters_((16,_11),_(16,_12)) = 2.0\n",
      "#Stocked_Scooters_((16,_12),_(16,_13)) = 1.0\n",
      "#Stocked_Scooters_((16,_17),_(16,_18)) = 3.0\n",
      "#Stocked_Scooters_((16,_2),_(16,_3)) = 18.0\n",
      "#Stocked_Scooters_((16,_3),_(16,_4)) = 19.0\n",
      "#Stocked_Scooters_((16,_4),_(16,_5)) = 9.0\n",
      "#Stocked_Scooters_((18,_0),_(18,_1)) = 4.0\n",
      "#Stocked_Scooters_((18,_1),_(18,_2)) = 4.0\n",
      "#Stocked_Scooters_((18,_10),_(18,_11)) = 6.0\n",
      "#Stocked_Scooters_((18,_11),_(18,_12)) = 7.0\n",
      "#Stocked_Scooters_((18,_12),_(18,_13)) = 7.0\n",
      "#Stocked_Scooters_((18,_13),_(18,_14)) = 8.0\n",
      "#Stocked_Scooters_((18,_14),_(18,_15)) = 5.0\n",
      "#Stocked_Scooters_((18,_15),_(18,_16)) = 2.0\n",
      "#Stocked_Scooters_((18,_16),_(18,_17)) = 2.0\n",
      "#Stocked_Scooters_((18,_17),_(18,_18)) = 2.0\n",
      "#Stocked_Scooters_((18,_2),_(18,_3)) = 3.0\n",
      "#Stocked_Scooters_((18,_3),_(18,_4)) = 2.0\n",
      "#Stocked_Scooters_((18,_9),_(18,_10)) = 4.0\n",
      "#Stocked_Scooters_((19,_0),_(19,_1)) = 15.0\n",
      "#Stocked_Scooters_((19,_1),_(19,_2)) = 17.0\n",
      "#Stocked_Scooters_((19,_10),_(19,_11)) = 4.0\n",
      "#Stocked_Scooters_((19,_11),_(19,_12)) = 5.0\n",
      "#Stocked_Scooters_((19,_12),_(19,_13)) = 3.0\n",
      "#Stocked_Scooters_((19,_13),_(19,_14)) = 1.0\n",
      "#Stocked_Scooters_((19,_17),_(19,_18)) = 1.0\n",
      "#Stocked_Scooters_((19,_2),_(19,_3)) = 17.0\n",
      "#Stocked_Scooters_((19,_3),_(19,_4)) = 18.0\n",
      "#Stocked_Scooters_((19,_4),_(19,_5)) = 9.0\n",
      "#Stocked_Scooters_((19,_5),_(19,_6)) = 1.0\n",
      "#Stocked_Scooters_((19,_9),_(19,_10)) = 1.0\n",
      "#Stocked_Scooters_((2,_0),_(2,_1)) = 1.0\n",
      "#Stocked_Scooters_((2,_1),_(2,_2)) = 1.0\n",
      "#Stocked_Scooters_((2,_10),_(2,_11)) = 8.0\n",
      "#Stocked_Scooters_((2,_11),_(2,_12)) = 8.0\n",
      "#Stocked_Scooters_((2,_12),_(2,_13)) = 8.0\n",
      "#Stocked_Scooters_((2,_13),_(2,_14)) = 8.0\n",
      "#Stocked_Scooters_((2,_14),_(2,_15)) = 7.0\n",
      "#Stocked_Scooters_((2,_15),_(2,_16)) = 3.0\n",
      "#Stocked_Scooters_((2,_2),_(2,_3)) = 1.0\n",
      "#Stocked_Scooters_((2,_3),_(2,_4)) = 1.0\n",
      "#Stocked_Scooters_((2,_8),_(2,_9)) = 3.0\n",
      "#Stocked_Scooters_((2,_9),_(2,_10)) = 7.0\n",
      "#Stocked_Scooters_((4,_0),_(4,_1)) = 2.0\n",
      "#Stocked_Scooters_((4,_1),_(4,_2)) = 3.0\n",
      "#Stocked_Scooters_((4,_10),_(4,_11)) = 2.0\n",
      "#Stocked_Scooters_((4,_11),_(4,_12)) = 2.0\n",
      "#Stocked_Scooters_((4,_12),_(4,_13)) = 2.0\n",
      "#Stocked_Scooters_((4,_13),_(4,_14)) = 2.0\n",
      "#Stocked_Scooters_((4,_14),_(4,_15)) = 1.0\n",
      "#Stocked_Scooters_((4,_17),_(4,_18)) = 2.0\n",
      "#Stocked_Scooters_((4,_2),_(4,_3)) = 2.0\n",
      "#Stocked_Scooters_((4,_3),_(4,_4)) = 2.0\n",
      "#Stocked_Scooters_((6,_0),_(6,_1)) = 1.0\n",
      "#Stocked_Scooters_((6,_1),_(6,_2)) = 2.0\n",
      "#Stocked_Scooters_((6,_10),_(6,_11)) = 3.0\n",
      "#Stocked_Scooters_((6,_11),_(6,_12)) = 3.0\n",
      "#Stocked_Scooters_((6,_12),_(6,_13)) = 3.0\n",
      "#Stocked_Scooters_((6,_13),_(6,_14)) = 3.0\n",
      "#Stocked_Scooters_((6,_14),_(6,_15)) = 3.0\n",
      "#Stocked_Scooters_((6,_15),_(6,_16)) = 2.0\n",
      "#Stocked_Scooters_((6,_2),_(6,_3)) = 2.0\n",
      "#Stocked_Scooters_((6,_3),_(6,_4)) = 2.0\n",
      "#Stocked_Scooters_((6,_8),_(6,_9)) = 2.0\n",
      "#Stocked_Scooters_((6,_9),_(6,_10)) = 3.0\n",
      "#Stocked_Scooters_((9,_1),_(9,_2)) = 1.0\n",
      "#Stocked_Scooters_((9,_10),_(9,_11)) = 5.0\n",
      "#Stocked_Scooters_((9,_11),_(9,_12)) = 6.0\n",
      "#Stocked_Scooters_((9,_12),_(9,_13)) = 6.0\n",
      "#Stocked_Scooters_((9,_13),_(9,_14)) = 6.0\n",
      "#Stocked_Scooters_((9,_14),_(9,_15)) = 4.0\n",
      "#Stocked_Scooters_((9,_15),_(9,_16)) = 2.0\n",
      "#Stocked_Scooters_((9,_2),_(9,_3)) = 1.0\n",
      "#Stocked_Scooters_((9,_3),_(9,_4)) = 1.0\n",
      "#Stocked_Scooters_((9,_8),_(9,_9)) = 2.0\n",
      "#Stocked_Scooters_((9,_9),_(9,_10)) = 4.0\n",
      "#Used_Scooters_((12,_14),_(16,_15)) = 3.0\n",
      "#Used_Scooters_((12,_15),_(14,_16)) = 1.0\n",
      "#Used_Scooters_((12,_15),_(16,_16)) = 6.0\n",
      "#Used_Scooters_((12,_15),_(19,_16)) = 1.0\n",
      "#Used_Scooters_((12,_15),_(9,_16)) = 1.0\n",
      "#Used_Scooters_((12,_16),_(14,_17)) = 1.0\n",
      "#Used_Scooters_((12,_16),_(19,_17)) = 1.0\n",
      "#Used_Scooters_((12,_17),_(14,_18)) = 1.0\n",
      "#Used_Scooters_((12,_17),_(19,_18)) = 1.0\n",
      "#Used_Scooters_((12,_4),_(16,_5)) = 1.0\n",
      "#Used_Scooters_((12,_5),_(16,_6)) = 1.0\n",
      "#Used_Scooters_((12,_6),_(16,_7)) = 1.0\n",
      "#Used_Scooters_((12,_7),_(9,_8)) = 1.0\n",
      "#Used_Scooters_((13,_0),_(19,_1)) = 1.0\n",
      "#Used_Scooters_((13,_14),_(16,_15)) = 1.0\n",
      "#Used_Scooters_((13,_14),_(19,_15)) = 2.0\n",
      "#Used_Scooters_((13,_15),_(16,_16)) = 3.0\n",
      "#Used_Scooters_((13,_15),_(19,_16)) = 3.0\n",
      "#Used_Scooters_((13,_15),_(6,_16)) = 1.0\n",
      "#Used_Scooters_((13,_16),_(16,_17)) = 4.0\n",
      "#Used_Scooters_((13,_16),_(6,_17)) = 1.0\n",
      "#Used_Scooters_((13,_17),_(16,_18)) = 2.0\n",
      "#Used_Scooters_((13,_17),_(19,_18)) = 4.0\n",
      "#Used_Scooters_((13,_17),_(6,_18)) = 1.0\n",
      "#Used_Scooters_((13,_4),_(19,_5)) = 1.0\n",
      "#Used_Scooters_((13,_4),_(4,_5)) = 1.0\n",
      "#Used_Scooters_((13,_4),_(6,_5)) = 1.0\n",
      "#Used_Scooters_((13,_5),_(19,_6)) = 2.0\n",
      "#Used_Scooters_((13,_5),_(6,_6)) = 2.0\n",
      "#Used_Scooters_((13,_6),_(19,_7)) = 2.0\n",
      "#Used_Scooters_((13,_6),_(4,_7)) = 1.0\n",
      "#Used_Scooters_((13,_6),_(6,_7)) = 2.0\n",
      "#Used_Scooters_((13,_7),_(19,_8)) = 3.0\n",
      "#Used_Scooters_((13,_7),_(4,_8)) = 1.0\n",
      "#Used_Scooters_((13,_7),_(6,_8)) = 3.0\n",
      "#Used_Scooters_((13,_8),_(19,_9)) = 2.0\n",
      "#Used_Scooters_((13,_8),_(4,_9)) = 1.0\n",
      "#Used_Scooters_((13,_8),_(6,_9)) = 2.0\n",
      "#Used_Scooters_((13,_9),_(19,_10)) = 1.0\n",
      "#Used_Scooters_((13,_9),_(6,_10)) = 1.0\n",
      "#Used_Scooters_((14,_14),_(19,_15)) = 1.0\n",
      "#Used_Scooters_((14,_15),_(19,_16)) = 2.0\n",
      "#Used_Scooters_((14,_15),_(9,_16)) = 1.0\n",
      "#Used_Scooters_((14,_16),_(18,_17)) = 1.0\n",
      "#Used_Scooters_((14,_16),_(19,_17)) = 3.0\n",
      "#Used_Scooters_((14,_16),_(9,_17)) = 1.0\n",
      "#Used_Scooters_((14,_17),_(19,_18)) = 2.0\n",
      "#Used_Scooters_((14,_17),_(9,_18)) = 1.0\n",
      "#Used_Scooters_((14,_4),_(16,_5)) = 1.0\n",
      "#Used_Scooters_((14,_4),_(9,_5)) = 1.0\n",
      "#Used_Scooters_((14,_5),_(12,_6)) = 1.0755286e-14\n",
      "#Used_Scooters_((14,_5),_(16,_6)) = 1.0\n",
      "#Used_Scooters_((14,_5),_(19,_6)) = 1.0\n",
      "#Used_Scooters_((14,_5),_(9,_6)) = 2.0\n",
      "#Used_Scooters_((14,_6),_(16,_7)) = 1.0\n",
      "#Used_Scooters_((14,_6),_(18,_7)) = 1.0\n",
      "#Used_Scooters_((14,_6),_(19,_7)) = 1.0\n",
      "#Used_Scooters_((14,_6),_(9,_7)) = 2.0\n",
      "#Used_Scooters_((14,_7),_(12,_8)) = 1.0\n",
      "#Used_Scooters_((14,_7),_(16,_8)) = 1.0\n",
      "#Used_Scooters_((14,_7),_(19,_8)) = 1.0\n",
      "#Used_Scooters_((14,_8),_(12,_9)) = 1.0\n",
      "#Used_Scooters_((14,_8),_(16,_9)) = 1.0\n",
      "#Used_Scooters_((14,_8),_(18,_9)) = 1.0\n",
      "#Used_Scooters_((14,_8),_(19,_9)) = 1.0\n",
      "#Used_Scooters_((14,_8),_(9,_9)) = 1.0\n",
      "#Used_Scooters_((14,_9),_(9,_10)) = 1.0\n",
      "#Used_Scooters_((16,_0),_(19,_1)) = 1.0\n",
      "#Used_Scooters_((16,_0),_(9,_1)) = 1.0\n",
      "#Used_Scooters_((16,_1),_(19,_2)) = 1.0\n",
      "#Used_Scooters_((16,_10),_(12,_11)) = 1.0\n",
      "#Used_Scooters_((16,_10),_(9,_11)) = 1.0\n",
      "#Used_Scooters_((16,_12),_(12,_13)) = 1.0\n",
      "#Used_Scooters_((16,_12),_(19,_13)) = 1.0\n",
      "#Used_Scooters_((16,_13),_(12,_14)) = 1.0\n",
      "#Used_Scooters_((16,_13),_(19,_14)) = 1.0\n",
      "#Used_Scooters_((16,_14),_(9,_15)) = 1.0\n",
      "#Used_Scooters_((16,_15),_(14,_16)) = 1.0\n",
      "#Used_Scooters_((16,_15),_(18,_16)) = 1.0\n",
      "#Used_Scooters_((16,_15),_(19,_16)) = 3.0\n",
      "#Used_Scooters_((16,_15),_(9,_16)) = 1.0\n",
      "#Used_Scooters_((16,_16),_(14,_17)) = 1.0\n",
      "#Used_Scooters_((16,_16),_(18,_17)) = 1.0\n",
      "#Used_Scooters_((16,_16),_(19,_17)) = 5.0\n",
      "#Used_Scooters_((16,_16),_(2,_17)) = 1.0\n",
      "#Used_Scooters_((16,_16),_(4,_17)) = 1.0\n",
      "#Used_Scooters_((16,_16),_(9,_17)) = 1.0\n",
      "#Used_Scooters_((16,_17),_(14,_18)) = 1.0\n",
      "#Used_Scooters_((16,_17),_(18,_18)) = 1.0\n",
      "#Used_Scooters_((16,_17),_(19,_18)) = 3.0\n",
      "#Used_Scooters_((16,_17),_(9,_18)) = 1.0\n",
      "#Used_Scooters_((16,_2),_(19,_3)) = 1.0\n",
      "#Used_Scooters_((16,_3),_(19,_4)) = 1.0\n",
      "#Used_Scooters_((16,_4),_(12,_5)) = 1.0\n",
      "#Used_Scooters_((16,_4),_(13,_5)) = 1.0\n",
      "#Used_Scooters_((16,_4),_(19,_5)) = 4.0\n",
      "#Used_Scooters_((16,_4),_(2,_5)) = 1.0\n",
      "#Used_Scooters_((16,_4),_(4,_5)) = 2.0\n",
      "#Used_Scooters_((16,_4),_(6,_5)) = 2.0\n",
      "#Used_Scooters_((16,_5),_(13,_6)) = 2.0\n",
      "#Used_Scooters_((16,_5),_(14,_6)) = 2.0\n",
      "#Used_Scooters_((16,_5),_(19,_6)) = 9.0\n",
      "#Used_Scooters_((16,_5),_(4,_6)) = 3.0\n",
      "#Used_Scooters_((16,_5),_(6,_6)) = 2.0\n",
      "#Used_Scooters_((16,_6),_(19,_7)) = 7.0\n",
      "#Used_Scooters_((16,_6),_(4,_7)) = 2.0\n",
      "#Used_Scooters_((16,_6),_(6,_7)) = 2.0\n",
      "#Used_Scooters_((16,_7),_(13,_8)) = 4.0\n",
      "#Used_Scooters_((16,_7),_(19,_8)) = 7.0\n",
      "#Used_Scooters_((16,_8),_(12,_9)) = 4.0\n",
      "#Used_Scooters_((16,_8),_(19,_9)) = 6.0\n",
      "#Used_Scooters_((16,_9),_(12,_10)) = 2.0\n",
      "#Used_Scooters_((16,_9),_(13,_10)) = 1.0\n",
      "#Used_Scooters_((16,_9),_(19,_10)) = 3.0\n",
      "#Used_Scooters_((18,_0),_(19,_1)) = 1.0\n",
      "#Used_Scooters_((18,_14),_(16,_15)) = 2.0\n",
      "#Used_Scooters_((18,_14),_(19,_15)) = 2.0\n",
      "#Used_Scooters_((18,_15),_(14,_16)) = 1.0\n",
      "#Used_Scooters_((18,_15),_(19,_16)) = 1.0\n",
      "#Used_Scooters_((18,_15),_(2,_16)) = 1.0\n",
      "#Used_Scooters_((18,_16),_(2,_17)) = 1.0\n",
      "#Used_Scooters_((18,_16),_(6,_17)) = 1.0\n",
      "#Used_Scooters_((18,_16),_(9,_17)) = 1.0\n",
      "#Used_Scooters_((18,_17),_(14,_18)) = 1.0\n",
      "#Used_Scooters_((18,_17),_(19,_18)) = 4.0\n",
      "#Used_Scooters_((18,_17),_(2,_18)) = 1.0\n",
      "#Used_Scooters_((18,_2),_(19,_3)) = 1.0\n",
      "#Used_Scooters_((18,_3),_(19,_4)) = 1.0\n",
      "#Used_Scooters_((18,_4),_(16,_5)) = 1.0\n",
      "#Used_Scooters_((18,_4),_(19,_5)) = 1.0\n",
      "#Used_Scooters_((18,_5),_(16,_6)) = 1.0\n",
      "#Used_Scooters_((18,_5),_(19,_6)) = 1.0\n",
      "#Used_Scooters_((18,_5),_(2,_6)) = 1.0\n",
      "#Used_Scooters_((18,_6),_(16,_7)) = 1.0\n",
      "#Used_Scooters_((18,_6),_(19,_7)) = 1.0\n",
      "#Used_Scooters_((18,_6),_(2,_7)) = 1.0\n",
      "#Used_Scooters_((18,_7),_(14,_8)) = 1.0\n",
      "#Used_Scooters_((18,_7),_(16,_8)) = 1.0\n",
      "#Used_Scooters_((18,_7),_(19,_8)) = 1.0\n",
      "#Used_Scooters_((18,_7),_(2,_8)) = 1.0\n",
      "#Used_Scooters_((18,_7),_(6,_8)) = 1.0\n",
      "#Used_Scooters_((18,_7),_(9,_8)) = 1.0\n",
      "#Used_Scooters_((18,_8),_(16,_9)) = 1.0\n",
      "#Used_Scooters_((18,_8),_(19,_9)) = 1.0\n",
      "#Used_Scooters_((18,_8),_(2,_9)) = 1.0\n",
      "#Used_Scooters_((19,_0),_(16,_1)) = 2.0\n",
      "#Used_Scooters_((19,_0),_(4,_1)) = 1.0\n",
      "#Used_Scooters_((19,_0),_(6,_1)) = 1.0\n",
      "#Used_Scooters_((19,_1),_(16,_2)) = 1.0\n",
      "#Used_Scooters_((19,_10),_(13,_11)) = 1.0\n",
      "#Used_Scooters_((19,_10),_(16,_11)) = 1.0\n",
      "#Used_Scooters_((19,_10),_(18,_11)) = 1.0\n",
      "#Used_Scooters_((19,_11),_(16,_12)) = 1.0\n",
      "#Used_Scooters_((19,_12),_(16,_13)) = 1.0\n",
      "#Used_Scooters_((19,_12),_(18,_13)) = 1.0\n",
      "#Used_Scooters_((19,_13),_(16,_14)) = 1.0\n",
      "#Used_Scooters_((19,_13),_(18,_14)) = 1.0\n",
      "#Used_Scooters_((19,_13),_(6,_14)) = 1.0\n",
      "#Used_Scooters_((19,_14),_(13,_15)) = 1.0\n",
      "#Used_Scooters_((19,_14),_(6,_15)) = 1.0\n",
      "#Used_Scooters_((19,_15),_(13,_16)) = 2.0\n",
      "#Used_Scooters_((19,_15),_(14,_16)) = 1.0\n",
      "#Used_Scooters_((19,_15),_(16,_16)) = 1.0\n",
      "#Used_Scooters_((19,_15),_(18,_16)) = 1.0\n",
      "#Used_Scooters_((19,_15),_(4,_16)) = 1.0\n",
      "#Used_Scooters_((19,_15),_(6,_16)) = 1.0\n",
      "#Used_Scooters_((19,_16),_(13,_17)) = 3.0\n",
      "#Used_Scooters_((19,_16),_(14,_17)) = 1.0\n",
      "#Used_Scooters_((19,_16),_(16,_17)) = 5.0\n",
      "#Used_Scooters_((19,_16),_(18,_17)) = 1.0\n",
      "#Used_Scooters_((19,_16),_(4,_17)) = 2.0\n",
      "#Used_Scooters_((19,_16),_(6,_17)) = 2.0\n",
      "#Used_Scooters_((19,_17),_(13,_18)) = 2.0\n",
      "#Used_Scooters_((19,_17),_(14,_18)) = 1.0\n",
      "#Used_Scooters_((19,_17),_(16,_18)) = 8.0\n",
      "#Used_Scooters_((19,_17),_(18,_18)) = 1.0\n",
      "#Used_Scooters_((19,_17),_(4,_18)) = 1.0\n",
      "#Used_Scooters_((19,_17),_(6,_18)) = 1.0\n",
      "#Used_Scooters_((19,_2),_(16,_3)) = 1.0\n",
      "#Used_Scooters_((19,_3),_(16,_4)) = 1.0\n",
      "#Used_Scooters_((19,_4),_(13,_5)) = 2.0\n",
      "#Used_Scooters_((19,_4),_(14,_5)) = 1.0\n",
      "#Used_Scooters_((19,_4),_(16,_5)) = 2.0\n",
      "#Used_Scooters_((19,_4),_(18,_5)) = 3.0\n",
      "#Used_Scooters_((19,_4),_(2,_5)) = 1.0\n",
      "#Used_Scooters_((19,_4),_(6,_5)) = 1.0\n",
      "#Used_Scooters_((19,_4),_(9,_5)) = 1.0\n",
      "#Used_Scooters_((19,_5),_(12,_6)) = 1.0\n",
      "#Used_Scooters_((19,_5),_(13,_6)) = 4.0\n",
      "#Used_Scooters_((19,_5),_(14,_6)) = 2.0\n",
      "#Used_Scooters_((19,_5),_(16,_6)) = 4.0\n",
      "#Used_Scooters_((19,_5),_(18,_6)) = 2.0\n",
      "#Used_Scooters_((19,_5),_(2,_6)) = 1.0\n",
      "#Used_Scooters_((19,_5),_(9,_6)) = 2.0\n",
      "#Used_Scooters_((19,_6),_(12,_7)) = 1.0\n",
      "#Used_Scooters_((19,_6),_(13,_7)) = 4.0\n",
      "#Used_Scooters_((19,_6),_(14,_7)) = 2.0\n",
      "#Used_Scooters_((19,_6),_(16,_7)) = 4.0\n",
      "#Used_Scooters_((19,_6),_(18,_7)) = 4.0\n",
      "#Used_Scooters_((19,_6),_(2,_7)) = 1.0\n",
      "#Used_Scooters_((19,_6),_(9,_7)) = 2.0\n",
      "#Used_Scooters_((19,_7),_(12,_8)) = 1.0\n",
      "#Used_Scooters_((19,_7),_(14,_8)) = 3.0\n",
      "#Used_Scooters_((19,_7),_(16,_8)) = 5.0\n",
      "#Used_Scooters_((19,_7),_(2,_8)) = 3.0\n",
      "#Used_Scooters_((19,_7),_(9,_8)) = 3.0\n",
      "#Used_Scooters_((19,_8),_(12,_9)) = 1.0\n",
      "#Used_Scooters_((19,_8),_(13,_9)) = 4.0\n",
      "#Used_Scooters_((19,_8),_(14,_9)) = 2.0\n",
      "#Used_Scooters_((19,_8),_(16,_9)) = 3.0\n",
      "#Used_Scooters_((19,_8),_(18,_9)) = 2.0\n",
      "#Used_Scooters_((19,_8),_(2,_9)) = 2.0\n",
      "#Used_Scooters_((19,_8),_(9,_9)) = 2.0\n",
      "#Used_Scooters_((19,_9),_(13,_10)) = 2.0\n",
      "#Used_Scooters_((19,_9),_(14,_10)) = 1.0\n",
      "#Used_Scooters_((19,_9),_(16,_10)) = 1.0\n",
      "#Used_Scooters_((19,_9),_(18,_10)) = 2.0\n",
      "#Used_Scooters_((19,_9),_(2,_10)) = 1.0\n",
      "#Used_Scooters_((19,_9),_(4,_10)) = 3.0\n",
      "#Used_Scooters_((19,_9),_(9,_10)) = 1.0\n",
      "#Used_Scooters_((2,_14),_(19,_15)) = 1.0\n",
      "#Used_Scooters_((2,_15),_(18,_16)) = 1.0\n",
      "#Used_Scooters_((2,_15),_(19,_16)) = 2.0\n",
      "#Used_Scooters_((2,_15),_(9,_16)) = 1.0\n",
      "#Used_Scooters_((2,_16),_(18,_17)) = 1.0\n",
      "#Used_Scooters_((2,_16),_(19,_17)) = 3.0\n",
      "#Used_Scooters_((2,_17),_(18,_18)) = 1.0\n",
      "#Used_Scooters_((2,_17),_(19,_18)) = 2.0\n",
      "#Used_Scooters_((2,_4),_(16,_5)) = 1.0\n",
      "#Used_Scooters_((2,_5),_(16,_6)) = 1.0\n",
      "#Used_Scooters_((2,_5),_(18,_6)) = 1.0\n",
      "#Used_Scooters_((2,_6),_(16,_7)) = 1.0\n",
      "#Used_Scooters_((2,_6),_(18,_7)) = 1.0\n",
      "#Used_Scooters_((2,_7),_(16,_8)) = 1.0\n",
      "#Used_Scooters_((2,_7),_(18,_8)) = 1.0\n",
      "#Used_Scooters_((2,_7),_(9,_8)) = 1.0\n",
      "#Used_Scooters_((2,_8),_(18,_9)) = 1.0\n",
      "#Used_Scooters_((4,_0),_(16,_1)) = 1.0\n",
      "#Used_Scooters_((4,_10),_(19,_11)) = 1.0\n",
      "#Used_Scooters_((4,_14),_(13,_15)) = 1.0\n",
      "#Used_Scooters_((4,_15),_(13,_16)) = 1.0\n",
      "#Used_Scooters_((4,_16),_(13,_17)) = 1.0\n",
      "#Used_Scooters_((4,_17),_(13,_18)) = 1.0\n",
      "#Used_Scooters_((4,_2),_(16,_3)) = 1.0\n",
      "#Used_Scooters_((4,_4),_(16,_5)) = 1.0\n",
      "#Used_Scooters_((4,_4),_(19,_5)) = 1.0\n",
      "#Used_Scooters_((4,_5),_(16,_6)) = 1.0\n",
      "#Used_Scooters_((4,_5),_(19,_6)) = 2.0\n",
      "#Used_Scooters_((4,_6),_(16,_7)) = 1.0\n",
      "#Used_Scooters_((4,_6),_(19,_7)) = 2.0\n",
      "#Used_Scooters_((4,_7),_(16,_8)) = 1.0\n",
      "#Used_Scooters_((4,_7),_(19,_8)) = 2.0\n",
      "#Used_Scooters_((4,_8),_(19,_9)) = 1.0\n",
      "#Used_Scooters_((4,_9),_(19,_10)) = 1.0\n",
      "#Used_Scooters_((6,_0),_(16,_1)) = 1.0\n",
      "#Used_Scooters_((6,_10),_(19,_11)) = 1.0\n",
      "#Used_Scooters_((6,_14),_(13,_15)) = 1.0\n",
      "#Used_Scooters_((6,_15),_(13,_16)) = 2.0\n",
      "#Used_Scooters_((6,_16),_(13,_17)) = 3.0\n",
      "#Used_Scooters_((6,_16),_(18,_17)) = 1.0\n",
      "#Used_Scooters_((6,_17),_(13,_18)) = 2.0\n",
      "#Used_Scooters_((6,_17),_(16,_18)) = 2.0\n",
      "#Used_Scooters_((6,_4),_(16,_5)) = 1.0\n",
      "#Used_Scooters_((6,_4),_(19,_5)) = 1.0\n",
      "#Used_Scooters_((6,_5),_(13,_6)) = 1.0\n",
      "#Used_Scooters_((6,_5),_(16,_6)) = 1.0\n",
      "#Used_Scooters_((6,_5),_(19,_6)) = 2.0\n",
      "#Used_Scooters_((6,_6),_(13,_7)) = 1.0\n",
      "#Used_Scooters_((6,_6),_(16,_7)) = 1.0\n",
      "#Used_Scooters_((6,_6),_(19,_7)) = 2.0\n",
      "#Used_Scooters_((6,_7),_(13,_8)) = 1.0\n",
      "#Used_Scooters_((6,_7),_(18,_8)) = 1.0\n",
      "#Used_Scooters_((6,_7),_(19,_8)) = 2.0\n",
      "#Used_Scooters_((6,_8),_(13,_9)) = 1.0\n",
      "#Used_Scooters_((6,_8),_(19,_9)) = 1.0\n",
      "#Used_Scooters_((6,_9),_(19,_10)) = 1.0\n",
      "#Used_Scooters_((9,_0),_(16,_1)) = 2.0\n",
      "#Used_Scooters_((9,_10),_(16,_11)) = 1.0\n",
      "#Used_Scooters_((9,_14),_(14,_15)) = 1.0\n",
      "#Used_Scooters_((9,_14),_(19,_15)) = 1.0\n",
      "#Used_Scooters_((9,_15),_(14,_16)) = 1.0\n",
      "#Used_Scooters_((9,_15),_(19,_16)) = 2.0\n",
      "#Used_Scooters_((9,_16),_(12,_17)) = 1.0\n",
      "#Used_Scooters_((9,_16),_(18,_17)) = 1.0\n",
      "#Used_Scooters_((9,_16),_(19,_17)) = 3.0\n",
      "#Used_Scooters_((9,_16),_(2,_17)) = 1.0\n",
      "#Used_Scooters_((9,_17),_(14,_18)) = 1.0\n",
      "#Used_Scooters_((9,_17),_(19,_18)) = 2.0\n",
      "#Used_Scooters_((9,_4),_(16,_5)) = 1.0\n",
      "#Used_Scooters_((9,_5),_(14,_6)) = 1.0\n",
      "#Used_Scooters_((9,_5),_(16,_6)) = 1.0\n",
      "#Used_Scooters_((9,_6),_(12,_7)) = 1.0\n",
      "#Used_Scooters_((9,_6),_(14,_7)) = 1.0\n",
      "#Used_Scooters_((9,_6),_(16,_7)) = 1.0\n",
      "#Used_Scooters_((9,_6),_(2,_7)) = 1.0\n",
      "#Used_Scooters_((9,_7),_(12,_8)) = 1.0\n",
      "#Used_Scooters_((9,_7),_(14,_8)) = 1.0\n",
      "#Used_Scooters_((9,_7),_(16,_8)) = 1.0\n",
      "#Used_Scooters_((9,_7),_(18,_8)) = 1.0\n",
      "#Used_Scooters_((9,_8),_(12,_9)) = 1.0\n",
      "#Used_Scooters_((9,_8),_(14,_9)) = 1.0\n",
      "#Used_Scooters_((9,_8),_(16,_9)) = 1.0\n",
      "#Used_Scooters_((9,_8),_(2,_9)) = 1.0\n",
      "#Used_Scooters_((9,_9),_(16,_10)) = 1.0\n",
      "Size_12 = 16.0\n",
      "Size_13 = 7.0\n",
      "Size_14 = 5.0\n",
      "Size_16 = 20.0\n",
      "Size_18 = 9.0\n",
      "Size_19 = 20.0\n",
      "Size_2 = 8.0\n",
      "Size_4 = 3.0\n",
      "Size_6 = 4.0\n",
      "Size_9 = 6.0\n",
      "Station_Presence_12 = 1.0\n",
      "Station_Presence_13 = 1.0\n",
      "Station_Presence_14 = 1.0\n",
      "Station_Presence_16 = 1.0\n",
      "Station_Presence_18 = 1.0\n",
      "Station_Presence_19 = 1.0\n",
      "Station_Presence_2 = 1.0\n",
      "Station_Presence_4 = 1.0\n",
      "Station_Presence_6 = 1.0\n",
      "Station_Presence_9 = 1.0\n"
     ]
    }
   ],
   "source": [
    "for v in problem.variables():\n",
    "    if v.varValue>0:\n",
    "        print(v.name, \"=\", v.varValue)"
   ]
  },
  {
   "cell_type": "code",
   "execution_count": 25,
   "metadata": {},
   "outputs": [
    {
     "output_type": "execute_result",
     "data": {
      "text/plain": [
       "135463.83435079962"
      ]
     },
     "metadata": {},
     "execution_count": 25
    }
   ],
   "source": [
    "value(problem.objective)"
   ]
  },
  {
   "cell_type": "code",
   "execution_count": 26,
   "metadata": {},
   "outputs": [],
   "source": [
    "# f = open(\"obj.txt\", \"w+\")\n",
    "# print(problem.objective, file=f)\n",
    "# f.close()"
   ]
  },
  {
   "cell_type": "code",
   "execution_count": 27,
   "metadata": {},
   "outputs": [],
   "source": [
    "# Extracting the results\n",
    "#(idx, LpVariable)\n",
    "size_list = []\n",
    "for _,v in Zi.items():\n",
    "    size_list.append(v.value())  "
   ]
  },
  {
   "cell_type": "code",
   "execution_count": 28,
   "metadata": {},
   "outputs": [],
   "source": [
    "station_list = []\n",
    "for _,v in Yi.items():\n",
    "    station_list.append(v.value()) "
   ]
  },
  {
   "cell_type": "code",
   "execution_count": 29,
   "metadata": {},
   "outputs": [
    {
     "output_type": "execute_result",
     "data": {
      "text/plain": [
       "                         Location  Station  Size\n",
       "0           Balgreen and Roseburn      0.0   0.0\n",
       "1                       Blackhall      0.0   0.0\n",
       "2  Broughton North and Powderhall      1.0   8.0\n",
       "3                 Broughton South      0.0   0.0\n",
       "4                     Bruntsfield      1.0   3.0"
      ],
      "text/html": "<div>\n<style scoped>\n    .dataframe tbody tr th:only-of-type {\n        vertical-align: middle;\n    }\n\n    .dataframe tbody tr th {\n        vertical-align: top;\n    }\n\n    .dataframe thead th {\n        text-align: right;\n    }\n</style>\n<table border=\"1\" class=\"dataframe\">\n  <thead>\n    <tr style=\"text-align: right;\">\n      <th></th>\n      <th>Location</th>\n      <th>Station</th>\n      <th>Size</th>\n    </tr>\n  </thead>\n  <tbody>\n    <tr>\n      <th>0</th>\n      <td>Balgreen and Roseburn</td>\n      <td>0.0</td>\n      <td>0.0</td>\n    </tr>\n    <tr>\n      <th>1</th>\n      <td>Blackhall</td>\n      <td>0.0</td>\n      <td>0.0</td>\n    </tr>\n    <tr>\n      <th>2</th>\n      <td>Broughton North and Powderhall</td>\n      <td>1.0</td>\n      <td>8.0</td>\n    </tr>\n    <tr>\n      <th>3</th>\n      <td>Broughton South</td>\n      <td>0.0</td>\n      <td>0.0</td>\n    </tr>\n    <tr>\n      <th>4</th>\n      <td>Bruntsfield</td>\n      <td>1.0</td>\n      <td>3.0</td>\n    </tr>\n  </tbody>\n</table>\n</div>"
     },
     "metadata": {},
     "execution_count": 29
    }
   ],
   "source": [
    "df_results = pd.DataFrame(list(zip(locations, station_list, size_list)), columns=[\"Location\",\"Station\", \"Size\"])\n",
    "df_results.head()"
   ]
  },
  {
   "cell_type": "code",
   "execution_count": 30,
   "metadata": {},
   "outputs": [],
   "source": [
    "df_results.to_csv(\"results-reduced.csv\", index=False)"
   ]
  },
  {
   "cell_type": "code",
   "execution_count": 31,
   "metadata": {
    "tags": []
   },
   "outputs": [
    {
     "output_type": "stream",
     "name": "stdout",
     "text": [
      "(0, 0), (0, 1)=0.0\n(0, 1), (0, 2)=0.0\n(0, 2), (0, 3)=0.0\n(0, 3), (0, 4)=0.0\n(0, 4), (0, 5)=0.0\n(0, 5), (0, 6)=0.0\n(0, 6), (0, 7)=0.0\n(0, 7), (0, 8)=0.0\n(0, 8), (0, 9)=0.0\n(0, 9), (0, 10)=0.0\n(0, 10), (0, 11)=0.0\n(0, 11), (0, 12)=0.0\n(0, 12), (0, 13)=0.0\n(0, 13), (0, 14)=0.0\n(0, 14), (0, 15)=0.0\n(0, 15), (0, 16)=0.0\n(0, 16), (0, 17)=0.0\n(0, 17), (0, 18)=0.0\n(1, 0), (1, 1)=0.0\n(1, 1), (1, 2)=0.0\n(1, 2), (1, 3)=0.0\n(1, 3), (1, 4)=0.0\n(1, 4), (1, 5)=0.0\n(1, 5), (1, 6)=0.0\n(1, 6), (1, 7)=0.0\n(1, 7), (1, 8)=0.0\n(1, 8), (1, 9)=0.0\n(1, 9), (1, 10)=0.0\n(1, 10), (1, 11)=0.0\n(1, 11), (1, 12)=0.0\n(1, 12), (1, 13)=0.0\n(1, 13), (1, 14)=0.0\n(1, 14), (1, 15)=0.0\n(1, 15), (1, 16)=0.0\n(1, 16), (1, 17)=0.0\n(1, 17), (1, 18)=0.0\n(2, 0), (2, 1)=1.0\n(2, 1), (2, 2)=1.0\n(2, 2), (2, 3)=1.0\n(2, 3), (2, 4)=1.0\n(2, 4), (2, 5)=0.0\n(2, 5), (2, 6)=0.0\n(2, 6), (2, 7)=0.0\n(2, 7), (2, 8)=0.0\n(2, 8), (2, 9)=3.0\n(2, 9), (2, 10)=7.0\n(2, 10), (2, 11)=8.0\n(2, 11), (2, 12)=8.0\n(2, 12), (2, 13)=8.0\n(2, 13), (2, 14)=8.0\n(2, 14), (2, 15)=7.0\n(2, 15), (2, 16)=3.0\n(2, 16), (2, 17)=0.0\n(2, 17), (2, 18)=0.0\n(3, 0), (3, 1)=0.0\n(3, 1), (3, 2)=0.0\n(3, 2), (3, 3)=0.0\n(3, 3), (3, 4)=0.0\n(3, 4), (3, 5)=0.0\n(3, 5), (3, 6)=0.0\n(3, 6), (3, 7)=0.0\n(3, 7), (3, 8)=0.0\n(3, 8), (3, 9)=0.0\n(3, 9), (3, 10)=0.0\n(3, 10), (3, 11)=0.0\n(3, 11), (3, 12)=0.0\n(3, 12), (3, 13)=0.0\n(3, 13), (3, 14)=0.0\n(3, 14), (3, 15)=0.0\n(3, 15), (3, 16)=0.0\n(3, 16), (3, 17)=0.0\n(3, 17), (3, 18)=0.0\n(4, 0), (4, 1)=2.0\n(4, 1), (4, 2)=3.0\n(4, 2), (4, 3)=2.0\n(4, 3), (4, 4)=2.0\n(4, 4), (4, 5)=0.0\n(4, 5), (4, 6)=0.0\n(4, 6), (4, 7)=0.0\n(4, 7), (4, 8)=0.0\n(4, 8), (4, 9)=0.0\n(4, 9), (4, 10)=0.0\n(4, 10), (4, 11)=2.0\n(4, 11), (4, 12)=2.0\n(4, 12), (4, 13)=2.0\n(4, 13), (4, 14)=2.0\n(4, 14), (4, 15)=1.0\n(4, 15), (4, 16)=0.0\n(4, 16), (4, 17)=0.0\n(4, 17), (4, 18)=2.0\n(5, 0), (5, 1)=0.0\n(5, 1), (5, 2)=0.0\n(5, 2), (5, 3)=0.0\n(5, 3), (5, 4)=0.0\n(5, 4), (5, 5)=0.0\n(5, 5), (5, 6)=0.0\n(5, 6), (5, 7)=0.0\n(5, 7), (5, 8)=0.0\n(5, 8), (5, 9)=0.0\n(5, 9), (5, 10)=0.0\n(5, 10), (5, 11)=0.0\n(5, 11), (5, 12)=0.0\n(5, 12), (5, 13)=0.0\n(5, 13), (5, 14)=0.0\n(5, 14), (5, 15)=0.0\n(5, 15), (5, 16)=0.0\n(5, 16), (5, 17)=0.0\n(5, 17), (5, 18)=0.0\n(6, 0), (6, 1)=1.0\n(6, 1), (6, 2)=2.0\n(6, 2), (6, 3)=2.0\n(6, 3), (6, 4)=2.0\n(6, 4), (6, 5)=0.0\n(6, 5), (6, 6)=0.0\n(6, 6), (6, 7)=0.0\n(6, 7), (6, 8)=0.0\n(6, 8), (6, 9)=2.0\n(6, 9), (6, 10)=3.0\n(6, 10), (6, 11)=3.0\n(6, 11), (6, 12)=3.0\n(6, 12), (6, 13)=3.0\n(6, 13), (6, 14)=3.0\n(6, 14), (6, 15)=3.0\n(6, 15), (6, 16)=2.0\n(6, 16), (6, 17)=0.0\n(6, 17), (6, 18)=0.0\n(7, 0), (7, 1)=0.0\n(7, 1), (7, 2)=0.0\n(7, 2), (7, 3)=0.0\n(7, 3), (7, 4)=0.0\n(7, 4), (7, 5)=0.0\n(7, 5), (7, 6)=0.0\n(7, 6), (7, 7)=0.0\n(7, 7), (7, 8)=0.0\n(7, 8), (7, 9)=0.0\n(7, 9), (7, 10)=0.0\n(7, 10), (7, 11)=0.0\n(7, 11), (7, 12)=0.0\n(7, 12), (7, 13)=0.0\n(7, 13), (7, 14)=0.0\n(7, 14), (7, 15)=0.0\n(7, 15), (7, 16)=0.0\n(7, 16), (7, 17)=0.0\n(7, 17), (7, 18)=0.0\n(8, 0), (8, 1)=0.0\n(8, 1), (8, 2)=0.0\n(8, 2), (8, 3)=0.0\n(8, 3), (8, 4)=0.0\n(8, 4), (8, 5)=0.0\n(8, 5), (8, 6)=0.0\n(8, 6), (8, 7)=0.0\n(8, 7), (8, 8)=0.0\n(8, 8), (8, 9)=0.0\n(8, 9), (8, 10)=0.0\n(8, 10), (8, 11)=0.0\n(8, 11), (8, 12)=0.0\n(8, 12), (8, 13)=0.0\n(8, 13), (8, 14)=0.0\n(8, 14), (8, 15)=0.0\n(8, 15), (8, 16)=0.0\n(8, 16), (8, 17)=0.0\n(8, 17), (8, 18)=0.0\n(9, 0), (9, 1)=0.0\n(9, 1), (9, 2)=1.0\n(9, 2), (9, 3)=1.0\n(9, 3), (9, 4)=1.0\n(9, 4), (9, 5)=0.0\n(9, 5), (9, 6)=0.0\n(9, 6), (9, 7)=0.0\n(9, 7), (9, 8)=0.0\n(9, 8), (9, 9)=2.0\n(9, 9), (9, 10)=4.0\n(9, 10), (9, 11)=5.0\n(9, 11), (9, 12)=6.0\n(9, 12), (9, 13)=6.0\n(9, 13), (9, 14)=6.0\n(9, 14), (9, 15)=4.0\n(9, 15), (9, 16)=2.0\n(9, 16), (9, 17)=0.0\n(9, 17), (9, 18)=0.0\n(10, 0), (10, 1)=0.0\n(10, 1), (10, 2)=0.0\n(10, 2), (10, 3)=0.0\n(10, 3), (10, 4)=0.0\n(10, 4), (10, 5)=0.0\n(10, 5), (10, 6)=0.0\n(10, 6), (10, 7)=0.0\n(10, 7), (10, 8)=0.0\n(10, 8), (10, 9)=0.0\n(10, 9), (10, 10)=0.0\n(10, 10), (10, 11)=0.0\n(10, 11), (10, 12)=0.0\n(10, 12), (10, 13)=0.0\n(10, 13), (10, 14)=0.0\n(10, 14), (10, 15)=0.0\n(10, 15), (10, 16)=0.0\n(10, 16), (10, 17)=0.0\n(10, 17), (10, 18)=0.0\n(11, 0), (11, 1)=0.0\n(11, 1), (11, 2)=0.0\n(11, 2), (11, 3)=0.0\n(11, 3), (11, 4)=0.0\n(11, 4), (11, 5)=0.0\n(11, 5), (11, 6)=0.0\n(11, 6), (11, 7)=0.0\n(11, 7), (11, 8)=0.0\n(11, 8), (11, 9)=0.0\n(11, 9), (11, 10)=0.0\n(11, 10), (11, 11)=0.0\n(11, 11), (11, 12)=0.0\n(11, 12), (11, 13)=0.0\n(11, 13), (11, 14)=0.0\n(11, 14), (11, 15)=0.0\n(11, 15), (11, 16)=0.0\n(11, 16), (11, 17)=0.0\n(11, 17), (11, 18)=0.0\n(12, 0), (12, 1)=1.0\n(12, 1), (12, 2)=1.0\n(12, 2), (12, 3)=1.0\n(12, 3), (12, 4)=1.0\n(12, 4), (12, 5)=0.0\n(12, 5), (12, 6)=0.0\n(12, 6), (12, 7)=-2.2270478e-15\n(12, 7), (12, 8)=1.0\n(12, 8), (12, 9)=4.0\n(12, 9), (12, 10)=11.0\n(12, 10), (12, 11)=13.0\n(12, 11), (12, 12)=14.0\n(12, 12), (12, 13)=14.0\n(12, 13), (12, 14)=15.0\n(12, 14), (12, 15)=13.0\n(12, 15), (12, 16)=4.0\n(12, 16), (12, 17)=2.0\n(12, 17), (12, 18)=1.0\n(13, 0), (13, 1)=4.0\n(13, 1), (13, 2)=4.0\n(13, 2), (13, 3)=4.0\n(13, 3), (13, 4)=4.0\n(13, 4), (13, 5)=1.0\n(13, 5), (13, 6)=0.0\n(13, 6), (13, 7)=2.0\n(13, 7), (13, 8)=0.0\n(13, 8), (13, 9)=0.0\n(13, 9), (13, 10)=3.0\n(13, 10), (13, 11)=6.0\n(13, 11), (13, 12)=7.0\n(13, 12), (13, 13)=7.0\n(13, 13), (13, 14)=7.0\n(13, 14), (13, 15)=4.0\n(13, 15), (13, 16)=0.0\n(13, 16), (13, 17)=0.0\n(13, 17), (13, 18)=0.0\n(14, 0), (14, 1)=5.0\n(14, 1), (14, 2)=5.0\n(14, 2), (14, 3)=5.0\n(14, 3), (14, 4)=5.0\n(14, 4), (14, 5)=3.0\n(14, 5), (14, 6)=0.0\n(14, 6), (14, 7)=0.0\n(14, 7), (14, 8)=0.0\n(14, 8), (14, 9)=0.0\n(14, 9), (14, 10)=2.0\n(14, 10), (14, 11)=3.0\n(14, 11), (14, 12)=3.0\n(14, 12), (14, 13)=3.0\n(14, 13), (14, 14)=3.0\n(14, 14), (14, 15)=2.0\n(14, 15), (14, 16)=0.0\n(14, 16), (14, 17)=0.0\n(14, 17), (14, 18)=0.0\n(15, 0), (15, 1)=0.0\n(15, 1), (15, 2)=0.0\n(15, 2), (15, 3)=0.0\n(15, 3), (15, 4)=0.0\n(15, 4), (15, 5)=0.0\n(15, 5), (15, 6)=0.0\n(15, 6), (15, 7)=0.0\n(15, 7), (15, 8)=0.0\n(15, 8), (15, 9)=0.0\n(15, 9), (15, 10)=0.0\n(15, 10), (15, 11)=0.0\n(15, 11), (15, 12)=0.0\n(15, 12), (15, 13)=0.0\n(15, 13), (15, 14)=0.0\n(15, 14), (15, 15)=0.0\n(15, 15), (15, 16)=0.0\n(15, 16), (15, 17)=0.0\n(15, 17), (15, 18)=0.0\n(16, 0), (16, 1)=13.0\n(16, 1), (16, 2)=18.0\n(16, 2), (16, 3)=18.0\n(16, 3), (16, 4)=19.0\n(16, 4), (16, 5)=9.0\n(16, 5), (16, 6)=0.0\n(16, 6), (16, 7)=0.0\n(16, 7), (16, 8)=0.0\n(16, 8), (16, 9)=0.0\n(16, 9), (16, 10)=0.0\n(16, 10), (16, 11)=0.0\n(16, 11), (16, 12)=2.0\n(16, 12), (16, 13)=1.0\n(16, 13), (16, 14)=0.0\n(16, 14), (16, 15)=0.0\n(16, 15), (16, 16)=0.0\n(16, 16), (16, 17)=0.0\n(16, 17), (16, 18)=3.0\n(17, 0), (17, 1)=0.0\n(17, 1), (17, 2)=0.0\n(17, 2), (17, 3)=0.0\n(17, 3), (17, 4)=0.0\n(17, 4), (17, 5)=0.0\n(17, 5), (17, 6)=0.0\n(17, 6), (17, 7)=0.0\n(17, 7), (17, 8)=0.0\n(17, 8), (17, 9)=0.0\n(17, 9), (17, 10)=0.0\n(17, 10), (17, 11)=0.0\n(17, 11), (17, 12)=0.0\n(17, 12), (17, 13)=0.0\n(17, 13), (17, 14)=0.0\n(17, 14), (17, 15)=0.0\n(17, 15), (17, 16)=0.0\n(17, 16), (17, 17)=0.0\n(17, 17), (17, 18)=0.0\n(18, 0), (18, 1)=4.0\n(18, 1), (18, 2)=4.0\n(18, 2), (18, 3)=3.0\n(18, 3), (18, 4)=2.0\n(18, 4), (18, 5)=0.0\n(18, 5), (18, 6)=0.0\n(18, 6), (18, 7)=0.0\n(18, 7), (18, 8)=0.0\n(18, 8), (18, 9)=0.0\n(18, 9), (18, 10)=4.0\n(18, 10), (18, 11)=6.0\n(18, 11), (18, 12)=7.0\n(18, 12), (18, 13)=7.0\n(18, 13), (18, 14)=8.0\n(18, 14), (18, 15)=5.0\n(18, 15), (18, 16)=2.0\n(18, 16), (18, 17)=2.0\n(18, 17), (18, 18)=2.0\n(19, 0), (19, 1)=15.0\n(19, 1), (19, 2)=17.0\n(19, 2), (19, 3)=17.0\n(19, 3), (19, 4)=18.0\n(19, 4), (19, 5)=9.0\n(19, 5), (19, 6)=1.0\n(19, 6), (19, 7)=0.0\n(19, 7), (19, 8)=0.0\n(19, 8), (19, 9)=0.0\n(19, 9), (19, 10)=1.0\n(19, 10), (19, 11)=4.0\n(19, 11), (19, 12)=5.0\n(19, 12), (19, 13)=3.0\n(19, 13), (19, 14)=1.0\n(19, 14), (19, 15)=0.0\n(19, 15), (19, 16)=0.0\n(19, 16), (19, 17)=0.0\n(19, 17), (19, 18)=1.0\n"
     ]
    }
   ],
   "source": [
    "for k, v in Sit.items():\n",
    "    print(str(k[0]) + ', '+ str(k[1]) + \"=\" + str(v.varValue))"
   ]
  },
  {
   "cell_type": "code",
   "execution_count": 32,
   "metadata": {},
   "outputs": [],
   "source": [
    "total_Sit = dict()\n",
    "for k,v in Sit.items():\n",
    "    if k[0][1] not in total_Sit:\n",
    "        total_Sit[k[0][1]] = int(v.varValue)\n",
    "    else:\n",
    "        total_Sit[k[0][1]]+=int(v.varValue)"
   ]
  },
  {
   "cell_type": "code",
   "execution_count": 33,
   "metadata": {},
   "outputs": [
    {
     "output_type": "execute_result",
     "data": {
      "text/plain": [
       "{0: 46,\n",
       " 1: 56,\n",
       " 2: 54,\n",
       " 3: 55,\n",
       " 4: 22,\n",
       " 5: 1,\n",
       " 6: 2,\n",
       " 7: 1,\n",
       " 8: 11,\n",
       " 9: 35,\n",
       " 10: 50,\n",
       " 11: 57,\n",
       " 12: 54,\n",
       " 13: 53,\n",
       " 14: 39,\n",
       " 15: 13,\n",
       " 16: 4,\n",
       " 17: 9}"
      ]
     },
     "metadata": {},
     "execution_count": 33
    }
   ],
   "source": [
    "# Total number of Stocked scooters at a given time\n",
    "total_Sit"
   ]
  },
  {
   "cell_type": "code",
   "execution_count": 34,
   "metadata": {},
   "outputs": [],
   "source": [
    "total_Vit = dict()\n",
    "for k,v in Vit.items():\n",
    "    if k[1] not in total_Vit:\n",
    "        total_Vit[k[1]] = int(v.varValue)\n",
    "    else:\n",
    "        total_Vit[k[1]]+=int(v.varValue)"
   ]
  },
  {
   "cell_type": "code",
   "execution_count": 38,
   "metadata": {},
   "outputs": [
    {
     "output_type": "stream",
     "name": "stdout",
     "text": [
      "#Scooters: 58\n"
     ]
    }
   ],
   "source": [
    "print(\"#Scooters: \" + str(total_Vit[0]))"
   ]
  },
  {
   "cell_type": "code",
   "execution_count": 40,
   "metadata": {},
   "outputs": [
    {
     "output_type": "execute_result",
     "data": {
      "text/plain": [
       "1813"
      ]
     },
     "metadata": {},
     "execution_count": 40
    }
   ],
   "source": [
    "total_demand = 0\n",
    "for _,v in demand_dict.items():\n",
    "    total_demand+=v\n",
    "total_demand"
   ]
  },
  {
   "cell_type": "code",
   "execution_count": 43,
   "metadata": {},
   "outputs": [
    {
     "output_type": "execute_result",
     "data": {
      "text/plain": [
       "482.0"
      ]
     },
     "metadata": {},
     "execution_count": 43
    }
   ],
   "source": [
    "satisfied_demand = 0\n",
    "for _,v in Ditj.items():\n",
    "    satisfied_demand+=v.varValue\n",
    "satisfied_demand"
   ]
  },
  {
   "cell_type": "code",
   "execution_count": 44,
   "metadata": {},
   "outputs": [
    {
     "output_type": "execute_result",
     "data": {
      "text/plain": [
       "0.265857694429123"
      ]
     },
     "metadata": {},
     "execution_count": 44
    }
   ],
   "source": [
    "satisfied_demand/total_demand"
   ]
  }
 ]
}