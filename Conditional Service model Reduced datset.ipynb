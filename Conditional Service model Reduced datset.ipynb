{
 "metadata": {
  "language_info": {
   "codemirror_mode": {
    "name": "ipython",
    "version": 3
   },
   "file_extension": ".py",
   "mimetype": "text/x-python",
   "name": "python",
   "nbconvert_exporter": "python",
   "pygments_lexer": "ipython3",
   "version": "3.7.9-final"
  },
  "orig_nbformat": 2,
  "kernelspec": {
   "name": "python3",
   "display_name": "Python 3.7.9 64-bit ('py37': conda)",
   "metadata": {
    "interpreter": {
     "hash": "68cf0db5f3067a4776d13d703f6192178ebe9e16ae02aeaaff6ace0660eb419e"
    }
   }
  }
 },
 "nbformat": 4,
 "nbformat_minor": 2,
 "cells": [
  {
   "source": [
    "## Mixed Integer Linear Programing \n",
    "### E-Scooter Sharing Scheme\n",
    "Conditional Service "
   ],
   "cell_type": "markdown",
   "metadata": {}
  },
  {
   "cell_type": "code",
   "execution_count": 1,
   "metadata": {},
   "outputs": [],
   "source": [
    "import pandas as pd\n",
    "import numpy as np\n",
    "import itertools\n",
    "import os\n",
    "import collections\n",
    "import time\n",
    "from pulp import *"
   ]
  },
  {
   "cell_type": "code",
   "execution_count": 2,
   "metadata": {},
   "outputs": [],
   "source": [
    "minimise = True\n",
    "reduced = False\n",
    "# 8, 12, 15\n",
    "demand_percent = 12\n",
    "# 0, 1, 2\n",
    "# 0 - low (1 year)\n",
    "# 1 - default (2.5 years)\n",
    "# 2 - high (5 years)\n",
    "costs = 1\n",
    "budget = 1"
   ]
  },
  {
   "cell_type": "code",
   "execution_count": 3,
   "metadata": {},
   "outputs": [
    {
     "output_type": "stream",
     "name": "stderr",
     "text": [
      "C:\\Users\\zoria\\miniconda3\\envs\\py37\\lib\\site-packages\\pulp\\pulp.py:1199: UserWarning: Spaces are not permitted in the name. Converted to '_'\n  warnings.warn(\"Spaces are not permitted in the name. Converted to '_'\")\n"
     ]
    }
   ],
   "source": [
    "if minimise:\n",
    "    problem = LpProblem(\"E-Scooter Allocation Carbon Minimisation\", LpMinimize)\n",
    "else:\n",
    "    problem = LpProblem(\"E-Scooter Allocation Profit Maximisation\", LpMaximize)"
   ]
  },
  {
   "cell_type": "code",
   "execution_count": 4,
   "metadata": {},
   "outputs": [],
   "source": [
    "if reduced:\n",
    "    df_distance = pd.read_csv(\"Data/Preliminary analysis Data/Model Data - Smaller set Distance.csv\")\n",
    "else:\n",
    "    df_distance = pd.read_csv(\"Data/Model Data - 56loc Distance.csv\")"
   ]
  },
  {
   "cell_type": "code",
   "execution_count": 5,
   "metadata": {},
   "outputs": [],
   "source": [
    "df_distance.fillna(0, inplace=True)\n",
    "distance = df_distance.values[:,1:]\n",
    "distance_dict = { (x,y): distance[x][y] for x in range(distance.shape[0]) for y in range(distance.shape[1])}"
   ]
  },
  {
   "cell_type": "code",
   "execution_count": 6,
   "metadata": {},
   "outputs": [],
   "source": [
    "locations = list(df_distance['Location'])\n",
    "location_idx = np.arange(0, len(locations))\n",
    "loc_count = len(locations)"
   ]
  },
  {
   "cell_type": "code",
   "execution_count": 7,
   "metadata": {
    "tags": []
   },
   "outputs": [],
   "source": [
    "if reduced:\n",
    "    files = os.listdir('Data/Preliminary analysis Data/Reduced set Demand/')\n",
    "else:\n",
    "    files = os.listdir('Data/Final set Demand/')"
   ]
  },
  {
   "cell_type": "code",
   "execution_count": 8,
   "metadata": {},
   "outputs": [],
   "source": [
    "d = dict()\n",
    "for f in files:\n",
    "    hour = int(f.split(sep='.', maxsplit=1)[0])\n",
    "    if reduced:\n",
    "        df = pd.read_csv('Data/Preliminary analysis Data/Reduced set Demand/' + f)\n",
    "    else:\n",
    "        df = pd.read_csv('Data/Final set Demand/' + f)\n",
    "    demand_arr = df.to_numpy()[:,1:]\n",
    "    demand_arr = demand_arr*(demand_percent/15)\n",
    "    for i in range(loc_count):\n",
    "        for j in range(loc_count):\n",
    "            demand_arr[i][j] = np.round(demand_arr[i][j],0)\n",
    "    d[hour] = demand_arr"
   ]
  },
  {
   "cell_type": "code",
   "execution_count": 9,
   "metadata": {},
   "outputs": [],
   "source": [
    "demand = collections.OrderedDict(sorted(d.items())) "
   ]
  },
  {
   "cell_type": "code",
   "execution_count": 10,
   "metadata": {},
   "outputs": [],
   "source": [
    "demand_dict = dict()\n",
    "for i,(_,v) in enumerate(demand.items()):\n",
    "    demand_dict.update({(x,y,i): v[x][y] for x in range(loc_count) for y in range(loc_count)})"
   ]
  },
  {
   "cell_type": "code",
   "execution_count": 11,
   "metadata": {},
   "outputs": [],
   "source": [
    "# Parameters\n",
    "M = sys.maxsize\n",
    "Zmax = 100\n",
    "Zmin = 1\n",
    "if costs == 0:\n",
    "    # 1 year\n",
    "    Cc_fixed_scooter = 140\n",
    "    Cc_fixed_dock = 74\n",
    "    Cc_fixed_station = 95\n",
    "\n",
    "    Cp_fixed_scooter = 0.96\n",
    "    Cp_fixed_dock = 2.3\n",
    "    Cp_fixed_station = 5.75\n",
    "elif costs == 1:\n",
    "    # 2.5 years\n",
    "    Cc_fixed_scooter = 55\n",
    "    Cc_fixed_dock = 30\n",
    "    Cc_fixed_station = 38\n",
    "\n",
    "    Cp_fixed_scooter = 0.38\n",
    "    Cp_fixed_dock = 0.92\n",
    "    Cp_fixed_station = 2.3  \n",
    "else:\n",
    "    # 5 years\n",
    "    Cc_fixed_scooter = 31\n",
    "    Cc_fixed_dock = 15\n",
    "    Cc_fixed_station = 19\n",
    "\n",
    "    Cp_fixed_scooter = 0.19\n",
    "    Cp_fixed_dock = 0.46\n",
    "    Cp_fixed_station = 1.15\n",
    "\n",
    "# Carbon Cost values\n",
    "Cc_scooter_km = 7\n",
    "# Cost relocation\n",
    "Cc_r = 120\n",
    "\n",
    "scalar = 1.25\n",
    "\n",
    "# Cost values\n",
    "# cost of maintaining one scooter per kilometer driven\n",
    "Cp_scooter_km = 0.41\n",
    "\n",
    "# Cost relocation\n",
    "Cp_r = 1.5\n",
    "# Price rate for kilometer driven\n",
    "P_km = 0.6\n",
    "# Price for pickup\n",
    "P_init = 1\n",
    "if reduced:\n",
    "    B = 500\n",
    "else:\n",
    "    if budget == 0:\n",
    "        B = 900\n",
    "    elif budget == 1:\n",
    "        B = 1200\n",
    "    else:\n",
    "        B = 1500"
   ]
  },
  {
   "cell_type": "code",
   "execution_count": 12,
   "metadata": {},
   "outputs": [],
   "source": [
    "# Penalty\n",
    "if reduced:\n",
    "    df_penalty = pd.read_csv(\"Data/Preliminary analysis Data/Penalty Carbon Costs Smaller set.csv\")\n",
    "else:\n",
    "    df_penalty = pd.read_csv(\"Data/Penalty Carbon Costs 56loc.csv\")\n",
    "C_pen = df_penalty.values[:, 1]\n",
    "# C_pen = C_pen*scalar"
   ]
  },
  {
   "cell_type": "code",
   "execution_count": 13,
   "metadata": {},
   "outputs": [],
   "source": [
    "# Sets\n",
    "T = np.arange(0,len(files)+1)\n",
    "# each location at a given time\n",
    "X = list(itertools.product(location_idx, T))\n",
    "X2 = [(i,it) for (i,it) in X if sum([demand_dict[(i,j,it)] for j in location_idx if i !=j and it != T[-1]]) > 0]\n",
    "A1 = [(xi, xj) for xi in X for xj in X if xi[0] != xj[0] and xi[1]+1==xj[1]]\n",
    "# Relocation\n",
    "A2 = [(xi, xj) for xi in X for xj in X if xi[0]!=xj[0] and xi[1]==T[-1] and xj[1]==T[0]]"
   ]
  },
  {
   "cell_type": "code",
   "execution_count": 14,
   "metadata": {},
   "outputs": [],
   "source": [
    "# Decision Variables\n",
    "Yi = LpVariable.dicts(\"Station Presence\", location_idx,0,cat=const.LpBinary)\n",
    "Zi = LpVariable.dicts(\"Size\", location_idx, 0, cat=const.LpInteger)\n",
    "# Relocation\n",
    "Rij = LpVariable.dicts(\"#Relocated_Scooters\", A2, 0, cat=const.LpInteger)\n",
    "R = LpVariable.dicts('Relocation needed', A2, 0, cat=const.LpBinary)\n",
    "Vit = LpVariable.dicts(\"#Available_Scooters\",X,0,cat=const.LpInteger)\n",
    "Ditj = LpVariable.dicts(\"#Used_Scooters\", A1, 0 ,cat=const.LpInteger)\n",
    "Xit = LpVariable.dicts(\"Availability binary\", X2, 0, cat=const.LpBinary)"
   ]
  },
  {
   "cell_type": "code",
   "execution_count": 15,
   "metadata": {},
   "outputs": [],
   "source": [
    "# Objective function\n",
    "if minimise:\n",
    "    problem+=lpSum(Ditj[((i,ti),(j,tj))]*distance_dict[(i,j)]*Cc_scooter_km for ((i,ti),(j,tj)) in A1) + \\\n",
    "    lpSum((demand_dict[(i,j,ti)]-Ditj[((i,ti),(j,tj))])*distance_dict[(i,j)]*C_pen[i] for ((i,ti),(j,tj)) in A1) + \\\n",
    "    lpSum(R[((i,ti), (j,tj))]*distance_dict[(i,j)]*Cc_r for ((i,ti), (j,tj)) in A2) + \\\n",
    "    lpSum(Vit[(i,t)]*Cc_fixed_scooter for (i,t) in X if t==0) + \\\n",
    "    lpSum(Zi[i]*Cc_fixed_dock for i in location_idx) + \\\n",
    "    lpSum(Yi[i]*Cc_fixed_station for i in location_idx), \"Objective function\"\n",
    "\n",
    "else:\n",
    "    problem+=lpSum(Ditj[((i,ti),(j,tj))]*(distance_dict[(i,j)]*(P_km-Cp_scooter_km) + P_init) for ((i,ti),(j,tj)) in A1) - \\\n",
    "    lpSum(R[((i,ti), (j,tj))]*distance_dict[(i,j)]*Cp_r for ((i,ti), (j,tj)) in A2) - \\\n",
    "    lpSum(Vit[(i,t)]*Cp_fixed_scooter for (i,t) in X if t==0) - \\\n",
    "    lpSum(Zi[i]*Cp_fixed_dock for i in location_idx) - \\\n",
    "    lpSum(Yi[i]*Cp_fixed_station for i in location_idx), \"Objective function\"\n"
   ]
  },
  {
   "cell_type": "code",
   "execution_count": 16,
   "metadata": {},
   "outputs": [],
   "source": [
    "for (i,ti) in X:\n",
    "    if ti !=0:\n",
    "        problem+= Vit[(i,ti-1)] - lpSum(Ditj[((i,ti-1),(j,ti))] for j in location_idx if i !=j) + lpSum(Ditj[((j, ti-1),(i, ti))] for j in location_idx if i !=j) == Vit[(i,ti)], f\"Availability Balance {(i,ti)}\"\n"
   ]
  },
  {
   "cell_type": "code",
   "execution_count": 17,
   "metadata": {},
   "outputs": [],
   "source": [
    "for (i,ti) in X:\n",
    "    if ti!=T[-1]:\n",
    "        problem+=Vit[(i,ti)] - lpSum(Ditj[((i,ti),(j,ti+1))] for j in location_idx if i !=j) >=0, f\"Stocked Scooters for {(i,ti)}\""
   ]
  },
  {
   "cell_type": "code",
   "execution_count": 18,
   "metadata": {},
   "outputs": [],
   "source": [
    "# Relocation constraint\n",
    "for i in location_idx:\n",
    "    problem+=Vit[(i,0)] == Vit[(i,T[-1])] + lpSum(Rij[((j,T[-1]), (i,0))] for j in location_idx if i!=j) - lpSum(Rij[((i,T[-1]), (j,0))] for j in location_idx if i!=j), f\"Relocation balance for location {i}\""
   ]
  },
  {
   "cell_type": "code",
   "execution_count": 19,
   "metadata": {},
   "outputs": [],
   "source": [
    "for a2 in A2:\n",
    "    problem+=Rij[a2]<=M*R[a2], f\"Relocation needed for {a2}\""
   ]
  },
  {
   "cell_type": "code",
   "execution_count": 20,
   "metadata": {},
   "outputs": [],
   "source": [
    "for i in location_idx:\n",
    "    problem+=lpSum(Rij[((i,T[-1]), (j,0))] for j in location_idx if i!=j) <= Vit[(i,T[-1])], f\"Relocation availability for location {i}\""
   ]
  },
  {
   "cell_type": "code",
   "execution_count": 21,
   "metadata": {},
   "outputs": [],
   "source": [
    "for (i,ti) in X:\n",
    "    problem+= Zi[i] >=Vit[(i,ti)], f\"Size constraint for {(i,ti)}\""
   ]
  },
  {
   "cell_type": "code",
   "execution_count": 22,
   "metadata": {},
   "outputs": [],
   "source": [
    "for (i,ti) in X:\n",
    "    problem+=Vit[(i,ti)] <= Zmax*Yi[i], f\"Maximum size constraint {(i,ti)}\""
   ]
  },
  {
   "cell_type": "code",
   "execution_count": 23,
   "metadata": {},
   "outputs": [],
   "source": [
    "for i in location_idx:\n",
    "    problem+=Yi[i]*Zmin <=Zi[i], f\"Minimum size constraint for {i}\""
   ]
  },
  {
   "cell_type": "code",
   "execution_count": 24,
   "metadata": {},
   "outputs": [],
   "source": [
    "for ((i,ti),(j,tj)) in A1:\n",
    "    problem+=Ditj[((i,ti),(j,tj))]<=demand_dict[(i,j,ti)], f\"Maximum Demand for {((i,ti),(j,tj))}\""
   ]
  },
  {
   "cell_type": "code",
   "execution_count": 25,
   "metadata": {},
   "outputs": [],
   "source": [
    "problem+=lpSum(Vit[(i,0)]*Cp_fixed_scooter for i in location_idx) + lpSum(Zi[i]*Cp_fixed_dock for i in location_idx) + lpSum(Yi[i]*Cp_fixed_station for i in location_idx)<=B, \"Maximum Budget\""
   ]
  },
  {
   "cell_type": "code",
   "execution_count": 26,
   "metadata": {},
   "outputs": [],
   "source": [
    "for (i,ti) in X2:\n",
    "    problem+= Xit[(i,ti)] <= (Vit[(i,ti)] + lpSum(demand_dict[(i,j,ti)] for j in location_idx if i!=j) - lpSum(demand_dict[(i,j,ti)]*Yi[j] for j in location_idx if i!=j))/lpSum(demand_dict[(i,j,ti)] for j in location_idx if i!=j), f\"Xit value constraint for {(i,ti)}\""
   ]
  },
  {
   "cell_type": "code",
   "execution_count": 27,
   "metadata": {},
   "outputs": [],
   "source": [
    "for (i,ti) in X2:\n",
    "    if ti != T[-1]:\n",
    "        problem+=Vit[(i,ti)] - lpSum(Ditj[((i,ti),(j,ti+1))] for j in location_idx if i !=j) <= M*Xit[(i,ti)]"
   ]
  },
  {
   "cell_type": "code",
   "execution_count": 28,
   "metadata": {},
   "outputs": [],
   "source": [
    "for (i,ti) in X2:\n",
    "    if ti != T[-1]:\n",
    "        problem+= lpSum(Ditj[((i,ti), (j,ti+1))] for j in location_idx if i!=j) >= M*(Xit[(i,ti)]-1) + lpSum(demand_dict[(i,j,ti)]*Yi[j] for j in location_idx if i!=j)"
   ]
  },
  {
   "cell_type": "code",
   "execution_count": 29,
   "metadata": {},
   "outputs": [],
   "source": [
    "if minimise:\n",
    "    if reduced:\n",
    "        logf = \"stats_carbon_reduced_NOcuts.log\"\n",
    "        problem.writeLP('Models/carbon_reduced_model_NOcuts.lp')\n",
    "    else:\n",
    "        logf = \"stats_carbon_final_NOcuts.log\"\n",
    "        problem.writeLP('Models/carbon_model_NOcuts.lp')\n",
    "else:\n",
    "    if reduced:\n",
    "        logf = \"stats_profit_reduced.log\"\n",
    "        problem.writeLP('Models/profit_reduced_model.lp')\n",
    "    else:\n",
    "        logf = \"stats_profit_final_demand8.log\"\n",
    "        problem.writeLP('Models/profit_model.lp')\n"
   ]
  },
  {
   "cell_type": "code",
   "execution_count": 30,
   "metadata": {},
   "outputs": [
    {
     "output_type": "stream",
     "name": "stderr",
     "text": [
      "C:\\Users\\zoria\\miniconda3\\envs\\py37\\lib\\site-packages\\pulp\\apis\\coin_api.py:146: UserWarning: `logPath` argument replaces `msg=1`. The output will be redirected to the log file.\n",
      "  warnings.warn('`logPath` argument replaces `msg=1`. The output will be redirected to the log file.')\n",
      "Running time: 1699s\n"
     ]
    },
    {
     "output_type": "execute_result",
     "data": {
      "text/plain": [
       "'Optimal'"
      ]
     },
     "metadata": {},
     "execution_count": 30
    }
   ],
   "source": [
    "solver = apis.PULP_CBC_CMD(logPath=logf, options=['DivingVectorlength on', 'DivingSome on', '-cuts off'], gapRel=0.01, timeLimit = 60*60*3)\n",
    "start = time.time()\n",
    "solver.actualSolve(problem)\n",
    "end = time.time()\n",
    "print(f'Running time: {str(int(end-start))}s')\n",
    "LpStatus[problem.status]"
   ]
  },
  {
   "cell_type": "code",
   "execution_count": 31,
   "metadata": {},
   "outputs": [
    {
     "output_type": "stream",
     "name": "stdout",
     "text": [
      "Objective value carbon: 82914.45359720002\n"
     ]
    }
   ],
   "source": [
    "obj_val_carbon = sum([Ditj[((i,ti),(j,tj))].value()*distance_dict[(i,j)]*Cc_scooter_km for ((i,ti),(j,tj)) in A1]) + \\\n",
    "    sum([(demand_dict[(i,j,ti)]-Ditj[((i,ti),(j,tj))].value())*distance_dict[(i,j)]*C_pen[i] for ((i,ti),(j,tj)) in A1]) + \\\n",
    "    sum([R[((i,ti), (j,tj))].value()*distance_dict[(i,j)]*Cc_r for ((i,ti), (j,tj)) in A2]) + \\\n",
    "    sum([Vit[(i,t)].value()*Cc_fixed_scooter for (i,t) in X if t==0]) + \\\n",
    "    sum([Zi[i].value()*Cc_fixed_dock for i in location_idx]) + \\\n",
    "    sum([Yi[i].value()*Cc_fixed_station for i in location_idx])\n",
    "print(f\"Objective value carbon: {obj_val_carbon}\")"
   ]
  },
  {
   "cell_type": "code",
   "execution_count": 32,
   "metadata": {},
   "outputs": [
    {
     "output_type": "stream",
     "name": "stdout",
     "text": [
      "Objective value profit: 701.0005199999993\n"
     ]
    }
   ],
   "source": [
    "obj_val_profit = sum([Ditj[((i,ti),(j,tj))].value()*(distance_dict[(i,j)]*(P_km-Cp_scooter_km) + P_init) for ((i,ti),(j,tj)) in A1]) - \\\n",
    "    sum([R[((i,ti), (j,tj))].value()*distance_dict[(i,j)]*Cp_r for ((i,ti), (j,tj)) in A2]) - \\\n",
    "    sum([Vit[(i,t)].value()*Cp_fixed_scooter for (i,t) in X if t==0]) - \\\n",
    "    sum([Zi[i].value()*Cp_fixed_dock for i in location_idx]) - \\\n",
    "    sum([Yi[i].value()*Cp_fixed_station for i in location_idx])\n",
    "print(f\"Objective value profit: {obj_val_profit}\")"
   ]
  },
  {
   "cell_type": "code",
   "execution_count": 33,
   "metadata": {},
   "outputs": [
    {
     "output_type": "execute_result",
     "data": {
      "text/plain": [
       "82914.45359719955"
      ]
     },
     "metadata": {},
     "execution_count": 33
    }
   ],
   "source": [
    "value(problem.objective)"
   ]
  },
  {
   "cell_type": "code",
   "execution_count": 34,
   "metadata": {},
   "outputs": [],
   "source": [
    "# Extracting the results\n",
    "#(idx, LpVariable)\n",
    "size_list = []\n",
    "for _,v in Zi.items():\n",
    "    size_list.append(v.value())  "
   ]
  },
  {
   "cell_type": "code",
   "execution_count": 35,
   "metadata": {},
   "outputs": [],
   "source": [
    "station_list = []\n",
    "for _,v in Yi.items():\n",
    "    station_list.append(v.value()) "
   ]
  },
  {
   "cell_type": "code",
   "execution_count": 36,
   "metadata": {},
   "outputs": [
    {
     "output_type": "execute_result",
     "data": {
      "text/plain": [
       "                                     Location  Station   Size\n",
       "0                       Balgreen and Roseburn      1.0    6.0\n",
       "1                                   Blackhall      1.0    4.0\n",
       "2              Broughton North and Powderhall      1.0   17.0\n",
       "3                             Broughton South      1.0   17.0\n",
       "4                                 Bruntsfield      1.0   16.0\n",
       "5                                 Comely Bank      1.0   12.0\n",
       "6                    Dalry and Fountainbridge      1.0   12.0\n",
       "7                                      Drylaw      1.0    9.0\n",
       "8                                 Gorgie East      1.0   25.0\n",
       "9                    Hillside and Calton Hill      1.0    7.0\n",
       "10                Marchmont East and Sciennes      1.0    6.0\n",
       "11                             Marchmont West      1.0    2.0\n",
       "12             Meadowbank and Abbeyhill North      1.0   32.0\n",
       "13                   Merchiston and Greenhill      1.0   10.0\n",
       "14                 New Town East and Gayfield      1.0    7.0\n",
       "15                Newington and Dalkeith Road      1.0    6.0\n",
       "16  Old Town, Princes Street and Leith Street      1.0  100.0\n",
       "17                               Prestonfield      1.0    7.0\n",
       "18                                Stockbridge      1.0   23.0\n",
       "19                                  Tollcross      1.0   88.0"
      ],
      "text/html": "<div>\n<style scoped>\n    .dataframe tbody tr th:only-of-type {\n        vertical-align: middle;\n    }\n\n    .dataframe tbody tr th {\n        vertical-align: top;\n    }\n\n    .dataframe thead th {\n        text-align: right;\n    }\n</style>\n<table border=\"1\" class=\"dataframe\">\n  <thead>\n    <tr style=\"text-align: right;\">\n      <th></th>\n      <th>Location</th>\n      <th>Station</th>\n      <th>Size</th>\n    </tr>\n  </thead>\n  <tbody>\n    <tr>\n      <th>0</th>\n      <td>Balgreen and Roseburn</td>\n      <td>1.0</td>\n      <td>6.0</td>\n    </tr>\n    <tr>\n      <th>1</th>\n      <td>Blackhall</td>\n      <td>1.0</td>\n      <td>4.0</td>\n    </tr>\n    <tr>\n      <th>2</th>\n      <td>Broughton North and Powderhall</td>\n      <td>1.0</td>\n      <td>17.0</td>\n    </tr>\n    <tr>\n      <th>3</th>\n      <td>Broughton South</td>\n      <td>1.0</td>\n      <td>17.0</td>\n    </tr>\n    <tr>\n      <th>4</th>\n      <td>Bruntsfield</td>\n      <td>1.0</td>\n      <td>16.0</td>\n    </tr>\n    <tr>\n      <th>5</th>\n      <td>Comely Bank</td>\n      <td>1.0</td>\n      <td>12.0</td>\n    </tr>\n    <tr>\n      <th>6</th>\n      <td>Dalry and Fountainbridge</td>\n      <td>1.0</td>\n      <td>12.0</td>\n    </tr>\n    <tr>\n      <th>7</th>\n      <td>Drylaw</td>\n      <td>1.0</td>\n      <td>9.0</td>\n    </tr>\n    <tr>\n      <th>8</th>\n      <td>Gorgie East</td>\n      <td>1.0</td>\n      <td>25.0</td>\n    </tr>\n    <tr>\n      <th>9</th>\n      <td>Hillside and Calton Hill</td>\n      <td>1.0</td>\n      <td>7.0</td>\n    </tr>\n    <tr>\n      <th>10</th>\n      <td>Marchmont East and Sciennes</td>\n      <td>1.0</td>\n      <td>6.0</td>\n    </tr>\n    <tr>\n      <th>11</th>\n      <td>Marchmont West</td>\n      <td>1.0</td>\n      <td>2.0</td>\n    </tr>\n    <tr>\n      <th>12</th>\n      <td>Meadowbank and Abbeyhill North</td>\n      <td>1.0</td>\n      <td>32.0</td>\n    </tr>\n    <tr>\n      <th>13</th>\n      <td>Merchiston and Greenhill</td>\n      <td>1.0</td>\n      <td>10.0</td>\n    </tr>\n    <tr>\n      <th>14</th>\n      <td>New Town East and Gayfield</td>\n      <td>1.0</td>\n      <td>7.0</td>\n    </tr>\n    <tr>\n      <th>15</th>\n      <td>Newington and Dalkeith Road</td>\n      <td>1.0</td>\n      <td>6.0</td>\n    </tr>\n    <tr>\n      <th>16</th>\n      <td>Old Town, Princes Street and Leith Street</td>\n      <td>1.0</td>\n      <td>100.0</td>\n    </tr>\n    <tr>\n      <th>17</th>\n      <td>Prestonfield</td>\n      <td>1.0</td>\n      <td>7.0</td>\n    </tr>\n    <tr>\n      <th>18</th>\n      <td>Stockbridge</td>\n      <td>1.0</td>\n      <td>23.0</td>\n    </tr>\n    <tr>\n      <th>19</th>\n      <td>Tollcross</td>\n      <td>1.0</td>\n      <td>88.0</td>\n    </tr>\n  </tbody>\n</table>\n</div>"
     },
     "metadata": {},
     "execution_count": 36
    }
   ],
   "source": [
    "df_results = pd.DataFrame(list(zip(locations, station_list, size_list)), columns=[\"Location\",\"Station\", \"Size\"])\n",
    "df_results"
   ]
  },
  {
   "cell_type": "code",
   "execution_count": 37,
   "metadata": {},
   "outputs": [],
   "source": [
    "if minimise:\n",
    "    if reduced:\n",
    "        df_results.to_csv(\"results-carbon-reduced-NOcuts.csv\", index=False)\n",
    "    else:\n",
    "        df_results.to_csv(\"results-carbon-NOcuts.csv\", index=False)\n",
    "else:\n",
    "    if reduced:\n",
    "        df_results.to_csv(\"results-profit-reduced.csv\", index=False)\n",
    "    else:\n",
    "        df_results.to_csv(\"results-profit_demand8.csv\", index=False)"
   ]
  },
  {
   "cell_type": "code",
   "execution_count": 38,
   "metadata": {},
   "outputs": [],
   "source": [
    "total_Vit = dict()\n",
    "for k,v in Vit.items():\n",
    "    if k[1] not in total_Vit:\n",
    "        total_Vit[k[1]] = int(v.varValue)\n",
    "    else:\n",
    "        total_Vit[k[1]]+=int(v.varValue)"
   ]
  },
  {
   "cell_type": "code",
   "execution_count": 39,
   "metadata": {},
   "outputs": [
    {
     "output_type": "stream",
     "name": "stdout",
     "text": [
      "#Scooters: 210\n"
     ]
    }
   ],
   "source": [
    "total_scooters = total_Vit[0]\n",
    "print(\"#Scooters: \" + str(total_Vit[0]))"
   ]
  },
  {
   "cell_type": "code",
   "execution_count": 40,
   "metadata": {},
   "outputs": [
    {
     "output_type": "stream",
     "name": "stdout",
     "text": [
      "Satisfied demand: 0.5933715742511153\nAvg. Scooter rides per day: 4.433333333333334\nTrips made: 931.0\nTotal number of trips: 1569.0\n"
     ]
    }
   ],
   "source": [
    "total_demand = 0\n",
    "for _,v in demand_dict.items():\n",
    "    total_demand+=v\n",
    "\n",
    "satisfied_demand = 0\n",
    "for _,v in Ditj.items():\n",
    "    satisfied_demand+=v.varValue\n",
    "satisfied_demand\n",
    "\n",
    "print(f'Satisfied demand: {satisfied_demand/total_demand}')\n",
    "print(f'Avg. Scooter rides per day: {satisfied_demand/total_scooters}')\n",
    "print(f'Trips made: {satisfied_demand}')\n",
    "print(f'Total number of trips: {total_demand}')"
   ]
  },
  {
   "cell_type": "code",
   "execution_count": 41,
   "metadata": {},
   "outputs": [
    {
     "output_type": "execute_result",
     "data": {
      "text/plain": [
       "931.0"
      ]
     },
     "metadata": {},
     "execution_count": 41
    }
   ],
   "source": [
    "satisfied_demand"
   ]
  },
  {
   "cell_type": "code",
   "execution_count": 42,
   "metadata": {},
   "outputs": [
    {
     "output_type": "execute_result",
     "data": {
      "text/plain": [
       "{5: 28,\n",
       " 6: 93,\n",
       " 7: 126,\n",
       " 8: 93,\n",
       " 9: 28,\n",
       " 10: 14,\n",
       " 11: 2,\n",
       " 12: 7,\n",
       " 13: 6,\n",
       " 14: 54,\n",
       " 15: 106,\n",
       " 16: 119,\n",
       " 17: 147,\n",
       " 18: 63,\n",
       " 19: 25,\n",
       " 20: 10,\n",
       " 21: 3,\n",
       " 22: 3,\n",
       " 23: 4}"
      ]
     },
     "metadata": {},
     "execution_count": 42
    }
   ],
   "source": [
    "trips = dict()\n",
    "for ((i,ti),(j,tj)) in Ditj.keys():\n",
    "    if ti+5 not in trips.keys():\n",
    "        trips[ti+5] = int(Ditj[((i,ti),(j,tj))].varValue)\n",
    "    else:\n",
    "        trips[ti+5] +=int(Ditj[((i,ti),(j,tj))].varValue)\n",
    "trips"
   ]
  },
  {
   "cell_type": "code",
   "execution_count": 43,
   "metadata": {},
   "outputs": [
    {
     "output_type": "execute_result",
     "data": {
      "text/plain": [
       "{5: 63,\n",
       " 6: 154,\n",
       " 7: 232,\n",
       " 8: 133,\n",
       " 9: 49,\n",
       " 10: 25,\n",
       " 11: 8,\n",
       " 12: 13,\n",
       " 13: 13,\n",
       " 14: 74,\n",
       " 15: 166,\n",
       " 16: 166,\n",
       " 17: 232,\n",
       " 18: 133,\n",
       " 19: 49,\n",
       " 20: 25,\n",
       " 21: 8,\n",
       " 22: 13,\n",
       " 23: 13}"
      ]
     },
     "metadata": {},
     "execution_count": 43
    }
   ],
   "source": [
    "demand_t = dict()\n",
    "for (i,j,t), v in demand_dict.items():\n",
    "    if t+5 not in demand_t.keys():\n",
    "        demand_t[t+5] = int(demand_dict[(i,j,t)])\n",
    "    else:\n",
    "        demand_t[t+5] +=int(demand_dict[(i,j,t)])\n",
    "demand_t"
   ]
  },
  {
   "cell_type": "code",
   "execution_count": 44,
   "metadata": {},
   "outputs": [
    {
     "output_type": "execute_result",
     "data": {
      "text/plain": [
       "{5: 0.4444444444444444,\n",
       " 6: 0.6038961038961039,\n",
       " 7: 0.5431034482758621,\n",
       " 8: 0.6992481203007519,\n",
       " 9: 0.5714285714285714,\n",
       " 10: 0.56,\n",
       " 11: 0.25,\n",
       " 12: 0.5384615384615384,\n",
       " 13: 0.46153846153846156,\n",
       " 14: 0.7297297297297297,\n",
       " 15: 0.6385542168674698,\n",
       " 16: 0.7168674698795181,\n",
       " 17: 0.6336206896551724,\n",
       " 18: 0.47368421052631576,\n",
       " 19: 0.5102040816326531,\n",
       " 20: 0.4,\n",
       " 21: 0.375,\n",
       " 22: 0.23076923076923078,\n",
       " 23: 0.3076923076923077}"
      ]
     },
     "metadata": {},
     "execution_count": 44
    }
   ],
   "source": [
    "satisfied_demand_t = dict()\n",
    "for t in demand_t.keys():\n",
    "    satisfied_demand_t[t] = trips[t] / demand_t[t]\n",
    "satisfied_demand_t"
   ]
  },
  {
   "cell_type": "code",
   "execution_count": 45,
   "metadata": {},
   "outputs": [],
   "source": [
    "# df_satisfied_demand = pd.DataFrame(satisfied_demand_t.items())\n",
    "# df_satisfied_demand.to_csv(\"proportion of satisfied demand per timestep profit.csv\", index=False)"
   ]
  },
  {
   "cell_type": "code",
   "execution_count": 46,
   "metadata": {},
   "outputs": [
    {
     "output_type": "stream",
     "name": "stdout",
     "text": [
      "Rij[((1, 19), (7, 0))] = 1.0\nRij[((4, 19), (19, 0))] = 3.0\nRij[((7, 19), (5, 0))] = 3.0\n"
     ]
    }
   ],
   "source": [
    "for k,v in Rij.items():\n",
    "    if v.varValue>0:\n",
    "        print(f\"Rij[{k}] = {v.varValue}\")"
   ]
  },
  {
   "cell_type": "code",
   "execution_count": 47,
   "metadata": {},
   "outputs": [
    {
     "output_type": "stream",
     "name": "stdout",
     "text": [
      "Total fixed cost: 499.3200000000001\n"
     ]
    }
   ],
   "source": [
    "fixed_cost = sum([Vit[(i,0)].value()*Cp_fixed_scooter for i in location_idx]) + sum([Zi[i].value()*Cp_fixed_dock for i in location_idx]) + sum([Yi[i].value()*Cp_fixed_station for i in location_idx])\n",
    "print(f\"Total fixed cost: {fixed_cost}\")"
   ]
  },
  {
   "cell_type": "code",
   "execution_count": 48,
   "metadata": {},
   "outputs": [],
   "source": [
    "loc_trips = dict()\n",
    "\n",
    "for l in location_idx:\n",
    "    loc = locations[l]\n",
    "    df = pd.DataFrame(columns=['Time', 'Available', 'Leaving', 'Arriving', 'Demand', 'Xit'])\n",
    "    for t in T:\n",
    "        if t!=T[-1]:\n",
    "            available = Vit[(l,t)].value()\n",
    "            leaving = sum([Ditj[((l,t),(j,t+1))].value() for j in location_idx if j!=l and t!=T[-1]])\n",
    "            arriving = sum([Ditj[((j,t),(l,t+1))].value() for j in location_idx if j!=l and t!=T[-1]])\n",
    "            time = f\"{int(t+5)}:00-{int(t+5)}:59\"\n",
    "            d = sum([demand_dict[(l,j,t)] for j in location_idx if j!=l])\n",
    "            x = Xit[(l,t)].value() if (l,t) in X2 else None\n",
    "            df.loc[-1] = [time, int(available), int(leaving), int(arriving), int(d), x]\n",
    "            df.index = df.index + 1\n",
    "    relocate_from = sum([Rij[((l,T[-1]), (j,0))].value() for j in location_idx if j!=l])\n",
    "    relocate_to = sum([Rij[((j,T[-1]), (l,0))].value() for j in location_idx if j!=l])\n",
    "    df.loc[-1] = ['Relocate', None, int(relocate_from), int(relocate_to), None, None]\n",
    "    df.index = df.index + 1\n",
    "    loc_trips[loc] = df"
   ]
  },
  {
   "cell_type": "code",
   "execution_count": 49,
   "metadata": {},
   "outputs": [
    {
     "output_type": "stream",
     "name": "stderr",
     "text": [
      "C:\\Users\\zoria\\miniconda3\\envs\\py37\\lib\\site-packages\\openpyxl\\workbook\\child.py:99: UserWarning: Title is more than 31 characters. Some applications may not be able to read the file\n  warnings.warn(\"Title is more than 31 characters. Some applications may not be able to read the file\")\n"
     ]
    }
   ],
   "source": [
    "import report_generator as r\n",
    "r.station_stats(loc_trips)"
   ]
  },
  {
   "cell_type": "code",
   "execution_count": 50,
   "metadata": {},
   "outputs": [],
   "source": [
    "import csv\n",
    "variable_values = dict()\n",
    "for v in problem.variables():\n",
    "    variable_values[v.name] = v.value()\n",
    "\n",
    "variable_values_df = pd.DataFrame.from_dict(variable_values, orient='index')\n",
    "df_csv = variable_values_df.to_csv(index=True)\n",
    "if minimise:\n",
    "    if reduced:\n",
    "        filename = 'variable_values_carbon_reduced_NOcuts.csv'\n",
    "    else:\n",
    "        filename = 'variable_values_carbon_NOcuts.csv'\n",
    "else:\n",
    "    if reduced:\n",
    "        filename = 'variable_values_profit_reduced_demand8.csv'\n",
    "    else:\n",
    "        filename = 'variable_values_profit_demand8.csv'\n",
    " \n",
    "with open(filename, 'w') as f:\n",
    "    f.write(df_csv)"
   ]
  }
 ]
}