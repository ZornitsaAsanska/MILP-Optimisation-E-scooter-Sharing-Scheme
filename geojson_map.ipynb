{
 "metadata": {
  "language_info": {
   "codemirror_mode": {
    "name": "ipython",
    "version": 3
   },
   "file_extension": ".py",
   "mimetype": "text/x-python",
   "name": "python",
   "nbconvert_exporter": "python",
   "pygments_lexer": "ipython3",
   "version": "3.7.9-final"
  },
  "orig_nbformat": 2,
  "kernelspec": {
   "name": "python3",
   "display_name": "Python 3.7.9 64-bit ('py37': conda)",
   "metadata": {
    "interpreter": {
     "hash": "68cf0db5f3067a4776d13d703f6192178ebe9e16ae02aeaaff6ace0660eb419e"
    }
   }
  }
 },
 "nbformat": 4,
 "nbformat_minor": 2,
 "cells": [
  {
   "source": [
    "## Generating a GeoJson map\n",
    "### E-scooter Depot Location and Size"
   ],
   "cell_type": "markdown",
   "metadata": {}
  },
  {
   "cell_type": "code",
   "execution_count": 1,
   "metadata": {},
   "outputs": [],
   "source": [
    "import numpy as np\n",
    "import pandas as pd\n",
    "from geojson import Feature, Point, FeatureCollection, dump, dumps"
   ]
  },
  {
   "source": [
    "Reading results of the Optimisation model into a dataframe  \n",
    "along with (lat, lon) coordinates of each candidate location"
   ],
   "cell_type": "markdown",
   "metadata": {}
  },
  {
   "cell_type": "code",
   "execution_count": 2,
   "metadata": {},
   "outputs": [],
   "source": [
    "# Reduced set\n",
    "reduced = True\n",
    "minimise = True"
   ]
  },
  {
   "cell_type": "code",
   "execution_count": 3,
   "metadata": {},
   "outputs": [
    {
     "output_type": "execute_result",
     "data": {
      "text/plain": [
       "                         Location  Station  Size  Longitude   Latitude\n",
       "0           Balgreen and Roseburn      0.0   0.0  -3.249950  55.942714\n",
       "1                       Blackhall      0.0   0.0  -3.260460  55.959622\n",
       "2  Broughton North and Powderhall      1.0  20.0  -3.193029  55.964600\n",
       "3                 Broughton South      0.0   0.0  -3.185769  55.963679\n",
       "4                     Bruntsfield      1.0  39.0  -3.210003  55.938050"
      ],
      "text/html": "<div>\n<style scoped>\n    .dataframe tbody tr th:only-of-type {\n        vertical-align: middle;\n    }\n\n    .dataframe tbody tr th {\n        vertical-align: top;\n    }\n\n    .dataframe thead th {\n        text-align: right;\n    }\n</style>\n<table border=\"1\" class=\"dataframe\">\n  <thead>\n    <tr style=\"text-align: right;\">\n      <th></th>\n      <th>Location</th>\n      <th>Station</th>\n      <th>Size</th>\n      <th>Longitude</th>\n      <th>Latitude</th>\n    </tr>\n  </thead>\n  <tbody>\n    <tr>\n      <th>0</th>\n      <td>Balgreen and Roseburn</td>\n      <td>0.0</td>\n      <td>0.0</td>\n      <td>-3.249950</td>\n      <td>55.942714</td>\n    </tr>\n    <tr>\n      <th>1</th>\n      <td>Blackhall</td>\n      <td>0.0</td>\n      <td>0.0</td>\n      <td>-3.260460</td>\n      <td>55.959622</td>\n    </tr>\n    <tr>\n      <th>2</th>\n      <td>Broughton North and Powderhall</td>\n      <td>1.0</td>\n      <td>20.0</td>\n      <td>-3.193029</td>\n      <td>55.964600</td>\n    </tr>\n    <tr>\n      <th>3</th>\n      <td>Broughton South</td>\n      <td>0.0</td>\n      <td>0.0</td>\n      <td>-3.185769</td>\n      <td>55.963679</td>\n    </tr>\n    <tr>\n      <th>4</th>\n      <td>Bruntsfield</td>\n      <td>1.0</td>\n      <td>39.0</td>\n      <td>-3.210003</td>\n      <td>55.938050</td>\n    </tr>\n  </tbody>\n</table>\n</div>"
     },
     "metadata": {},
     "execution_count": 3
    }
   ],
   "source": [
    "if reduced:\n",
    "    df_locations = pd.read_csv(\"results-profit-reduced.csv\") \n",
    "    coords = np.loadtxt(\"Data/coordinates-reduced.csv\",delimiter=\",\")\n",
    "else:  \n",
    "    df_locations = pd.read_csv(\"results.csv\") \n",
    "    coords = np.loadtxt(\"Data/coordinates.csv\", delimiter=\",\")\n",
    "df_locations['Longitude'] = coords[:,0]\n",
    "df_locations['Latitude'] = coords[:,1]\n",
    "df_locations.head()"
   ]
  },
  {
   "cell_type": "code",
   "execution_count": 4,
   "metadata": {},
   "outputs": [],
   "source": [
    "# List of GeoJson Feature Objects\n",
    "features = list()\n",
    "for idx, row in df_locations.iterrows():\n",
    "    point = Point((row['Longitude'], row['Latitude']))\n",
    "    if int(row['Station']):\n",
    "        properties = {\"Name\": row['Location'], \"Depot\": 'Yes', \"Docks\": row['Size'], \"marker-color\": \"#008000\", \"marker-symbol\": \"scooter\"}\n",
    "         \n",
    "    else:\n",
    "        properties = {\"Name\": row['Location'], \"Depot\": 'No', \"marker-color\": \"#FF0000\", \"marker-symbol\": \"cross\",\"marker-size\": \"small\"}\n",
    "    \n",
    "    feature = Feature(geometry=point, properties = properties)\n",
    "    features.append(feature)"
   ]
  },
  {
   "cell_type": "code",
   "execution_count": 5,
   "metadata": {},
   "outputs": [],
   "source": [
    "# Generating FeatureCollection object and .geojson file \n",
    "feature_collection = FeatureCollection(features)\n",
    "json_str = dumps(feature_collection, separators=(',', ':'))\n",
    "if reduced:\n",
    "   with open('E-scooter stations-profit-reduced.geojson', 'w') as f:\n",
    "        f.write(json_str) \n",
    "else:\n",
    "    with open('E-scooter stations.geojson', 'w') as f:\n",
    "        f.write(json_str)"
   ]
  }
 ]
}