{
 "metadata": {
  "language_info": {
   "codemirror_mode": {
    "name": "ipython",
    "version": 3
   },
   "file_extension": ".py",
   "mimetype": "text/x-python",
   "name": "python",
   "nbconvert_exporter": "python",
   "pygments_lexer": "ipython3",
   "version": "3.7.9-final"
  },
  "orig_nbformat": 2,
  "kernelspec": {
   "name": "python3",
   "display_name": "Python 3.7.9 64-bit ('py37': conda)",
   "metadata": {
    "interpreter": {
     "hash": "68cf0db5f3067a4776d13d703f6192178ebe9e16ae02aeaaff6ace0660eb419e"
    }
   }
  }
 },
 "nbformat": 4,
 "nbformat_minor": 2,
 "cells": [
  {
   "source": [
    "## Mixed Integer Linear Programing \n",
    "### E-Scooter Sharing Scheme\n",
    "Conditional Service "
   ],
   "cell_type": "markdown",
   "metadata": {}
  },
  {
   "cell_type": "code",
   "execution_count": null,
   "metadata": {},
   "outputs": [],
   "source": [
    "import pandas as pd\n",
    "import numpy as np\n",
    "import itertools\n",
    "import os\n",
    "import collections\n",
    "import time\n",
    "from pulp import *"
   ]
  },
  {
   "cell_type": "code",
   "execution_count": null,
   "metadata": {},
   "outputs": [],
   "source": [
    "reduced = False\n",
    "# 8, 12, 15\n",
    "demand_percent = 12\n",
    "# 0, 1, 2\n",
    "# 0 - low (1 year)\n",
    "# 1 - default (2.5 years)\n",
    "# 2 - high (5 years)\n",
    "costs = 1\n",
    "budget = 1\n",
    "timeLimit = 60*60*8"
   ]
  },
  {
   "cell_type": "code",
   "execution_count": null,
   "metadata": {},
   "outputs": [],
   "source": [
    "problem = LpProblem(\"E-Scooter Allocation Demand Max\", LpMaximize)"
   ]
  },
  {
   "cell_type": "code",
   "execution_count": null,
   "metadata": {},
   "outputs": [],
   "source": [
    "if reduced:\n",
    "    df_distance = pd.read_csv(\"Data/Preliminary analysis Data/Model Data - Smaller set Distance.csv\")\n",
    "else:\n",
    "    df_distance = pd.read_csv(\"Data/Model Data - 56loc Distance.csv\")"
   ]
  },
  {
   "cell_type": "code",
   "execution_count": null,
   "metadata": {},
   "outputs": [],
   "source": [
    "df_distance.fillna(0, inplace=True)\n",
    "distance = df_distance.values[:,1:]\n",
    "distance_dict = { (x,y): distance[x][y] for x in range(distance.shape[0]) for y in range(distance.shape[1])}"
   ]
  },
  {
   "cell_type": "code",
   "execution_count": null,
   "metadata": {},
   "outputs": [],
   "source": [
    "locations = list(df_distance['Location'])\n",
    "location_idx = np.arange(0, len(locations))\n",
    "loc_count = len(locations)"
   ]
  },
  {
   "cell_type": "code",
   "execution_count": null,
   "metadata": {
    "tags": []
   },
   "outputs": [],
   "source": [
    "if reduced:\n",
    "    files = os.listdir('Data/Preliminary analysis Data/Reduced set Demand/')\n",
    "else:\n",
    "    files = os.listdir('Data/Final set Demand/')"
   ]
  },
  {
   "cell_type": "code",
   "execution_count": null,
   "metadata": {},
   "outputs": [],
   "source": [
    "d = dict()\n",
    "for f in files:\n",
    "    hour = int(f.split(sep='.', maxsplit=1)[0])\n",
    "    if reduced:\n",
    "        df = pd.read_csv('Data/Preliminary analysis Data/Reduced set Demand/' + f)\n",
    "    else:\n",
    "        df = pd.read_csv('Data/Final set Demand/' + f)\n",
    "    demand_arr = df.to_numpy()[:,1:]\n",
    "    demand_arr = demand_arr*(demand_percent/15)\n",
    "    for i in range(loc_count):\n",
    "        for j in range(loc_count):\n",
    "            demand_arr[i][j] = np.round(demand_arr[i][j],0)\n",
    "    d[hour] = demand_arr"
   ]
  },
  {
   "cell_type": "code",
   "execution_count": null,
   "metadata": {},
   "outputs": [],
   "source": [
    "demand = collections.OrderedDict(sorted(d.items())) "
   ]
  },
  {
   "cell_type": "code",
   "execution_count": null,
   "metadata": {},
   "outputs": [],
   "source": [
    "demand_dict = dict()\n",
    "for i,(_,v) in enumerate(demand.items()):\n",
    "    demand_dict.update({(x,y,i): v[x][y] for x in range(loc_count) for y in range(loc_count)})"
   ]
  },
  {
   "cell_type": "code",
   "execution_count": null,
   "metadata": {},
   "outputs": [],
   "source": [
    "total_demand = 0\n",
    "for _,v in demand_dict.items():\n",
    "    total_demand+=v"
   ]
  },
  {
   "cell_type": "code",
   "execution_count": null,
   "metadata": {},
   "outputs": [],
   "source": [
    "# Parameters\n",
    "M = sys.maxsize\n",
    "Zmax = 100\n",
    "Zmin = 1\n",
    "if costs == 0:\n",
    "    # 1 year\n",
    "    Cc_fixed_scooter = 140\n",
    "    Cc_fixed_dock = 74\n",
    "    Cc_fixed_station = 95\n",
    "\n",
    "    Cp_fixed_scooter = 0.96\n",
    "    Cp_fixed_dock = 2.3\n",
    "    Cp_fixed_station = 5.75\n",
    "elif costs == 1:\n",
    "    # 2.5 years\n",
    "    Cc_fixed_scooter = 55\n",
    "    Cc_fixed_dock = 30\n",
    "    Cc_fixed_station = 38\n",
    "\n",
    "    Cp_fixed_scooter = 0.38\n",
    "    Cp_fixed_dock = 0.92\n",
    "    Cp_fixed_station = 2.3  \n",
    "else:\n",
    "    # 5 years\n",
    "    Cc_fixed_scooter = 31\n",
    "    Cc_fixed_dock = 15\n",
    "    Cc_fixed_station = 19\n",
    "\n",
    "    Cp_fixed_scooter = 0.19\n",
    "    Cp_fixed_dock = 0.46\n",
    "    Cp_fixed_station = 1.15\n",
    "\n",
    "# Carbon Cost values\n",
    "Cc_scooter_km = 7\n",
    "# Cost relocation\n",
    "Cc_r = 120\n",
    "\n",
    "scalar = 1.25\n",
    "\n",
    "# Cost values\n",
    "# cost of maintaining one scooter per kilometer driven\n",
    "Cp_scooter_km = 0.41\n",
    "\n",
    "# Cost relocation\n",
    "Cp_r = 1.5\n",
    "# Price rate for kilometer driven\n",
    "P_km = 0.6\n",
    "# Price for pickup\n",
    "P_init = 1\n",
    "if reduced:\n",
    "    B = 500\n",
    "else:\n",
    "    if budget == 0:\n",
    "        B = 900\n",
    "    elif budget == 1:\n",
    "        B = 5000\n",
    "    else:\n",
    "        B = 1500"
   ]
  },
  {
   "cell_type": "code",
   "execution_count": null,
   "metadata": {},
   "outputs": [],
   "source": [
    "# Penalty\n",
    "if reduced:\n",
    "    df_penalty = pd.read_csv(\"Data/Preliminary analysis Data/Penalty Carbon Costs Smaller set.csv\")\n",
    "else:\n",
    "    df_penalty = pd.read_csv(\"Data/Penalty Carbon Costs 56loc.csv\")\n",
    "C_pen = df_penalty.values[:, 1]\n",
    "# C_pen = C_pen*scalar"
   ]
  },
  {
   "cell_type": "code",
   "execution_count": null,
   "metadata": {},
   "outputs": [],
   "source": [
    "# Sets\n",
    "T = np.arange(0,len(files)+1)\n",
    "# each location at a given time\n",
    "X = list(itertools.product(location_idx, T))\n",
    "X2 = [(i,it) for (i,it) in X if sum([demand_dict[(i,j,it)] for j in location_idx if i !=j and it != T[-1]]) > 0]\n",
    "A1 = [(xi, xj) for xi in X for xj in X if xi[0] != xj[0] and xi[1]+1==xj[1]]\n",
    "# Relocation\n",
    "A2 = [(xi, xj) for xi in X for xj in X if xi[0]!=xj[0] and xi[1]==T[-1] and xj[1]==T[0]]"
   ]
  },
  {
   "cell_type": "code",
   "execution_count": null,
   "metadata": {},
   "outputs": [],
   "source": [
    "# Decision Variables\n",
    "Yi = LpVariable.dicts(\"Station Presence\", location_idx,0,cat=const.LpBinary)\n",
    "Zi = LpVariable.dicts(\"Size\", location_idx, 0, cat=const.LpInteger)\n",
    "# Relocation\n",
    "Rij = LpVariable.dicts(\"#Relocated_Scooters\", A2, 0, cat=const.LpInteger)\n",
    "R = LpVariable.dicts('Relocation needed', A2, 0, cat=const.LpBinary)\n",
    "Vit = LpVariable.dicts(\"#Available_Scooters\",X,0,cat=const.LpInteger)\n",
    "Ditj = LpVariable.dicts(\"#Used_Scooters\", A1, 0 ,cat=const.LpInteger)\n",
    "Xit = LpVariable.dicts(\"Availability binary\", X2, 0, cat=const.LpBinary)"
   ]
  },
  {
   "cell_type": "code",
   "execution_count": null,
   "metadata": {},
   "outputs": [],
   "source": [
    "# Objective function\n",
    "problem+=lpSum(Ditj[i] for i in A1), \"Objective function\""
   ]
  },
  {
   "cell_type": "code",
   "execution_count": null,
   "metadata": {},
   "outputs": [],
   "source": [
    "for (i,ti) in X:\n",
    "    if ti !=0:\n",
    "        problem+= Vit[(i,ti-1)] - lpSum(Ditj[((i,ti-1),(j,ti))] for j in location_idx if i !=j) + lpSum(Ditj[((j, ti-1),(i, ti))] for j in location_idx if i !=j) == Vit[(i,ti)], f\"Availability Balance {(i,ti)}\"\n"
   ]
  },
  {
   "cell_type": "code",
   "execution_count": null,
   "metadata": {},
   "outputs": [],
   "source": [
    "for (i,ti) in X:\n",
    "    if ti!=T[-1]:\n",
    "        problem+=Vit[(i,ti)] - lpSum(Ditj[((i,ti),(j,ti+1))] for j in location_idx if i !=j) >=0, f\"Stocked Scooters for {(i,ti)}\""
   ]
  },
  {
   "cell_type": "code",
   "execution_count": null,
   "metadata": {},
   "outputs": [],
   "source": [
    "# Relocation constraint\n",
    "for i in location_idx:\n",
    "    problem+=Vit[(i,0)] == Vit[(i,T[-1])] + lpSum(Rij[((j,T[-1]), (i,0))] for j in location_idx if i!=j) - lpSum(Rij[((i,T[-1]), (j,0))] for j in location_idx if i!=j), f\"Relocation balance for location {i}\""
   ]
  },
  {
   "cell_type": "code",
   "execution_count": null,
   "metadata": {},
   "outputs": [],
   "source": [
    "for a2 in A2:\n",
    "    problem+=Rij[a2]<=M*R[a2], f\"Relocation needed for {a2}\""
   ]
  },
  {
   "cell_type": "code",
   "execution_count": null,
   "metadata": {},
   "outputs": [],
   "source": [
    "for i in location_idx:\n",
    "    problem+=lpSum(Rij[((i,T[-1]), (j,0))] for j in location_idx if i!=j) <= Vit[(i,T[-1])], f\"Relocation availability for location {i}\""
   ]
  },
  {
   "cell_type": "code",
   "execution_count": null,
   "metadata": {},
   "outputs": [],
   "source": [
    "for (i,ti) in X:\n",
    "    problem+= Zi[i] >=Vit[(i,ti)], f\"Size constraint for {(i,ti)}\""
   ]
  },
  {
   "cell_type": "code",
   "execution_count": null,
   "metadata": {},
   "outputs": [],
   "source": [
    "for (i,ti) in X:\n",
    "    problem+=Vit[(i,ti)] <= Zmax*Yi[i], f\"Maximum size constraint {(i,ti)}\""
   ]
  },
  {
   "cell_type": "code",
   "execution_count": null,
   "metadata": {},
   "outputs": [],
   "source": [
    "for i in location_idx:\n",
    "    problem+=Yi[i]*Zmin <=Zi[i], f\"Minimum size constraint for {i}\""
   ]
  },
  {
   "cell_type": "code",
   "execution_count": null,
   "metadata": {},
   "outputs": [],
   "source": [
    "for ((i,ti),(j,tj)) in A1:\n",
    "    problem+=Ditj[((i,ti),(j,tj))]<=demand_dict[(i,j,ti)], f\"Maximum Demand for {((i,ti),(j,tj))}\""
   ]
  },
  {
   "cell_type": "code",
   "execution_count": null,
   "metadata": {},
   "outputs": [],
   "source": [
    "problem+=lpSum(Vit[(i,0)]*Cp_fixed_scooter for i in location_idx) + lpSum(Zi[i]*Cp_fixed_dock for i in location_idx) + lpSum(Yi[i]*Cp_fixed_station for i in location_idx)<=B, \"Maximum Budget\""
   ]
  },
  {
   "cell_type": "code",
   "execution_count": null,
   "metadata": {},
   "outputs": [],
   "source": [
    "for (i,ti) in X2:\n",
    "    problem+= Xit[(i,ti)] <= (Vit[(i,ti)] + lpSum(demand_dict[(i,j,ti)] for j in location_idx if i!=j) - lpSum(demand_dict[(i,j,ti)]*Yi[j] for j in location_idx if i!=j))/lpSum(demand_dict[(i,j,ti)] for j in location_idx if i!=j), f\"Xit value constraint for {(i,ti)}\""
   ]
  },
  {
   "cell_type": "code",
   "execution_count": null,
   "metadata": {},
   "outputs": [],
   "source": [
    "for (i,ti) in X2:\n",
    "    if ti != T[-1]:\n",
    "        problem+=Vit[(i,ti)] - lpSum(Ditj[((i,ti),(j,ti+1))] for j in location_idx if i !=j) <= M*Xit[(i,ti)]"
   ]
  },
  {
   "cell_type": "code",
   "execution_count": null,
   "metadata": {},
   "outputs": [],
   "source": [
    "for (i,ti) in X2:\n",
    "    if ti != T[-1]:\n",
    "        problem+= lpSum(Ditj[((i,ti), (j,ti+1))] for j in location_idx if i!=j) >= M*(Xit[(i,ti)]-1) + lpSum(demand_dict[(i,j,ti)]*Yi[j] for j in location_idx if i!=j)"
   ]
  },
  {
   "cell_type": "code",
   "execution_count": null,
   "metadata": {},
   "outputs": [],
   "source": [
    "if reduced:\n",
    "    logf = 'stats_demand_reduced.log'\n",
    "else:\n",
    "    logf = 'stats_demand.log'"
   ]
  },
  {
   "cell_type": "code",
   "execution_count": null,
   "metadata": {},
   "outputs": [],
   "source": [
    "solver = apis.PULP_CBC_CMD(logPath=logf, options=['DivingVectorlength on', 'DivingSome on', '-cuts off'], gapRel=0.01, timeLimit = timeLimit)\n",
    "start = time.time()\n",
    "solver.actualSolve(problem)\n",
    "end = time.time()\n",
    "print(f'Running time: {str(int(end-start))}s')\n",
    "LpStatus[problem.status]"
   ]
  },
  {
   "cell_type": "code",
   "execution_count": null,
   "metadata": {},
   "outputs": [],
   "source": [
    "obj_val_carbon = sum([Ditj[((i,ti),(j,tj))].value()*distance_dict[(i,j)]*Cc_scooter_km for ((i,ti),(j,tj)) in A1]) + \\\n",
    "    sum([(demand_dict[(i,j,ti)]-Ditj[((i,ti),(j,tj))].value())*distance_dict[(i,j)]*C_pen[i] for ((i,ti),(j,tj)) in A1]) + \\\n",
    "    sum([R[((i,ti), (j,tj))].value()*distance_dict[(i,j)]*Cc_r for ((i,ti), (j,tj)) in A2]) + \\\n",
    "    sum([Vit[(i,t)].value()*Cc_fixed_scooter for (i,t) in X if t==0]) + \\\n",
    "    sum([Zi[i].value()*Cc_fixed_dock for i in location_idx]) + \\\n",
    "    sum([Yi[i].value()*Cc_fixed_station for i in location_idx])"
   ]
  },
  {
   "cell_type": "code",
   "execution_count": null,
   "metadata": {},
   "outputs": [],
   "source": [
    "obj_val_profit = sum([Ditj[((i,ti),(j,tj))].value()*(distance_dict[(i,j)]*(P_km-Cp_scooter_km) + P_init) for ((i,ti),(j,tj)) in A1]) - \\\n",
    "    sum([R[((i,ti), (j,tj))].value()*distance_dict[(i,j)]*Cp_r for ((i,ti), (j,tj)) in A2]) - \\\n",
    "    sum([Vit[(i,t)].value()*Cp_fixed_scooter for (i,t) in X if t==0]) - \\\n",
    "    sum([Zi[i].value()*Cp_fixed_dock for i in location_idx]) - \\\n",
    "    sum([Yi[i].value()*Cp_fixed_station for i in location_idx])"
   ]
  },
  {
   "cell_type": "code",
   "execution_count": null,
   "metadata": {},
   "outputs": [],
   "source": [
    "# Extracting the results\n",
    "#(idx, LpVariable)\n",
    "size_list = []\n",
    "for _,v in Zi.items():\n",
    "    size_list.append(v.value())  \n",
    "docks_num = sum(size_list)"
   ]
  },
  {
   "cell_type": "code",
   "execution_count": null,
   "metadata": {},
   "outputs": [],
   "source": [
    "station_list = []\n",
    "for _,v in Yi.items():\n",
    "    station_list.append(v.value())\n",
    "stations_num = sum(station_list)"
   ]
  },
  {
   "cell_type": "code",
   "execution_count": null,
   "metadata": {},
   "outputs": [],
   "source": [
    "df_results = pd.DataFrame(list(zip(locations, station_list, size_list)), columns=[\"Location\",\"Station\", \"Size\"])\n",
    "df_results"
   ]
  },
  {
   "cell_type": "code",
   "execution_count": null,
   "metadata": {},
   "outputs": [],
   "source": [
    "if reduced:\n",
    "    df_results.to_csv(\"results-demand-reduced-NOcuts.csv\", index=False)\n",
    "else:\n",
    "    df_results.to_csv(\"results-demand-NOcuts.csv\", index=False)"
   ]
  },
  {
   "cell_type": "code",
   "execution_count": null,
   "metadata": {},
   "outputs": [],
   "source": [
    "total_Vit = dict()\n",
    "for k,v in Vit.items():\n",
    "    if k[1] not in total_Vit:\n",
    "        total_Vit[k[1]] = int(v.varValue)\n",
    "    else:\n",
    "        total_Vit[k[1]]+=int(v.varValue)\n",
    "total_scooters = total_Vit[0]"
   ]
  },
  {
   "cell_type": "code",
   "execution_count": null,
   "metadata": {},
   "outputs": [],
   "source": [
    "satisfied_demand = 0\n",
    "for _,v in Ditj.items():\n",
    "    satisfied_demand+=v.varValue"
   ]
  },
  {
   "cell_type": "code",
   "execution_count": null,
   "metadata": {},
   "outputs": [],
   "source": [
    "relocated_scooters = 0\n",
    "for k,v in Rij.items():\n",
    "    if v.varValue>0:\n",
    "        print(f\"Rij[{k}] = {v.varValue}\")\n",
    "        relocated_scooters+=v.varValue"
   ]
  },
  {
   "cell_type": "code",
   "execution_count": null,
   "metadata": {},
   "outputs": [],
   "source": [
    "fixed_cost = sum([Vit[(i,0)].value()*Cp_fixed_scooter for i in location_idx]) + sum([Zi[i].value()*Cp_fixed_dock for i in location_idx]) + sum([Yi[i].value()*Cp_fixed_station for i in location_idx])"
   ]
  },
  {
   "cell_type": "code",
   "execution_count": null,
   "metadata": {},
   "outputs": [],
   "source": [
    "loc_trips = dict()\n",
    "\n",
    "for l in location_idx:\n",
    "    loc = locations[l]\n",
    "    df = pd.DataFrame(columns=['Time', 'Available', 'Leaving', 'Arriving', 'Demand', 'Xit'])\n",
    "    for t in T:\n",
    "        if t!=T[-1]:\n",
    "            available = Vit[(l,t)].value()\n",
    "            leaving = sum([Ditj[((l,t),(j,t+1))].value() for j in location_idx if j!=l and t!=T[-1]])\n",
    "            arriving = sum([Ditj[((j,t),(l,t+1))].value() for j in location_idx if j!=l and t!=T[-1]])\n",
    "            time = f\"{int(t+5)}:00-{int(t+5)}:59\"\n",
    "            d = sum([demand_dict[(l,j,t)] for j in location_idx if j!=l])\n",
    "            x = Xit[(l,t)].value() if (l,t) in X2 else None\n",
    "            df.loc[-1] = [time, int(available), int(leaving), int(arriving), int(d), x]\n",
    "            df.index = df.index + 1\n",
    "    relocate_from = sum([Rij[((l,T[-1]), (j,0))].value() for j in location_idx if j!=l])\n",
    "    relocate_to = sum([Rij[((j,T[-1]), (l,0))].value() for j in location_idx if j!=l])\n",
    "    df.loc[-1] = ['Relocate', None, int(relocate_from), int(relocate_to), None, None]\n",
    "    df.index = df.index + 1\n",
    "    loc_trips[loc] = df"
   ]
  },
  {
   "cell_type": "code",
   "execution_count": null,
   "metadata": {},
   "outputs": [],
   "source": [
    "import report_generator as r\n",
    "r.station_stats(loc_trips)"
   ]
  },
  {
   "cell_type": "code",
   "execution_count": null,
   "metadata": {},
   "outputs": [],
   "source": [
    "import csv\n",
    "variable_values = dict()\n",
    "for v in problem.variables():\n",
    "    variable_values[v.name] = v.value()\n",
    "\n",
    "variable_values_df = pd.DataFrame.from_dict(variable_values, orient='index')\n",
    "df_csv = variable_values_df.to_csv(index=True)\n",
    "\n",
    "if reduced:\n",
    "    filename = 'variable_values_demand_reduced_NOcuts.csv'\n",
    "else:\n",
    "    filename = 'variable_values_demand_NOcuts.csv'\n",
    " \n",
    "with open(filename, 'w') as f:\n",
    "    f.write(df_csv)"
   ]
  },
  {
   "cell_type": "code",
   "execution_count": null,
   "metadata": {},
   "outputs": [],
   "source": [
    "print('------------- Statistics -------------')\n",
    "print(f\"Objective value carbon: {obj_val_carbon}\")\n",
    "print(f\"Objective value profit: {obj_val_profit}\")\n",
    "print(f\"Number of Scooters: {total_scooters}\")\n",
    "print(f'Trips made: {satisfied_demand}')\n",
    "print(f'Satisfied demand: {satisfied_demand/total_demand}')\n",
    "print(f'Avg. Scooter rides per day: {satisfied_demand/total_scooters}')\n",
    "print(f'Number of Relocated scooters: {relocated_scooters}')\n",
    "print(f\"Total fixed cost: {fixed_cost}\")\n",
    "print(f'Number of docks: {docks_num}')\n",
    "print(f'Number of stations: {stations_num}')"
   ]
  }
 ]
}