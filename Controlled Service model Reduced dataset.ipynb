{
 "metadata": {
  "language_info": {
   "codemirror_mode": {
    "name": "ipython",
    "version": 3
   },
   "file_extension": ".py",
   "mimetype": "text/x-python",
   "name": "python",
   "nbconvert_exporter": "python",
   "pygments_lexer": "ipython3",
   "version": "3.7.9-final"
  },
  "orig_nbformat": 2,
  "kernelspec": {
   "name": "python3",
   "display_name": "Python 3.7.9 64-bit ('py37': conda)",
   "metadata": {
    "interpreter": {
     "hash": "68cf0db5f3067a4776d13d703f6192178ebe9e16ae02aeaaff6ace0660eb419e"
    }
   }
  }
 },
 "nbformat": 4,
 "nbformat_minor": 2,
 "cells": [
  {
   "source": [
    "Without coinstrints 19-21  \n",
    "Without S"
   ],
   "cell_type": "markdown",
   "metadata": {}
  },
  {
   "cell_type": "code",
   "execution_count": 1,
   "metadata": {},
   "outputs": [],
   "source": [
    "import pandas as pd\n",
    "import numpy as np\n",
    "import itertools\n",
    "import os\n",
    "import collections\n",
    "from pulp import *"
   ]
  },
  {
   "cell_type": "code",
   "execution_count": 2,
   "metadata": {},
   "outputs": [],
   "source": [
    "minimise = True"
   ]
  },
  {
   "cell_type": "code",
   "execution_count": 3,
   "metadata": {},
   "outputs": [],
   "source": [
    "if minimise:\n",
    "    problem = LpProblem(\"E-Scooter Allocation Carbon Minimisation\", LpMinimize)\n",
    "else:\n",
    "    problem = LpProblem(\"E-Scooter Allocation Profit Maximisation\", LpMaximize)"
   ]
  },
  {
   "cell_type": "code",
   "execution_count": 4,
   "metadata": {},
   "outputs": [],
   "source": [
    "df_distance = pd.read_csv(\"Data/Model Data - Smaller set Distance.csv\")\n",
    "df_distance.fillna(0, inplace=True)\n",
    "distance = df_distance.values[:,1:]\n",
    "distance_dict = { (x,y): distance[x][y] for x in range(distance.shape[0]) for y in range(distance.shape[1])}"
   ]
  },
  {
   "cell_type": "code",
   "execution_count": 5,
   "metadata": {},
   "outputs": [],
   "source": [
    "locations = list(df_distance['Location'])\n",
    "location_idx = np.arange(0, len(locations))\n",
    "loc_count = len(locations)"
   ]
  },
  {
   "cell_type": "code",
   "execution_count": 6,
   "metadata": {
    "tags": []
   },
   "outputs": [],
   "source": [
    "d = dict()\n",
    "files = os.listdir('Data/Reduced set Demand/')\n",
    "for f in files:\n",
    "    hour = int(f.split(sep='.', maxsplit=1)[0])\n",
    "    df = pd.read_csv('Data/Reduced set Demand/' + f)\n",
    "    demand_arr = df.values[:,1:]\n",
    "    d[hour] = demand_arr"
   ]
  },
  {
   "cell_type": "code",
   "execution_count": 7,
   "metadata": {},
   "outputs": [],
   "source": [
    "demand = collections.OrderedDict(sorted(d.items())) "
   ]
  },
  {
   "cell_type": "code",
   "execution_count": 8,
   "metadata": {},
   "outputs": [],
   "source": [
    "demand_dict = dict()\n",
    "for i,(_,v) in enumerate(demand.items()):\n",
    "    demand_dict.update({(x,y,i): v[x][y] for x in range(loc_count) for y in range(loc_count)})"
   ]
  },
  {
   "cell_type": "code",
   "execution_count": 9,
   "metadata": {},
   "outputs": [],
   "source": [
    "# Parameters\n",
    "Nmax = 10\n",
    "Zmax = 100\n",
    "Zmin = 1\n",
    "# Carbon Cost values\n",
    "Cc_scooter_km = 7\n",
    "Cc_fixed_scooter = 167\n",
    "Cc_fixed_dock = 46\n",
    "Cc_fixed_station = 6\n",
    "# Cost relocation\n",
    "Cc_r = 160\n",
    "\n",
    "scalar = 1.25\n",
    "\n",
    "Qmin = 0\n",
    "# Cost values\n",
    "# cost of maintaining one scooter per kilometer driven\n",
    "Cp_scooter_km = 0.4\n",
    "Cp_fixed_scooter = 0.38\n",
    "Cp_fixed_dock = 0.92\n",
    "Cp_fixed_station = 2.3\n",
    "# Cost relocation\n",
    "Cp_r = 1.6\n",
    "# Price rate for kilometer driven\n",
    "P_km = 0.6\n",
    "# Price for pickup\n",
    "P_init = 1"
   ]
  },
  {
   "cell_type": "code",
   "execution_count": 10,
   "metadata": {},
   "outputs": [],
   "source": [
    "# Penalty\n",
    "df_penalty = pd.read_csv(\"Data/Penalty Carbon Costs Smaller set.csv\")\n",
    "C_pen = df_penalty.values[:, 1]\n",
    "C_pen = C_pen*scalar"
   ]
  },
  {
   "cell_type": "code",
   "execution_count": 11,
   "metadata": {},
   "outputs": [],
   "source": [
    "# Sets\n",
    "T = np.arange(0,len(files)+1)\n",
    "# each location at a given time\n",
    "X = list(itertools.product(location_idx, T))\n",
    "#X2 = [(i,it) for (i,it) in X if sum([demand_dict[(i,j,it)] for j in location_idx if i !=j and it != T[-1]]) > 0]\n",
    "A1 = [(xi, xj) for xi in X for xj in X if xi[0] != xj[0] and xi[1]+1==xj[1]]\n",
    "# Relocation\n",
    "A3 = [(xi, xj) for xi in X for xj in X if xi[0]!=xj[0] and xi[1]==T[-1] and xj[1]==T[0]]"
   ]
  },
  {
   "cell_type": "code",
   "execution_count": 12,
   "metadata": {},
   "outputs": [],
   "source": [
    "# Decision Variables\n",
    "Yi = LpVariable.dicts(\"Station Presence\", location_idx,0,cat=const.LpBinary)\n",
    "Zi = LpVariable.dicts(\"Size\", location_idx, 0, cat=\"Continuous\")\n",
    "# Relocation\n",
    "Rij = LpVariable.dicts(\"#Relocated_Scooters\", A3, 0, cat=const.LpInteger)\n",
    "R = LpVariable.dicts('Relocation needed', A3, 0, cat=const.LpBinary)\n",
    "Vit = LpVariable.dicts(\"#Available_Scooters\",X,0,cat=\"Continuous\")\n",
    "#Sit = LpVariable.dicts(\"#Stocked_Scooters\", A2, 0, cat=\"Continuous\")\n",
    "Ditj = LpVariable.dicts(\"#Used_Scooters\", A1, 0 ,cat=\"Continuous\")\n",
    "#Xit = LpVariable.dicts(\"Availability binary\", X2, 0, cat=const.LpBinary)\n",
    "\n",
    "if minimise:\n",
    "    O = LpVariable(\"Profit Max Objective function value\", 0, cat='Continuous')\n",
    "else:\n",
    "    O = LpVariable(\"Carbon Min Objective function value\", 0, cat='Continuous')"
   ]
  },
  {
   "cell_type": "code",
   "execution_count": 13,
   "metadata": {},
   "outputs": [],
   "source": [
    "# Objective function\n",
    "if minimise:\n",
    "    problem+=lpSum(Ditj[((i,ti),(j,tj))]*distance_dict[(i,j)]*Cc_scooter_km for ((i,ti),(j,tj)) in A1) + \\\n",
    "    lpSum((demand_dict[(i,j,ti)]-Ditj[((i,ti),(j,tj))])*distance_dict[(i,j)]*C_pen[i] for ((i,ti),(j,tj)) in A1) + \\\n",
    "    lpSum(R[((i,ti), (j,tj))]*distance_dict[(i,j)]*Cc_r for ((i,ti), (j,tj)) in A3) + \\\n",
    "    lpSum(Vit[(i,t)]*Cc_fixed_scooter for (i,t) in X if t==0) + \\\n",
    "    lpSum(Zi[i]*Cc_fixed_dock for i in location_idx) + \\\n",
    "    lpSum(Yi[i]*Cc_fixed_station for i in location_idx), \"Objective function\"\n",
    "\n",
    "    problem+= O == lpSum(Ditj[((i,ti),(j,tj))]*(distance_dict[(i,j)]*(P_km-Cp_scooter_km) + P_init) for ((i,ti),(j,tj)) in A1) - \\\n",
    "    lpSum(R[((i,ti), (j,tj))]*distance_dict[(i,j)]*Cp_r for ((i,ti), (j,tj)) in A3) - \\\n",
    "    lpSum(Vit[(i,t)]*Cp_fixed_scooter for (i,t) in X if t==0) - \\\n",
    "    lpSum(Zi[i]*Cp_fixed_dock for i in location_idx) - \\\n",
    "    lpSum(Yi[i]*Cp_fixed_station for i in location_idx), \"Profit Max Objective function value\"\n",
    "else:\n",
    "    problem+=lpSum(Ditj[((i,ti),(j,tj))]*(distance_dict[(i,j)]*(P_km-Cp_scooter_km) + P_init) for ((i,ti),(j,tj)) in A1) - \\\n",
    "    lpSum(R[((i,ti), (j,tj))]*distance_dict[(i,j)]*Cp_r for ((i,ti), (j,tj)) in A3) - \\\n",
    "    lpSum(Vit[(i,t)]*Cp_fixed_scooter for (i,t) in X if t==0) - \\\n",
    "    lpSum(Zi[i]*Cp_fixed_dock for i in location_idx) - \\\n",
    "    lpSum(Yi[i]*Cp_fixed_station for i in location_idx), \"Objective function\"\n",
    "\n",
    "    problem+= O == lpSum(Ditj[((i,ti),(j,tj))]*distance_dict[(i,j)]*Cc_scooter_km for ((i,ti),(j,tj)) in A1) + \\\n",
    "    lpSum((demand_dict[(i,j,ti)]-Ditj[((i,ti),(j,tj))])*distance_dict[(i,j)]*C_pen[i] for ((i,ti),(j,tj)) in A1) + \\\n",
    "    lpSum(R[((i,ti), (j,tj))]*distance_dict[(i,j)]*Cc_r for ((i,ti), (j,tj)) in A3) + \\\n",
    "    lpSum(Vit[(i,t)]*Cc_fixed_scooter for (i,t) in X if t==0) + \\\n",
    "    lpSum(Zi[i]*Cc_fixed_dock for i in location_idx) + \\\n",
    "    lpSum(Yi[i]*Cc_fixed_station for i in location_idx), \"Carbon Min Objective function value\"\n"
   ]
  },
  {
   "cell_type": "code",
   "execution_count": 14,
   "metadata": {},
   "outputs": [],
   "source": [
    "for a3 in A3:\n",
    "    problem+=Rij[a3]<=Zmax*R[a3], f\"Relocation needed for {a3}\""
   ]
  },
  {
   "cell_type": "code",
   "execution_count": 15,
   "metadata": {},
   "outputs": [],
   "source": [
    "for (i,ti) in X:\n",
    "    if ti !=0:\n",
    "        problem+= Vit[(i,ti-1)] - lpSum(Ditj[((i,ti-1),(j,ti))] for j in location_idx if i !=j) + lpSum(Ditj[((j, ti-1),(i, ti))] for j in location_idx if i !=j) == Vit[(i,ti)], f\"Availability Balance {(i,ti)}\"\n"
   ]
  },
  {
   "cell_type": "code",
   "execution_count": 16,
   "metadata": {},
   "outputs": [],
   "source": [
    "for (i,ti) in X:\n",
    "    if ti!=T[-1]:\n",
    "        problem+=Vit[(i,ti)] - lpSum(Ditj[((i,ti),(j,ti+1))] for j in location_idx if i !=j) >=0 , f\"Stocked Scooters for {(i,ti)}\""
   ]
  },
  {
   "cell_type": "code",
   "execution_count": 17,
   "metadata": {},
   "outputs": [],
   "source": [
    "# Relocation constraint\n",
    "for i in location_idx:\n",
    "    problem+=Vit[(i,0)] == Vit[(i,T[-1])] + lpSum(Rij[((j,T[-1]), (i,0))] for j in location_idx if i!=j) - lpSum(Rij[((i,T[-1]), (j,0))] for j in location_idx if i!=j), f\"Relocation balance for location {i}\""
   ]
  },
  {
   "cell_type": "code",
   "execution_count": 18,
   "metadata": {},
   "outputs": [],
   "source": [
    "for i in location_idx:\n",
    "    problem+=lpSum(Rij[((i,T[-1]), (j,0))] for j in location_idx if i!=j) <= Vit[(i,T[-1])], f\"Relocation availability for location {i}\""
   ]
  },
  {
   "cell_type": "code",
   "execution_count": 19,
   "metadata": {},
   "outputs": [],
   "source": [
    "for (i,ti) in X:\n",
    "    problem+= Zi[i] >=Vit[(i,ti)], f\"Size constraint for {(i,ti)}\""
   ]
  },
  {
   "cell_type": "code",
   "execution_count": 20,
   "metadata": {},
   "outputs": [],
   "source": [
    "for (i,ti) in X:\n",
    "    problem+=Vit[(i,ti)] <= Zmax*Yi[i], f\"Maximum size constraint {(i,ti)}\""
   ]
  },
  {
   "cell_type": "code",
   "execution_count": 21,
   "metadata": {},
   "outputs": [],
   "source": [
    "for i in location_idx:\n",
    "    problem+=Yi[i]*Zmin <=Zi[i], f\"Minimum size constraint for {i}\""
   ]
  },
  {
   "cell_type": "code",
   "execution_count": 22,
   "metadata": {},
   "outputs": [],
   "source": [
    "for ((i,ti),(j,tj)) in A1:\n",
    "    problem+=Ditj[((i,ti),(j,tj))]<=demand_dict[(i,j,ti)], f\"Maximum Demand for {((i,ti),(j,tj))}\""
   ]
  },
  {
   "cell_type": "code",
   "execution_count": 23,
   "metadata": {},
   "outputs": [],
   "source": [
    "problem+=lpSum(Yi[i] for i in location_idx) <= Nmax, f\"Maximum number of docks\""
   ]
  },
  {
   "cell_type": "code",
   "execution_count": 24,
   "metadata": {},
   "outputs": [],
   "source": [
    "if not minimise:\n",
    "    problem+=lpSum(v for v in Ditj.values())/lpSum(v for v in demand_dict.values()) >= Qmin, \"Minimum satisfied demand\""
   ]
  },
  {
   "cell_type": "code",
   "execution_count": 25,
   "metadata": {},
   "outputs": [],
   "source": [
    "# for (i,ti) in X2:\n",
    "#     problem+= Xit[(i,ti)] <= (Vit[(i,ti)] + lpSum(demand_dict[(i,j,ti)] for j in location_idx if i!=j) - lpSum(demand_dict[(i,j,ti)]*Yi[j] for j in location_idx if i!=j))/lpSum(demand_dict[(i,j,ti)] for j in location_idx if i!=j), f\"Xit value constraint for {(i,ti)}\""
   ]
  },
  {
   "cell_type": "code",
   "execution_count": 26,
   "metadata": {},
   "outputs": [],
   "source": [
    "# for (i,ti) in X2:\n",
    "#     if ti != T[-1]:\n",
    "#         problem+=Vit[(i,ti)] - lpSum(Ditj[((i,ti),(j,ti+1))] for j in location_idx if i !=j) <= Zmax*Xit[(i,ti)]"
   ]
  },
  {
   "cell_type": "code",
   "execution_count": 27,
   "metadata": {},
   "outputs": [],
   "source": [
    "# for (i,ti) in X2:\n",
    "#     if ti != T[-1]:\n",
    "#         problem+= lpSum(Ditj[((i,ti), (j,ti+1))] for j in location_idx if i!=j) >= lpSum(demand_dict[(i,j,ti)]*(Xit[(i,ti)]-1) for j in location_idx if i!=j) + lpSum(demand_dict[(i,j,ti)]*Yi[j] for j in location_idx if i!=j)"
   ]
  },
  {
   "cell_type": "code",
   "execution_count": 28,
   "metadata": {},
   "outputs": [
    {
     "output_type": "execute_result",
     "data": {
      "text/plain": [
       "'Optimal'"
      ]
     },
     "metadata": {},
     "execution_count": 28
    }
   ],
   "source": [
    "# if minimise:\n",
    "#     problem.writeLP(\"E-scooterProblem Carbon Min.lp\")\n",
    "# else:\n",
    "#     problem.writeLP(\"E-scooterProblem Profit Max.lp\")\n",
    "problem.solve()\n",
    "LpStatus[problem.status]"
   ]
  },
  {
   "cell_type": "code",
   "execution_count": 29,
   "metadata": {
    "tags": []
   },
   "outputs": [
    {
     "output_type": "stream",
     "name": "stdout",
     "text": [
      "#Available_Scooters_(12,_0) = 36.0\n",
      "#Available_Scooters_(12,_1) = 33.0\n",
      "#Available_Scooters_(12,_10) = 3.0\n",
      "#Available_Scooters_(12,_11) = 11.0\n",
      "#Available_Scooters_(12,_12) = 19.0\n",
      "#Available_Scooters_(12,_13) = 25.0\n",
      "#Available_Scooters_(12,_14) = 33.0\n",
      "#Available_Scooters_(12,_15) = 33.0\n",
      "#Available_Scooters_(12,_16) = 34.0\n",
      "#Available_Scooters_(12,_17) = 34.0\n",
      "#Available_Scooters_(12,_18) = 35.0\n",
      "#Available_Scooters_(12,_19) = 36.0\n",
      "#Available_Scooters_(12,_2) = 24.0\n",
      "#Available_Scooters_(12,_3) = 14.0\n",
      "#Available_Scooters_(12,_4) = 6.0\n",
      "#Available_Scooters_(12,_5) = 4.0\n",
      "#Available_Scooters_(12,_6) = 3.0\n",
      "#Available_Scooters_(12,_7) = 3.0\n",
      "#Available_Scooters_(12,_8) = 2.0\n",
      "#Available_Scooters_(12,_9) = 1.0\n",
      "#Available_Scooters_(13,_0) = 10.0\n",
      "#Available_Scooters_(13,_1) = 10.0\n",
      "#Available_Scooters_(13,_10) = 3.0\n",
      "#Available_Scooters_(13,_11) = 5.0\n",
      "#Available_Scooters_(13,_12) = 8.0\n",
      "#Available_Scooters_(13,_13) = 6.0\n",
      "#Available_Scooters_(13,_14) = 8.0\n",
      "#Available_Scooters_(13,_15) = 9.0\n",
      "#Available_Scooters_(13,_16) = 10.0\n",
      "#Available_Scooters_(13,_17) = 10.0\n",
      "#Available_Scooters_(13,_18) = 10.0\n",
      "#Available_Scooters_(13,_19) = 10.0\n",
      "#Available_Scooters_(13,_2) = 7.0\n",
      "#Available_Scooters_(13,_3) = 7.0\n",
      "#Available_Scooters_(13,_4) = 4.0\n",
      "#Available_Scooters_(13,_5) = 3.0\n",
      "#Available_Scooters_(13,_6) = 2.0\n",
      "#Available_Scooters_(13,_7) = 2.0\n",
      "#Available_Scooters_(13,_8) = 2.0\n",
      "#Available_Scooters_(13,_9) = 2.0\n",
      "#Available_Scooters_(14,_0) = 3.0\n",
      "#Available_Scooters_(14,_1) = 3.0\n",
      "#Available_Scooters_(14,_10) = 4.0\n",
      "#Available_Scooters_(14,_11) = 6.0\n",
      "#Available_Scooters_(14,_12) = 6.0\n",
      "#Available_Scooters_(14,_13) = 5.0\n",
      "#Available_Scooters_(14,_14) = 3.0\n",
      "#Available_Scooters_(14,_15) = 3.0\n",
      "#Available_Scooters_(14,_16) = 3.0\n",
      "#Available_Scooters_(14,_17) = 3.0\n",
      "#Available_Scooters_(14,_18) = 3.0\n",
      "#Available_Scooters_(14,_19) = 3.0\n",
      "#Available_Scooters_(14,_2) = 5.0\n",
      "#Available_Scooters_(14,_3) = 6.0\n",
      "#Available_Scooters_(14,_4) = 6.0\n",
      "#Available_Scooters_(14,_5) = 5.0\n",
      "#Available_Scooters_(14,_6) = 4.0\n",
      "#Available_Scooters_(14,_7) = 3.0\n",
      "#Available_Scooters_(14,_8) = 2.0\n",
      "#Available_Scooters_(14,_9) = 1.0\n",
      "#Available_Scooters_(16,_0) = 1.0\n",
      "#Available_Scooters_(16,_1) = 6.0\n",
      "#Available_Scooters_(16,_10) = 70.0\n",
      "#Available_Scooters_(16,_11) = 50.0\n",
      "#Available_Scooters_(16,_12) = 33.0\n",
      "#Available_Scooters_(16,_13) = 21.0\n",
      "#Available_Scooters_(16,_14) = 10.0\n",
      "#Available_Scooters_(16,_15) = 7.0\n",
      "#Available_Scooters_(16,_16) = 5.0\n",
      "#Available_Scooters_(16,_17) = 5.0\n",
      "#Available_Scooters_(16,_18) = 4.0\n",
      "#Available_Scooters_(16,_19) = 1.0\n",
      "#Available_Scooters_(16,_2) = 14.0\n",
      "#Available_Scooters_(16,_3) = 40.0\n",
      "#Available_Scooters_(16,_4) = 58.0\n",
      "#Available_Scooters_(16,_5) = 68.0\n",
      "#Available_Scooters_(16,_6) = 74.0\n",
      "#Available_Scooters_(16,_7) = 76.0\n",
      "#Available_Scooters_(16,_8) = 80.0\n",
      "#Available_Scooters_(16,_9) = 83.0\n",
      "#Available_Scooters_(18,_0) = 25.0\n",
      "#Available_Scooters_(18,_1) = 23.0\n",
      "#Available_Scooters_(18,_10) = 3.0\n",
      "#Available_Scooters_(18,_11) = 6.0\n",
      "#Available_Scooters_(18,_12) = 10.0\n",
      "#Available_Scooters_(18,_13) = 16.0\n",
      "#Available_Scooters_(18,_14) = 20.0\n",
      "#Available_Scooters_(18,_15) = 22.0\n",
      "#Available_Scooters_(18,_16) = 23.0\n",
      "#Available_Scooters_(18,_17) = 23.0\n",
      "#Available_Scooters_(18,_18) = 24.0\n",
      "#Available_Scooters_(18,_19) = 25.0\n",
      "#Available_Scooters_(18,_2) = 19.0\n",
      "#Available_Scooters_(18,_3) = 10.0\n",
      "#Available_Scooters_(18,_4) = 7.0\n",
      "#Available_Scooters_(18,_5) = 5.0\n",
      "#Available_Scooters_(18,_6) = 4.0\n",
      "#Available_Scooters_(18,_7) = 4.0\n",
      "#Available_Scooters_(18,_8) = 3.0\n",
      "#Available_Scooters_(18,_9) = 2.0\n",
      "#Available_Scooters_(19,_0) = 3.0\n",
      "#Available_Scooters_(19,_1) = 10.0\n",
      "#Available_Scooters_(19,_10) = 26.0\n",
      "#Available_Scooters_(19,_11) = 26.0\n",
      "#Available_Scooters_(19,_12) = 23.0\n",
      "#Available_Scooters_(19,_13) = 23.0\n",
      "#Available_Scooters_(19,_14) = 14.0\n",
      "#Available_Scooters_(19,_15) = 9.0\n",
      "#Available_Scooters_(19,_16) = 9.0\n",
      "#Available_Scooters_(19,_17) = 8.0\n",
      "#Available_Scooters_(19,_18) = 6.0\n",
      "#Available_Scooters_(19,_19) = 3.0\n",
      "#Available_Scooters_(19,_2) = 23.0\n",
      "#Available_Scooters_(19,_3) = 24.0\n",
      "#Available_Scooters_(19,_4) = 28.0\n",
      "#Available_Scooters_(19,_5) = 30.0\n",
      "#Available_Scooters_(19,_6) = 29.0\n",
      "#Available_Scooters_(19,_7) = 29.0\n",
      "#Available_Scooters_(19,_8) = 30.0\n",
      "#Available_Scooters_(19,_9) = 31.0\n",
      "#Available_Scooters_(2,_0) = 12.0\n",
      "#Available_Scooters_(2,_1) = 11.0\n",
      "#Available_Scooters_(2,_10) = 2.0\n",
      "#Available_Scooters_(2,_11) = 4.0\n",
      "#Available_Scooters_(2,_12) = 6.0\n",
      "#Available_Scooters_(2,_13) = 8.0\n",
      "#Available_Scooters_(2,_14) = 11.0\n",
      "#Available_Scooters_(2,_15) = 12.0\n",
      "#Available_Scooters_(2,_16) = 12.0\n",
      "#Available_Scooters_(2,_17) = 12.0\n",
      "#Available_Scooters_(2,_18) = 12.0\n",
      "#Available_Scooters_(2,_19) = 12.0\n",
      "#Available_Scooters_(2,_2) = 8.0\n",
      "#Available_Scooters_(2,_3) = 6.0\n",
      "#Available_Scooters_(2,_4) = 2.0\n",
      "#Available_Scooters_(2,_5) = 1.0\n",
      "#Available_Scooters_(2,_6) = 1.0\n",
      "#Available_Scooters_(2,_7) = 1.0\n",
      "#Available_Scooters_(2,_8) = 1.0\n",
      "#Available_Scooters_(2,_9) = 1.0\n",
      "#Available_Scooters_(4,_0) = 5.0\n",
      "#Available_Scooters_(4,_1) = 2.0\n",
      "#Available_Scooters_(4,_10) = 3.0\n",
      "#Available_Scooters_(4,_11) = 5.0\n",
      "#Available_Scooters_(4,_12) = 5.0\n",
      "#Available_Scooters_(4,_13) = 3.0\n",
      "#Available_Scooters_(4,_14) = 3.0\n",
      "#Available_Scooters_(4,_15) = 3.0\n",
      "#Available_Scooters_(4,_16) = 3.0\n",
      "#Available_Scooters_(4,_17) = 3.0\n",
      "#Available_Scooters_(4,_18) = 3.0\n",
      "#Available_Scooters_(4,_19) = 5.0\n",
      "#Available_Scooters_(4,_2) = 2.0\n",
      "#Available_Scooters_(4,_3) = 5.0\n",
      "#Available_Scooters_(4,_4) = 4.0\n",
      "#Available_Scooters_(4,_5) = 3.0\n",
      "#Available_Scooters_(4,_6) = 3.0\n",
      "#Available_Scooters_(4,_7) = 3.0\n",
      "#Available_Scooters_(4,_8) = 2.0\n",
      "#Available_Scooters_(4,_9) = 1.0\n",
      "#Available_Scooters_(6,_0) = 21.0\n",
      "#Available_Scooters_(6,_1) = 19.0\n",
      "#Available_Scooters_(6,_10) = 4.0\n",
      "#Available_Scooters_(6,_11) = 6.0\n",
      "#Available_Scooters_(6,_12) = 9.0\n",
      "#Available_Scooters_(6,_13) = 9.0\n",
      "#Available_Scooters_(6,_14) = 15.0\n",
      "#Available_Scooters_(6,_15) = 18.0\n",
      "#Available_Scooters_(6,_16) = 18.0\n",
      "#Available_Scooters_(6,_17) = 19.0\n",
      "#Available_Scooters_(6,_18) = 20.0\n",
      "#Available_Scooters_(6,_19) = 21.0\n",
      "#Available_Scooters_(6,_2) = 14.0\n",
      "#Available_Scooters_(6,_3) = 7.0\n",
      "#Available_Scooters_(6,_4) = 3.0\n",
      "#Available_Scooters_(6,_5) = 1.0\n",
      "#Available_Scooters_(6,_6) = 1.0\n",
      "#Available_Scooters_(6,_7) = 1.0\n",
      "#Available_Scooters_(6,_8) = 1.0\n",
      "#Available_Scooters_(6,_9) = 1.0\n",
      "#Available_Scooters_(9,_0) = 8.0\n",
      "#Available_Scooters_(9,_1) = 7.0\n",
      "#Available_Scooters_(9,_10) = 6.0\n",
      "#Available_Scooters_(9,_11) = 5.0\n",
      "#Available_Scooters_(9,_12) = 5.0\n",
      "#Available_Scooters_(9,_13) = 8.0\n",
      "#Available_Scooters_(9,_14) = 7.0\n",
      "#Available_Scooters_(9,_15) = 8.0\n",
      "#Available_Scooters_(9,_16) = 7.0\n",
      "#Available_Scooters_(9,_17) = 7.0\n",
      "#Available_Scooters_(9,_18) = 7.0\n",
      "#Available_Scooters_(9,_19) = 8.0\n",
      "#Available_Scooters_(9,_2) = 8.0\n",
      "#Available_Scooters_(9,_3) = 5.0\n",
      "#Available_Scooters_(9,_4) = 6.0\n",
      "#Available_Scooters_(9,_5) = 4.0\n",
      "#Available_Scooters_(9,_6) = 3.0\n",
      "#Available_Scooters_(9,_7) = 2.0\n",
      "#Available_Scooters_(9,_8) = 1.0\n",
      "#Available_Scooters_(9,_9) = 1.0\n",
      "#Used_Scooters_((12,_0),_(16,_1)) = 3.0\n",
      "#Used_Scooters_((12,_1),_(14,_2)) = 1.0\n",
      "#Used_Scooters_((12,_1),_(16,_2)) = 6.0\n",
      "#Used_Scooters_((12,_1),_(19,_2)) = 1.0\n",
      "#Used_Scooters_((12,_1),_(9,_2)) = 1.0\n",
      "#Used_Scooters_((12,_10),_(16,_11)) = 1.0\n",
      "#Used_Scooters_((12,_11),_(16,_12)) = 1.0\n",
      "#Used_Scooters_((12,_12),_(9,_13)) = 1.0\n",
      "#Used_Scooters_((12,_2),_(14,_3)) = 1.0\n",
      "#Used_Scooters_((12,_2),_(16,_3)) = 8.0\n",
      "#Used_Scooters_((12,_2),_(19,_3)) = 1.0\n",
      "#Used_Scooters_((12,_2),_(9,_3)) = 1.0\n",
      "#Used_Scooters_((12,_3),_(14,_4)) = 1.0\n",
      "#Used_Scooters_((12,_3),_(16,_4)) = 5.0\n",
      "#Used_Scooters_((12,_3),_(19,_4)) = 1.0\n",
      "#Used_Scooters_((12,_3),_(9,_4)) = 1.0\n",
      "#Used_Scooters_((12,_4),_(16,_5)) = 2.0\n",
      "#Used_Scooters_((12,_5),_(16,_6)) = 1.0\n",
      "#Used_Scooters_((12,_7),_(16,_8)) = 1.0\n",
      "#Used_Scooters_((12,_8),_(16,_9)) = 1.0\n",
      "#Used_Scooters_((12,_9),_(16,_10)) = 1.0\n",
      "#Used_Scooters_((13,_0),_(16,_1)) = 1.0\n",
      "#Used_Scooters_((13,_0),_(19,_1)) = 2.0\n",
      "#Used_Scooters_((13,_1),_(16,_2)) = 3.0\n",
      "#Used_Scooters_((13,_1),_(19,_2)) = 4.0\n",
      "#Used_Scooters_((13,_1),_(6,_2)) = 1.0\n",
      "#Used_Scooters_((13,_10),_(19,_11)) = 2.0\n",
      "#Used_Scooters_((13,_10),_(6,_11)) = 1.0\n",
      "#Used_Scooters_((13,_11),_(19,_12)) = 2.0\n",
      "#Used_Scooters_((13,_11),_(4,_12)) = 1.0\n",
      "#Used_Scooters_((13,_11),_(6,_12)) = 2.0\n",
      "#Used_Scooters_((13,_12),_(19,_13)) = 3.0\n",
      "#Used_Scooters_((13,_12),_(4,_13)) = 2.0\n",
      "#Used_Scooters_((13,_12),_(6,_13)) = 3.0\n",
      "#Used_Scooters_((13,_13),_(19,_14)) = 2.0\n",
      "#Used_Scooters_((13,_13),_(4,_14)) = 1.0\n",
      "#Used_Scooters_((13,_13),_(6,_14)) = 2.0\n",
      "#Used_Scooters_((13,_14),_(19,_15)) = 1.0\n",
      "#Used_Scooters_((13,_14),_(6,_15)) = 1.0\n",
      "#Used_Scooters_((13,_2),_(16,_3)) = 4.0\n",
      "#Used_Scooters_((13,_2),_(19,_3)) = 1.0\n",
      "#Used_Scooters_((13,_2),_(4,_3)) = 1.0\n",
      "#Used_Scooters_((13,_2),_(6,_3)) = 1.0\n",
      "#Used_Scooters_((13,_3),_(16,_4)) = 2.0\n",
      "#Used_Scooters_((13,_3),_(19,_4)) = 4.0\n",
      "#Used_Scooters_((13,_3),_(6,_4)) = 1.0\n",
      "#Used_Scooters_((13,_4),_(16,_5)) = 1.0\n",
      "#Used_Scooters_((13,_4),_(19,_5)) = 2.0\n",
      "#Used_Scooters_((13,_5),_(19,_6)) = 1.0\n",
      "#Used_Scooters_((13,_9),_(19,_10)) = 1.0\n",
      "#Used_Scooters_((13,_9),_(6,_10)) = 1.0\n",
      "#Used_Scooters_((14,_0),_(19,_1)) = 1.0\n",
      "#Used_Scooters_((14,_1),_(19,_2)) = 2.0\n",
      "#Used_Scooters_((14,_1),_(9,_2)) = 1.0\n",
      "#Used_Scooters_((14,_10),_(12,_11)) = 1.0\n",
      "#Used_Scooters_((14,_10),_(16,_11)) = 1.0\n",
      "#Used_Scooters_((14,_10),_(19,_11)) = 1.0\n",
      "#Used_Scooters_((14,_10),_(9,_11)) = 1.0\n",
      "#Used_Scooters_((14,_11),_(12,_12)) = 1.0\n",
      "#Used_Scooters_((14,_11),_(16,_12)) = 1.0\n",
      "#Used_Scooters_((14,_11),_(18,_12)) = 1.0\n",
      "#Used_Scooters_((14,_11),_(19,_12)) = 1.0\n",
      "#Used_Scooters_((14,_11),_(9,_12)) = 2.0\n",
      "#Used_Scooters_((14,_12),_(12,_13)) = 1.0\n",
      "#Used_Scooters_((14,_12),_(16,_13)) = 1.0\n",
      "#Used_Scooters_((14,_12),_(18,_13)) = 1.0\n",
      "#Used_Scooters_((14,_12),_(19,_13)) = 1.0\n",
      "#Used_Scooters_((14,_12),_(9,_13)) = 2.0\n",
      "#Used_Scooters_((14,_13),_(12,_14)) = 1.0\n",
      "#Used_Scooters_((14,_13),_(16,_14)) = 1.0\n",
      "#Used_Scooters_((14,_13),_(18,_14)) = 1.0\n",
      "#Used_Scooters_((14,_13),_(19,_14)) = 1.0\n",
      "#Used_Scooters_((14,_13),_(9,_14)) = 1.0\n",
      "#Used_Scooters_((14,_14),_(9,_15)) = 1.0\n",
      "#Used_Scooters_((14,_2),_(18,_3)) = 1.0\n",
      "#Used_Scooters_((14,_2),_(19,_3)) = 3.0\n",
      "#Used_Scooters_((14,_2),_(9,_3)) = 1.0\n",
      "#Used_Scooters_((14,_3),_(16,_4)) = 2.0\n",
      "#Used_Scooters_((14,_3),_(19,_4)) = 2.0\n",
      "#Used_Scooters_((14,_3),_(9,_4)) = 1.0\n",
      "#Used_Scooters_((14,_4),_(16,_5)) = 1.0\n",
      "#Used_Scooters_((14,_4),_(19,_5)) = 1.0\n",
      "#Used_Scooters_((14,_5),_(16,_6)) = 1.0\n",
      "#Used_Scooters_((14,_6),_(16,_7)) = 1.0\n",
      "#Used_Scooters_((14,_7),_(16,_8)) = 1.0\n",
      "#Used_Scooters_((14,_8),_(16,_9)) = 1.0\n",
      "#Used_Scooters_((14,_9),_(16,_10)) = 1.0\n",
      "#Used_Scooters_((16,_0),_(9,_1)) = 1.0\n",
      "#Used_Scooters_((16,_1),_(14,_2)) = 1.0\n",
      "#Used_Scooters_((16,_1),_(18,_2)) = 1.0\n",
      "#Used_Scooters_((16,_1),_(19,_2)) = 3.0\n",
      "#Used_Scooters_((16,_1),_(9,_2)) = 1.0\n",
      "#Used_Scooters_((16,_10),_(12,_11)) = 6.0\n",
      "#Used_Scooters_((16,_10),_(13,_11)) = 3.0\n",
      "#Used_Scooters_((16,_10),_(14,_11)) = 3.0\n",
      "#Used_Scooters_((16,_10),_(19,_11)) = 9.0\n",
      "#Used_Scooters_((16,_10),_(4,_11)) = 5.0\n",
      "#Used_Scooters_((16,_10),_(6,_11)) = 5.0\n",
      "#Used_Scooters_((16,_11),_(12,_12)) = 6.0\n",
      "#Used_Scooters_((16,_11),_(13,_12)) = 3.0\n",
      "#Used_Scooters_((16,_11),_(14,_12)) = 3.0\n",
      "#Used_Scooters_((16,_11),_(19,_12)) = 9.0\n",
      "#Used_Scooters_((16,_11),_(4,_12)) = 2.0\n",
      "#Used_Scooters_((16,_11),_(6,_12)) = 5.0\n",
      "#Used_Scooters_((16,_12),_(12,_13)) = 4.0\n",
      "#Used_Scooters_((16,_12),_(13,_13)) = 4.0\n",
      "#Used_Scooters_((16,_12),_(19,_13)) = 14.0\n",
      "#Used_Scooters_((16,_13),_(12,_14)) = 5.0\n",
      "#Used_Scooters_((16,_13),_(13,_14)) = 2.0\n",
      "#Used_Scooters_((16,_13),_(19,_14)) = 8.0\n",
      "#Used_Scooters_((16,_13),_(6,_14)) = 2.0\n",
      "#Used_Scooters_((16,_14),_(13,_15)) = 1.0\n",
      "#Used_Scooters_((16,_14),_(19,_15)) = 3.0\n",
      "#Used_Scooters_((16,_14),_(4,_15)) = 1.0\n",
      "#Used_Scooters_((16,_15),_(12,_16)) = 1.0\n",
      "#Used_Scooters_((16,_15),_(19,_16)) = 2.0\n",
      "#Used_Scooters_((16,_15),_(4,_16)) = 1.0\n",
      "#Used_Scooters_((16,_16),_(19,_17)) = 1.0\n",
      "#Used_Scooters_((16,_17),_(12,_18)) = 1.0\n",
      "#Used_Scooters_((16,_17),_(19,_18)) = 1.0\n",
      "#Used_Scooters_((16,_18),_(12,_19)) = 1.0\n",
      "#Used_Scooters_((16,_18),_(19,_19)) = 1.0\n",
      "#Used_Scooters_((16,_18),_(4,_19)) = 1.0\n",
      "#Used_Scooters_((16,_18),_(9,_19)) = 1.0\n",
      "#Used_Scooters_((16,_2),_(14,_3)) = 1.0\n",
      "#Used_Scooters_((16,_2),_(18,_3)) = 1.0\n",
      "#Used_Scooters_((16,_2),_(19,_3)) = 5.0\n",
      "#Used_Scooters_((16,_2),_(2,_3)) = 1.0\n",
      "#Used_Scooters_((16,_2),_(4,_3)) = 1.0\n",
      "#Used_Scooters_((16,_2),_(9,_3)) = 1.0\n",
      "#Used_Scooters_((16,_3),_(14,_4)) = 1.0\n",
      "#Used_Scooters_((16,_3),_(18,_4)) = 1.0\n",
      "#Used_Scooters_((16,_3),_(19,_4)) = 3.0\n",
      "#Used_Scooters_((16,_3),_(9,_4)) = 1.0\n",
      "#Used_Scooters_((16,_4),_(19,_5)) = 1.0\n",
      "#Used_Scooters_((16,_4),_(9,_5)) = 1.0\n",
      "#Used_Scooters_((16,_5),_(19,_6)) = 1.0\n",
      "#Used_Scooters_((16,_5),_(9,_6)) = 1.0\n",
      "#Used_Scooters_((16,_6),_(19,_7)) = 1.0\n",
      "#Used_Scooters_((16,_7),_(19,_8)) = 1.0\n",
      "#Used_Scooters_((16,_8),_(19,_9)) = 1.0\n",
      "#Used_Scooters_((16,_9),_(12,_10)) = 3.0\n",
      "#Used_Scooters_((16,_9),_(13,_10)) = 1.0\n",
      "#Used_Scooters_((16,_9),_(14,_10)) = 3.0\n",
      "#Used_Scooters_((16,_9),_(19,_10)) = 4.0\n",
      "#Used_Scooters_((16,_9),_(2,_10)) = 1.0\n",
      "#Used_Scooters_((16,_9),_(4,_10)) = 3.0\n",
      "#Used_Scooters_((16,_9),_(6,_10)) = 2.0\n",
      "#Used_Scooters_((16,_9),_(9,_10)) = 5.0\n",
      "#Used_Scooters_((18,_0),_(19,_1)) = 2.0\n",
      "#Used_Scooters_((18,_1),_(14,_2)) = 1.0\n",
      "#Used_Scooters_((18,_1),_(19,_2)) = 5.0\n",
      "#Used_Scooters_((18,_1),_(2,_2)) = 1.0\n",
      "#Used_Scooters_((18,_10),_(16,_11)) = 1.0\n",
      "#Used_Scooters_((18,_10),_(19,_11)) = 1.0\n",
      "#Used_Scooters_((18,_10),_(2,_11)) = 1.0\n",
      "#Used_Scooters_((18,_11),_(16,_12)) = 1.0\n",
      "#Used_Scooters_((18,_11),_(19,_12)) = 1.0\n",
      "#Used_Scooters_((18,_11),_(2,_12)) = 1.0\n",
      "#Used_Scooters_((18,_12),_(14,_13)) = 1.0\n",
      "#Used_Scooters_((18,_12),_(16,_13)) = 1.0\n",
      "#Used_Scooters_((18,_12),_(19,_13)) = 1.0\n",
      "#Used_Scooters_((18,_12),_(2,_13)) = 1.0\n",
      "#Used_Scooters_((18,_12),_(6,_13)) = 1.0\n",
      "#Used_Scooters_((18,_12),_(9,_13)) = 1.0\n",
      "#Used_Scooters_((18,_13),_(16,_14)) = 1.0\n",
      "#Used_Scooters_((18,_13),_(19,_14)) = 1.0\n",
      "#Used_Scooters_((18,_13),_(2,_14)) = 1.0\n",
      "#Used_Scooters_((18,_2),_(14,_3)) = 1.0\n",
      "#Used_Scooters_((18,_2),_(16,_3)) = 3.0\n",
      "#Used_Scooters_((18,_2),_(19,_3)) = 8.0\n",
      "#Used_Scooters_((18,_2),_(2,_3)) = 1.0\n",
      "#Used_Scooters_((18,_2),_(6,_3)) = 1.0\n",
      "#Used_Scooters_((18,_2),_(9,_3)) = 1.0\n",
      "#Used_Scooters_((18,_3),_(14,_4)) = 1.0\n",
      "#Used_Scooters_((18,_3),_(19,_4)) = 4.0\n",
      "#Used_Scooters_((18,_3),_(2,_4)) = 1.0\n",
      "#Used_Scooters_((18,_4),_(19,_5)) = 2.0\n",
      "#Used_Scooters_((18,_5),_(19,_6)) = 1.0\n",
      "#Used_Scooters_((18,_7),_(19,_8)) = 1.0\n",
      "#Used_Scooters_((18,_8),_(19,_9)) = 1.0\n",
      "#Used_Scooters_((18,_9),_(16,_10)) = 1.0\n",
      "#Used_Scooters_((18,_9),_(19,_10)) = 1.0\n",
      "#Used_Scooters_((19,_0),_(13,_1)) = 1.0\n",
      "#Used_Scooters_((19,_0),_(4,_1)) = 1.0\n",
      "#Used_Scooters_((19,_0),_(6,_1)) = 1.0\n",
      "#Used_Scooters_((19,_1),_(13,_2)) = 2.0\n",
      "#Used_Scooters_((19,_1),_(14,_2)) = 1.0\n",
      "#Used_Scooters_((19,_1),_(18,_2)) = 1.0\n",
      "#Used_Scooters_((19,_1),_(4,_2)) = 1.0\n",
      "#Used_Scooters_((19,_1),_(6,_2)) = 1.0\n",
      "#Used_Scooters_((19,_10),_(12,_11)) = 1.0\n",
      "#Used_Scooters_((19,_10),_(13,_11)) = 1.0\n",
      "#Used_Scooters_((19,_10),_(14,_11)) = 2.0\n",
      "#Used_Scooters_((19,_10),_(16,_11)) = 4.0\n",
      "#Used_Scooters_((19,_10),_(18,_11)) = 5.0\n",
      "#Used_Scooters_((19,_10),_(2,_11)) = 2.0\n",
      "#Used_Scooters_((19,_10),_(9,_11)) = 2.0\n",
      "#Used_Scooters_((19,_11),_(12,_12)) = 1.0\n",
      "#Used_Scooters_((19,_11),_(13,_12)) = 4.0\n",
      "#Used_Scooters_((19,_11),_(14,_12)) = 2.0\n",
      "#Used_Scooters_((19,_11),_(16,_12)) = 4.0\n",
      "#Used_Scooters_((19,_11),_(18,_12)) = 5.0\n",
      "#Used_Scooters_((19,_11),_(2,_12)) = 2.0\n",
      "#Used_Scooters_((19,_11),_(9,_12)) = 2.0\n",
      "#Used_Scooters_((19,_12),_(12,_13)) = 1.0\n",
      "#Used_Scooters_((19,_12),_(14,_13)) = 3.0\n",
      "#Used_Scooters_((19,_12),_(16,_13)) = 5.0\n",
      "#Used_Scooters_((19,_12),_(18,_13)) = 8.0\n",
      "#Used_Scooters_((19,_12),_(2,_13)) = 3.0\n",
      "#Used_Scooters_((19,_12),_(9,_13)) = 3.0\n",
      "#Used_Scooters_((19,_13),_(12,_14)) = 1.0\n",
      "#Used_Scooters_((19,_13),_(13,_14)) = 4.0\n",
      "#Used_Scooters_((19,_13),_(14,_14)) = 2.0\n",
      "#Used_Scooters_((19,_13),_(16,_14)) = 3.0\n",
      "#Used_Scooters_((19,_13),_(18,_14)) = 5.0\n",
      "#Used_Scooters_((19,_13),_(2,_14)) = 2.0\n",
      "#Used_Scooters_((19,_13),_(6,_14)) = 4.0\n",
      "#Used_Scooters_((19,_13),_(9,_14)) = 2.0\n",
      "#Used_Scooters_((19,_14),_(13,_15)) = 2.0\n",
      "#Used_Scooters_((19,_14),_(14,_15)) = 1.0\n",
      "#Used_Scooters_((19,_14),_(16,_15)) = 1.0\n",
      "#Used_Scooters_((19,_14),_(18,_15)) = 2.0\n",
      "#Used_Scooters_((19,_14),_(2,_15)) = 1.0\n",
      "#Used_Scooters_((19,_14),_(6,_15)) = 3.0\n",
      "#Used_Scooters_((19,_14),_(9,_15)) = 1.0\n",
      "#Used_Scooters_((19,_15),_(13,_16)) = 1.0\n",
      "#Used_Scooters_((19,_15),_(16,_16)) = 1.0\n",
      "#Used_Scooters_((19,_15),_(18,_16)) = 1.0\n",
      "#Used_Scooters_((19,_15),_(6,_16)) = 1.0\n",
      "#Used_Scooters_((19,_16),_(16,_17)) = 1.0\n",
      "#Used_Scooters_((19,_16),_(6,_17)) = 1.0\n",
      "#Used_Scooters_((19,_17),_(16,_18)) = 1.0\n",
      "#Used_Scooters_((19,_17),_(18,_18)) = 1.0\n",
      "#Used_Scooters_((19,_17),_(6,_18)) = 1.0\n",
      "#Used_Scooters_((19,_18),_(16,_19)) = 1.0\n",
      "#Used_Scooters_((19,_18),_(18,_19)) = 1.0\n",
      "#Used_Scooters_((19,_18),_(4,_19)) = 1.0\n",
      "#Used_Scooters_((19,_18),_(6,_19)) = 1.0\n",
      "#Used_Scooters_((19,_2),_(13,_3)) = 3.0\n",
      "#Used_Scooters_((19,_2),_(14,_3)) = 1.0\n",
      "#Used_Scooters_((19,_2),_(16,_3)) = 14.0\n",
      "#Used_Scooters_((19,_2),_(18,_3)) = 1.0\n",
      "#Used_Scooters_((19,_2),_(4,_3)) = 2.0\n",
      "#Used_Scooters_((19,_2),_(6,_3)) = 2.0\n",
      "#Used_Scooters_((19,_3),_(13,_4)) = 2.0\n",
      "#Used_Scooters_((19,_3),_(14,_4)) = 1.0\n",
      "#Used_Scooters_((19,_3),_(16,_4)) = 8.0\n",
      "#Used_Scooters_((19,_3),_(18,_4)) = 1.0\n",
      "#Used_Scooters_((19,_3),_(4,_4)) = 1.0\n",
      "#Used_Scooters_((19,_3),_(6,_4)) = 1.0\n",
      "#Used_Scooters_((19,_4),_(13,_5)) = 1.0\n",
      "#Used_Scooters_((19,_4),_(16,_5)) = 3.0\n",
      "#Used_Scooters_((19,_4),_(4,_5)) = 1.0\n",
      "#Used_Scooters_((19,_4),_(6,_5)) = 1.0\n",
      "#Used_Scooters_((19,_5),_(16,_6)) = 2.0\n",
      "#Used_Scooters_((19,_5),_(4,_6)) = 1.0\n",
      "#Used_Scooters_((19,_5),_(6,_6)) = 1.0\n",
      "#Used_Scooters_((19,_6),_(16,_7)) = 1.0\n",
      "#Used_Scooters_((19,_7),_(16,_8)) = 1.0\n",
      "#Used_Scooters_((19,_8),_(16,_9)) = 1.0\n",
      "#Used_Scooters_((19,_9),_(13,_10)) = 2.0\n",
      "#Used_Scooters_((19,_9),_(14,_10)) = 1.0\n",
      "#Used_Scooters_((19,_9),_(16,_10)) = 2.0\n",
      "#Used_Scooters_((19,_9),_(18,_10)) = 3.0\n",
      "#Used_Scooters_((19,_9),_(2,_10)) = 1.0\n",
      "#Used_Scooters_((19,_9),_(6,_10)) = 1.0\n",
      "#Used_Scooters_((19,_9),_(9,_10)) = 1.0\n",
      "#Used_Scooters_((2,_0),_(19,_1)) = 1.0\n",
      "#Used_Scooters_((2,_1),_(18,_2)) = 1.0\n",
      "#Used_Scooters_((2,_1),_(19,_2)) = 2.0\n",
      "#Used_Scooters_((2,_1),_(9,_2)) = 1.0\n",
      "#Used_Scooters_((2,_10),_(16,_11)) = 1.0\n",
      "#Used_Scooters_((2,_10),_(18,_11)) = 1.0\n",
      "#Used_Scooters_((2,_11),_(16,_12)) = 1.0\n",
      "#Used_Scooters_((2,_11),_(18,_12)) = 1.0\n",
      "#Used_Scooters_((2,_12),_(16,_13)) = 1.0\n",
      "#Used_Scooters_((2,_12),_(18,_13)) = 1.0\n",
      "#Used_Scooters_((2,_12),_(9,_13)) = 1.0\n",
      "#Used_Scooters_((2,_13),_(18,_14)) = 1.0\n",
      "#Used_Scooters_((2,_2),_(18,_3)) = 1.0\n",
      "#Used_Scooters_((2,_2),_(19,_3)) = 3.0\n",
      "#Used_Scooters_((2,_2),_(9,_3)) = 1.0\n",
      "#Used_Scooters_((2,_3),_(16,_4)) = 1.0\n",
      "#Used_Scooters_((2,_3),_(18,_4)) = 1.0\n",
      "#Used_Scooters_((2,_3),_(19,_4)) = 2.0\n",
      "#Used_Scooters_((2,_3),_(9,_4)) = 1.0\n",
      "#Used_Scooters_((2,_4),_(19,_5)) = 1.0\n",
      "#Used_Scooters_((2,_9),_(16,_10)) = 1.0\n",
      "#Used_Scooters_((4,_0),_(13,_1)) = 1.0\n",
      "#Used_Scooters_((4,_0),_(19,_1)) = 3.0\n",
      "#Used_Scooters_((4,_1),_(13,_2)) = 1.0\n",
      "#Used_Scooters_((4,_10),_(16,_11)) = 1.0\n",
      "#Used_Scooters_((4,_10),_(19,_11)) = 2.0\n",
      "#Used_Scooters_((4,_11),_(16,_12)) = 1.0\n",
      "#Used_Scooters_((4,_11),_(19,_12)) = 2.0\n",
      "#Used_Scooters_((4,_12),_(13,_13)) = 1.0\n",
      "#Used_Scooters_((4,_12),_(16,_13)) = 1.0\n",
      "#Used_Scooters_((4,_12),_(19,_13)) = 2.0\n",
      "#Used_Scooters_((4,_12),_(6,_13)) = 1.0\n",
      "#Used_Scooters_((4,_13),_(19,_14)) = 1.0\n",
      "#Used_Scooters_((4,_14),_(19,_15)) = 1.0\n",
      "#Used_Scooters_((4,_15),_(19,_16)) = 1.0\n",
      "#Used_Scooters_((4,_2),_(13,_3)) = 1.0\n",
      "#Used_Scooters_((4,_2),_(6,_3)) = 1.0\n",
      "#Used_Scooters_((4,_3),_(16,_4)) = 2.0\n",
      "#Used_Scooters_((4,_4),_(16,_5)) = 2.0\n",
      "#Used_Scooters_((4,_5),_(16,_6)) = 1.0\n",
      "#Used_Scooters_((4,_7),_(16,_8)) = 1.0\n",
      "#Used_Scooters_((4,_8),_(16,_9)) = 1.0\n",
      "#Used_Scooters_((4,_9),_(16,_10)) = 1.0\n",
      "#Used_Scooters_((6,_0),_(13,_1)) = 1.0\n",
      "#Used_Scooters_((6,_0),_(16,_1)) = 2.0\n",
      "#Used_Scooters_((6,_1),_(13,_2)) = 2.0\n",
      "#Used_Scooters_((6,_1),_(16,_2)) = 5.0\n",
      "#Used_Scooters_((6,_10),_(13,_11)) = 1.0\n",
      "#Used_Scooters_((6,_10),_(16,_11)) = 1.0\n",
      "#Used_Scooters_((6,_10),_(19,_11)) = 2.0\n",
      "#Used_Scooters_((6,_11),_(13,_12)) = 1.0\n",
      "#Used_Scooters_((6,_11),_(16,_12)) = 1.0\n",
      "#Used_Scooters_((6,_11),_(19,_12)) = 2.0\n",
      "#Used_Scooters_((6,_12),_(13,_13)) = 1.0\n",
      "#Used_Scooters_((6,_12),_(18,_13)) = 1.0\n",
      "#Used_Scooters_((6,_12),_(19,_13)) = 2.0\n",
      "#Used_Scooters_((6,_12),_(4,_13)) = 1.0\n",
      "#Used_Scooters_((6,_13),_(13,_14)) = 1.0\n",
      "#Used_Scooters_((6,_13),_(19,_14)) = 1.0\n",
      "#Used_Scooters_((6,_14),_(19,_15)) = 1.0\n",
      "#Used_Scooters_((6,_15),_(19,_16)) = 1.0\n",
      "#Used_Scooters_((6,_2),_(13,_3)) = 3.0\n",
      "#Used_Scooters_((6,_2),_(16,_3)) = 7.0\n",
      "#Used_Scooters_((6,_2),_(18,_3)) = 1.0\n",
      "#Used_Scooters_((6,_2),_(4,_3)) = 1.0\n",
      "#Used_Scooters_((6,_3),_(13,_4)) = 2.0\n",
      "#Used_Scooters_((6,_3),_(16,_4)) = 4.0\n",
      "#Used_Scooters_((6,_4),_(13,_5)) = 1.0\n",
      "#Used_Scooters_((6,_4),_(16,_5)) = 2.0\n",
      "#Used_Scooters_((6,_5),_(16,_6)) = 1.0\n",
      "#Used_Scooters_((6,_9),_(16,_10)) = 1.0\n",
      "#Used_Scooters_((9,_0),_(14,_1)) = 1.0\n",
      "#Used_Scooters_((9,_0),_(19,_1)) = 1.0\n",
      "#Used_Scooters_((9,_1),_(14,_2)) = 1.0\n",
      "#Used_Scooters_((9,_1),_(19,_2)) = 2.0\n",
      "#Used_Scooters_((9,_10),_(12,_11)) = 1.0\n",
      "#Used_Scooters_((9,_10),_(14,_11)) = 1.0\n",
      "#Used_Scooters_((9,_10),_(16,_11)) = 1.0\n",
      "#Used_Scooters_((9,_10),_(2,_11)) = 1.0\n",
      "#Used_Scooters_((9,_11),_(12,_12)) = 1.0\n",
      "#Used_Scooters_((9,_11),_(14,_12)) = 1.0\n",
      "#Used_Scooters_((9,_11),_(16,_12)) = 1.0\n",
      "#Used_Scooters_((9,_11),_(2,_12)) = 1.0\n",
      "#Used_Scooters_((9,_12),_(12,_13)) = 1.0\n",
      "#Used_Scooters_((9,_12),_(14,_13)) = 1.0\n",
      "#Used_Scooters_((9,_12),_(16,_13)) = 1.0\n",
      "#Used_Scooters_((9,_12),_(18,_13)) = 1.0\n",
      "#Used_Scooters_((9,_12),_(2,_13)) = 1.0\n",
      "#Used_Scooters_((9,_13),_(12,_14)) = 1.0\n",
      "#Used_Scooters_((9,_13),_(14,_14)) = 1.0\n",
      "#Used_Scooters_((9,_13),_(16,_14)) = 1.0\n",
      "#Used_Scooters_((9,_13),_(2,_14)) = 1.0\n",
      "#Used_Scooters_((9,_14),_(16,_15)) = 1.0\n",
      "#Used_Scooters_((9,_15),_(16,_16)) = 1.0\n",
      "#Used_Scooters_((9,_2),_(12,_3)) = 1.0\n",
      "#Used_Scooters_((9,_2),_(14,_3)) = 2.0\n",
      "#Used_Scooters_((9,_2),_(18,_3)) = 1.0\n",
      "#Used_Scooters_((9,_2),_(19,_3)) = 3.0\n",
      "#Used_Scooters_((9,_2),_(2,_3)) = 1.0\n",
      "#Used_Scooters_((9,_3),_(14,_4)) = 1.0\n",
      "#Used_Scooters_((9,_3),_(19,_4)) = 2.0\n",
      "#Used_Scooters_((9,_4),_(14,_5)) = 1.0\n",
      "#Used_Scooters_((9,_4),_(16,_5)) = 1.0\n",
      "#Used_Scooters_((9,_4),_(19,_5)) = 1.0\n",
      "#Used_Scooters_((9,_5),_(16,_6)) = 2.0\n",
      "#Used_Scooters_((9,_6),_(16,_7)) = 1.0\n",
      "#Used_Scooters_((9,_7),_(16,_8)) = 1.0\n",
      "#Used_Scooters_((9,_9),_(16,_10)) = 1.0\n",
      "Profit_Max_Objective_function_value = 591.677\n",
      "Size_12 = 36.0\n",
      "Size_13 = 10.0\n",
      "Size_14 = 6.0\n",
      "Size_16 = 83.0\n",
      "Size_18 = 25.0\n",
      "Size_19 = 31.0\n",
      "Size_2 = 12.0\n",
      "Size_4 = 5.0\n",
      "Size_6 = 21.0\n",
      "Size_9 = 8.0\n",
      "Station_Presence_12 = 1.0\n",
      "Station_Presence_13 = 1.0\n",
      "Station_Presence_14 = 1.0\n",
      "Station_Presence_16 = 1.0\n",
      "Station_Presence_18 = 1.0\n",
      "Station_Presence_19 = 1.0\n",
      "Station_Presence_2 = 1.0\n",
      "Station_Presence_4 = 1.0\n",
      "Station_Presence_6 = 1.0\n",
      "Station_Presence_9 = 1.0\n"
     ]
    }
   ],
   "source": [
    "for v in problem.variables():\n",
    "    if v.varValue>0:\n",
    "        print(v.name, \"=\", v.varValue)"
   ]
  },
  {
   "cell_type": "code",
   "execution_count": 30,
   "metadata": {},
   "outputs": [
    {
     "output_type": "execute_result",
     "data": {
      "text/plain": [
       "165819.7035162501"
      ]
     },
     "metadata": {},
     "execution_count": 30
    }
   ],
   "source": [
    "value(problem.objective)"
   ]
  },
  {
   "cell_type": "code",
   "execution_count": 31,
   "metadata": {},
   "outputs": [
    {
     "output_type": "execute_result",
     "data": {
      "text/plain": [
       "591.677"
      ]
     },
     "metadata": {},
     "execution_count": 31
    }
   ],
   "source": [
    "O.varValue"
   ]
  },
  {
   "cell_type": "code",
   "execution_count": 32,
   "metadata": {},
   "outputs": [],
   "source": [
    "# Extracting the results\n",
    "#(idx, LpVariable)\n",
    "size_list = []\n",
    "for _,v in Zi.items():\n",
    "    size_list.append(v.value())  "
   ]
  },
  {
   "cell_type": "code",
   "execution_count": 33,
   "metadata": {},
   "outputs": [],
   "source": [
    "station_list = []\n",
    "for _,v in Yi.items():\n",
    "    station_list.append(v.value()) "
   ]
  },
  {
   "cell_type": "code",
   "execution_count": 34,
   "metadata": {},
   "outputs": [
    {
     "output_type": "execute_result",
     "data": {
      "text/plain": [
       "                                     Location  Station  Size\n",
       "0                       Balgreen and Roseburn      0.0   0.0\n",
       "1                                   Blackhall      0.0   0.0\n",
       "2              Broughton North and Powderhall      1.0  12.0\n",
       "3                             Broughton South      0.0   0.0\n",
       "4                                 Bruntsfield      1.0   5.0\n",
       "5                                 Comely Bank      0.0   0.0\n",
       "6                    Dalry and Fountainbridge      1.0  21.0\n",
       "7                                      Drylaw      0.0   0.0\n",
       "8                                 Gorgie East      0.0   0.0\n",
       "9                    Hillside and Calton Hill      1.0   8.0\n",
       "10                Marchmont East and Sciennes      0.0   0.0\n",
       "11                             Marchmont West      0.0   0.0\n",
       "12             Meadowbank and Abbeyhill North      1.0  36.0\n",
       "13                   Merchiston and Greenhill      1.0  10.0\n",
       "14                 New Town East and Gayfield      1.0   6.0\n",
       "15                Newington and Dalkeith Road      0.0   0.0\n",
       "16  Old Town, Princes Street and Leith Street      1.0  83.0\n",
       "17                               Prestonfield      0.0   0.0\n",
       "18                                Stockbridge      1.0  25.0\n",
       "19                                  Tollcross      1.0  31.0"
      ],
      "text/html": "<div>\n<style scoped>\n    .dataframe tbody tr th:only-of-type {\n        vertical-align: middle;\n    }\n\n    .dataframe tbody tr th {\n        vertical-align: top;\n    }\n\n    .dataframe thead th {\n        text-align: right;\n    }\n</style>\n<table border=\"1\" class=\"dataframe\">\n  <thead>\n    <tr style=\"text-align: right;\">\n      <th></th>\n      <th>Location</th>\n      <th>Station</th>\n      <th>Size</th>\n    </tr>\n  </thead>\n  <tbody>\n    <tr>\n      <th>0</th>\n      <td>Balgreen and Roseburn</td>\n      <td>0.0</td>\n      <td>0.0</td>\n    </tr>\n    <tr>\n      <th>1</th>\n      <td>Blackhall</td>\n      <td>0.0</td>\n      <td>0.0</td>\n    </tr>\n    <tr>\n      <th>2</th>\n      <td>Broughton North and Powderhall</td>\n      <td>1.0</td>\n      <td>12.0</td>\n    </tr>\n    <tr>\n      <th>3</th>\n      <td>Broughton South</td>\n      <td>0.0</td>\n      <td>0.0</td>\n    </tr>\n    <tr>\n      <th>4</th>\n      <td>Bruntsfield</td>\n      <td>1.0</td>\n      <td>5.0</td>\n    </tr>\n    <tr>\n      <th>5</th>\n      <td>Comely Bank</td>\n      <td>0.0</td>\n      <td>0.0</td>\n    </tr>\n    <tr>\n      <th>6</th>\n      <td>Dalry and Fountainbridge</td>\n      <td>1.0</td>\n      <td>21.0</td>\n    </tr>\n    <tr>\n      <th>7</th>\n      <td>Drylaw</td>\n      <td>0.0</td>\n      <td>0.0</td>\n    </tr>\n    <tr>\n      <th>8</th>\n      <td>Gorgie East</td>\n      <td>0.0</td>\n      <td>0.0</td>\n    </tr>\n    <tr>\n      <th>9</th>\n      <td>Hillside and Calton Hill</td>\n      <td>1.0</td>\n      <td>8.0</td>\n    </tr>\n    <tr>\n      <th>10</th>\n      <td>Marchmont East and Sciennes</td>\n      <td>0.0</td>\n      <td>0.0</td>\n    </tr>\n    <tr>\n      <th>11</th>\n      <td>Marchmont West</td>\n      <td>0.0</td>\n      <td>0.0</td>\n    </tr>\n    <tr>\n      <th>12</th>\n      <td>Meadowbank and Abbeyhill North</td>\n      <td>1.0</td>\n      <td>36.0</td>\n    </tr>\n    <tr>\n      <th>13</th>\n      <td>Merchiston and Greenhill</td>\n      <td>1.0</td>\n      <td>10.0</td>\n    </tr>\n    <tr>\n      <th>14</th>\n      <td>New Town East and Gayfield</td>\n      <td>1.0</td>\n      <td>6.0</td>\n    </tr>\n    <tr>\n      <th>15</th>\n      <td>Newington and Dalkeith Road</td>\n      <td>0.0</td>\n      <td>0.0</td>\n    </tr>\n    <tr>\n      <th>16</th>\n      <td>Old Town, Princes Street and Leith Street</td>\n      <td>1.0</td>\n      <td>83.0</td>\n    </tr>\n    <tr>\n      <th>17</th>\n      <td>Prestonfield</td>\n      <td>0.0</td>\n      <td>0.0</td>\n    </tr>\n    <tr>\n      <th>18</th>\n      <td>Stockbridge</td>\n      <td>1.0</td>\n      <td>25.0</td>\n    </tr>\n    <tr>\n      <th>19</th>\n      <td>Tollcross</td>\n      <td>1.0</td>\n      <td>31.0</td>\n    </tr>\n  </tbody>\n</table>\n</div>"
     },
     "metadata": {},
     "execution_count": 34
    }
   ],
   "source": [
    "df_results = pd.DataFrame(list(zip(locations, station_list, size_list)), columns=[\"Location\",\"Station\", \"Size\"])\n",
    "df_results"
   ]
  },
  {
   "cell_type": "code",
   "execution_count": 35,
   "metadata": {},
   "outputs": [],
   "source": [
    "if minimise:\n",
    "    df_results.to_csv(\"results-carbon-reduced.csv\", index=False)\n",
    "else:\n",
    "    df_results.to_csv(\"results-profit-reduced.csv\", index=False)"
   ]
  },
  {
   "cell_type": "code",
   "execution_count": 36,
   "metadata": {},
   "outputs": [],
   "source": [
    "total_Vit = dict()\n",
    "for k,v in Vit.items():\n",
    "    if k[1] not in total_Vit:\n",
    "        total_Vit[k[1]] = int(v.varValue)\n",
    "    else:\n",
    "        total_Vit[k[1]]+=int(v.varValue)"
   ]
  },
  {
   "cell_type": "code",
   "execution_count": 37,
   "metadata": {},
   "outputs": [
    {
     "output_type": "stream",
     "name": "stdout",
     "text": [
      "#Scooters: 124\n"
     ]
    }
   ],
   "source": [
    "print(\"#Scooters: \" + str(total_Vit[0]))\n",
    "total_scooters = total_Vit[0]"
   ]
  },
  {
   "cell_type": "code",
   "execution_count": 38,
   "metadata": {},
   "outputs": [
    {
     "output_type": "execute_result",
     "data": {
      "text/plain": [
       "1813"
      ]
     },
     "metadata": {},
     "execution_count": 38
    }
   ],
   "source": [
    "total_demand = 0\n",
    "for _,v in demand_dict.items():\n",
    "    total_demand+=v\n",
    "total_demand"
   ]
  },
  {
   "cell_type": "code",
   "execution_count": 39,
   "metadata": {},
   "outputs": [
    {
     "output_type": "execute_result",
     "data": {
      "text/plain": [
       "679.0"
      ]
     },
     "metadata": {},
     "execution_count": 39
    }
   ],
   "source": [
    "satisfied_demand = 0\n",
    "for _,v in Ditj.items():\n",
    "    satisfied_demand+=v.varValue\n",
    "satisfied_demand"
   ]
  },
  {
   "cell_type": "code",
   "execution_count": 40,
   "metadata": {},
   "outputs": [
    {
     "output_type": "execute_result",
     "data": {
      "text/plain": [
       "0.3745173745173745"
      ]
     },
     "metadata": {},
     "execution_count": 40
    }
   ],
   "source": [
    "satisfied_demand/total_demand"
   ]
  },
  {
   "cell_type": "code",
   "execution_count": 41,
   "metadata": {},
   "outputs": [
    {
     "output_type": "execute_result",
     "data": {
      "text/plain": [
       "{0: 23.0,\n",
       " 1: 54.0,\n",
       " 2: 98.0,\n",
       " 3: 62.0,\n",
       " 4: 26.0,\n",
       " 5: 14.0,\n",
       " 6: 4.0,\n",
       " 7: 7.0,\n",
       " 8: 6.0,\n",
       " 9: 43.0,\n",
       " 10: 72.0,\n",
       " 11: 76.0,\n",
       " 12: 84.0,\n",
       " 13: 61.0,\n",
       " 14: 22.0,\n",
       " 15: 11.0,\n",
       " 16: 3.0,\n",
       " 17: 5.0,\n",
       " 18: 8.0}"
      ]
     },
     "metadata": {},
     "execution_count": 41
    }
   ],
   "source": [
    "trips = dict()\n",
    "for ((i,ti),(j,tj)) in Ditj.keys():\n",
    "    if ti not in trips.keys():\n",
    "        trips[ti] = Ditj[((i,ti),(j,tj))].varValue\n",
    "    else:\n",
    "        trips[ti] +=Ditj[((i,ti),(j,tj))].varValue\n",
    "trips"
   ]
  },
  {
   "cell_type": "code",
   "execution_count": 42,
   "metadata": {},
   "outputs": [
    {
     "output_type": "execute_result",
     "data": {
      "text/plain": [
       "5.475806451612903"
      ]
     },
     "metadata": {},
     "execution_count": 42
    }
   ],
   "source": [
    "satisfied_demand/total_scooters"
   ]
  },
  {
   "cell_type": "code",
   "execution_count": 43,
   "metadata": {},
   "outputs": [],
   "source": [
    "# Hard coded values - not relevant at this point\n",
    "Obj_matrix = np.array([[165819.70351625013,591.677],[177487.510000, 644.8944]])\n",
    "df_obj = pd.DataFrame(Obj_matrix, columns=[\"Carbon\", \"Profit\"])\n",
    "df_obj[\"Obj\"] = [\"Carbon\", \"Profit\"]"
   ]
  },
  {
   "cell_type": "code",
   "execution_count": 44,
   "metadata": {},
   "outputs": [
    {
     "output_type": "execute_result",
     "data": {
      "text/plain": [
       "      Obj         Carbon    Profit\n",
       "0  Carbon  165819.703516  591.6770\n",
       "1  Profit  177487.510000  644.8944"
      ],
      "text/html": "<div>\n<style scoped>\n    .dataframe tbody tr th:only-of-type {\n        vertical-align: middle;\n    }\n\n    .dataframe tbody tr th {\n        vertical-align: top;\n    }\n\n    .dataframe thead th {\n        text-align: right;\n    }\n</style>\n<table border=\"1\" class=\"dataframe\">\n  <thead>\n    <tr style=\"text-align: right;\">\n      <th></th>\n      <th>Obj</th>\n      <th>Carbon</th>\n      <th>Profit</th>\n    </tr>\n  </thead>\n  <tbody>\n    <tr>\n      <th>0</th>\n      <td>Carbon</td>\n      <td>165819.703516</td>\n      <td>591.6770</td>\n    </tr>\n    <tr>\n      <th>1</th>\n      <td>Profit</td>\n      <td>177487.510000</td>\n      <td>644.8944</td>\n    </tr>\n  </tbody>\n</table>\n</div>"
     },
     "metadata": {},
     "execution_count": 44
    }
   ],
   "source": [
    "cols = df_obj.columns.tolist()\n",
    "cols = cols[-1:] + cols[:-1]\n",
    "df_obj = df_obj[cols]\n",
    "df_obj"
   ]
  },
  {
   "cell_type": "code",
   "execution_count": 45,
   "metadata": {},
   "outputs": [
    {
     "output_type": "stream",
     "name": "stdout",
     "text": [
      "Rij[((0, 19), (1, 0))] = 0.0\nRij[((0, 19), (2, 0))] = 0.0\nRij[((0, 19), (3, 0))] = 0.0\nRij[((0, 19), (4, 0))] = 0.0\nRij[((0, 19), (5, 0))] = 0.0\nRij[((0, 19), (6, 0))] = 0.0\nRij[((0, 19), (7, 0))] = 0.0\nRij[((0, 19), (8, 0))] = 0.0\nRij[((0, 19), (9, 0))] = 0.0\nRij[((0, 19), (10, 0))] = 0.0\nRij[((0, 19), (11, 0))] = 0.0\nRij[((0, 19), (12, 0))] = 0.0\nRij[((0, 19), (13, 0))] = 0.0\nRij[((0, 19), (14, 0))] = 0.0\nRij[((0, 19), (15, 0))] = 0.0\nRij[((0, 19), (16, 0))] = 0.0\nRij[((0, 19), (17, 0))] = 0.0\nRij[((0, 19), (18, 0))] = 0.0\nRij[((0, 19), (19, 0))] = 0.0\nRij[((1, 19), (0, 0))] = 0.0\nRij[((1, 19), (2, 0))] = 0.0\nRij[((1, 19), (3, 0))] = 0.0\nRij[((1, 19), (4, 0))] = 0.0\nRij[((1, 19), (5, 0))] = 0.0\nRij[((1, 19), (6, 0))] = 0.0\nRij[((1, 19), (7, 0))] = 0.0\nRij[((1, 19), (8, 0))] = 0.0\nRij[((1, 19), (9, 0))] = 0.0\nRij[((1, 19), (10, 0))] = 0.0\nRij[((1, 19), (11, 0))] = 0.0\nRij[((1, 19), (12, 0))] = 0.0\nRij[((1, 19), (13, 0))] = 0.0\nRij[((1, 19), (14, 0))] = 0.0\nRij[((1, 19), (15, 0))] = 0.0\nRij[((1, 19), (16, 0))] = 0.0\nRij[((1, 19), (17, 0))] = 0.0\nRij[((1, 19), (18, 0))] = 0.0\nRij[((1, 19), (19, 0))] = 0.0\nRij[((2, 19), (0, 0))] = 0.0\nRij[((2, 19), (1, 0))] = 0.0\nRij[((2, 19), (3, 0))] = 0.0\nRij[((2, 19), (4, 0))] = 0.0\nRij[((2, 19), (5, 0))] = 0.0\nRij[((2, 19), (6, 0))] = 0.0\nRij[((2, 19), (7, 0))] = 0.0\nRij[((2, 19), (8, 0))] = 0.0\nRij[((2, 19), (9, 0))] = 0.0\nRij[((2, 19), (10, 0))] = 0.0\nRij[((2, 19), (11, 0))] = 0.0\nRij[((2, 19), (12, 0))] = 0.0\nRij[((2, 19), (13, 0))] = 0.0\nRij[((2, 19), (14, 0))] = 0.0\nRij[((2, 19), (15, 0))] = 0.0\nRij[((2, 19), (16, 0))] = 0.0\nRij[((2, 19), (17, 0))] = 0.0\nRij[((2, 19), (18, 0))] = 0.0\nRij[((2, 19), (19, 0))] = 0.0\nRij[((3, 19), (0, 0))] = 0.0\nRij[((3, 19), (1, 0))] = 0.0\nRij[((3, 19), (2, 0))] = 0.0\nRij[((3, 19), (4, 0))] = 0.0\nRij[((3, 19), (5, 0))] = 0.0\nRij[((3, 19), (6, 0))] = 0.0\nRij[((3, 19), (7, 0))] = 0.0\nRij[((3, 19), (8, 0))] = 0.0\nRij[((3, 19), (9, 0))] = 0.0\nRij[((3, 19), (10, 0))] = 0.0\nRij[((3, 19), (11, 0))] = 0.0\nRij[((3, 19), (12, 0))] = 0.0\nRij[((3, 19), (13, 0))] = 0.0\nRij[((3, 19), (14, 0))] = 0.0\nRij[((3, 19), (15, 0))] = 0.0\nRij[((3, 19), (16, 0))] = 0.0\nRij[((3, 19), (17, 0))] = 0.0\nRij[((3, 19), (18, 0))] = 0.0\nRij[((3, 19), (19, 0))] = 0.0\nRij[((4, 19), (0, 0))] = 0.0\nRij[((4, 19), (1, 0))] = 0.0\nRij[((4, 19), (2, 0))] = 0.0\nRij[((4, 19), (3, 0))] = 0.0\nRij[((4, 19), (5, 0))] = 0.0\nRij[((4, 19), (6, 0))] = 0.0\nRij[((4, 19), (7, 0))] = 0.0\nRij[((4, 19), (8, 0))] = 0.0\nRij[((4, 19), (9, 0))] = 0.0\nRij[((4, 19), (10, 0))] = 0.0\nRij[((4, 19), (11, 0))] = 0.0\nRij[((4, 19), (12, 0))] = 0.0\nRij[((4, 19), (13, 0))] = 0.0\nRij[((4, 19), (14, 0))] = 0.0\nRij[((4, 19), (15, 0))] = 0.0\nRij[((4, 19), (16, 0))] = 0.0\nRij[((4, 19), (17, 0))] = 0.0\nRij[((4, 19), (18, 0))] = 0.0\nRij[((4, 19), (19, 0))] = 0.0\nRij[((5, 19), (0, 0))] = 0.0\nRij[((5, 19), (1, 0))] = 0.0\nRij[((5, 19), (2, 0))] = 0.0\nRij[((5, 19), (3, 0))] = 0.0\nRij[((5, 19), (4, 0))] = 0.0\nRij[((5, 19), (6, 0))] = 0.0\nRij[((5, 19), (7, 0))] = 0.0\nRij[((5, 19), (8, 0))] = 0.0\nRij[((5, 19), (9, 0))] = 0.0\nRij[((5, 19), (10, 0))] = 0.0\nRij[((5, 19), (11, 0))] = 0.0\nRij[((5, 19), (12, 0))] = 0.0\nRij[((5, 19), (13, 0))] = 0.0\nRij[((5, 19), (14, 0))] = 0.0\nRij[((5, 19), (15, 0))] = 0.0\nRij[((5, 19), (16, 0))] = 0.0\nRij[((5, 19), (17, 0))] = 0.0\nRij[((5, 19), (18, 0))] = 0.0\nRij[((5, 19), (19, 0))] = 0.0\nRij[((6, 19), (0, 0))] = 0.0\nRij[((6, 19), (1, 0))] = 0.0\nRij[((6, 19), (2, 0))] = 0.0\nRij[((6, 19), (3, 0))] = 0.0\nRij[((6, 19), (4, 0))] = 0.0\nRij[((6, 19), (5, 0))] = 0.0\nRij[((6, 19), (7, 0))] = 0.0\nRij[((6, 19), (8, 0))] = 0.0\nRij[((6, 19), (9, 0))] = 0.0\nRij[((6, 19), (10, 0))] = 0.0\nRij[((6, 19), (11, 0))] = 0.0\nRij[((6, 19), (12, 0))] = 0.0\nRij[((6, 19), (13, 0))] = 0.0\nRij[((6, 19), (14, 0))] = 0.0\nRij[((6, 19), (15, 0))] = 0.0\nRij[((6, 19), (16, 0))] = 0.0\nRij[((6, 19), (17, 0))] = 0.0\nRij[((6, 19), (18, 0))] = 0.0\nRij[((6, 19), (19, 0))] = 0.0\nRij[((7, 19), (0, 0))] = 0.0\nRij[((7, 19), (1, 0))] = 0.0\nRij[((7, 19), (2, 0))] = 0.0\nRij[((7, 19), (3, 0))] = 0.0\nRij[((7, 19), (4, 0))] = 0.0\nRij[((7, 19), (5, 0))] = 0.0\nRij[((7, 19), (6, 0))] = 0.0\nRij[((7, 19), (8, 0))] = 0.0\nRij[((7, 19), (9, 0))] = 0.0\nRij[((7, 19), (10, 0))] = 0.0\nRij[((7, 19), (11, 0))] = 0.0\nRij[((7, 19), (12, 0))] = 0.0\nRij[((7, 19), (13, 0))] = 0.0\nRij[((7, 19), (14, 0))] = 0.0\nRij[((7, 19), (15, 0))] = 0.0\nRij[((7, 19), (16, 0))] = 0.0\nRij[((7, 19), (17, 0))] = 0.0\nRij[((7, 19), (18, 0))] = 0.0\nRij[((7, 19), (19, 0))] = 0.0\nRij[((8, 19), (0, 0))] = 0.0\nRij[((8, 19), (1, 0))] = 0.0\nRij[((8, 19), (2, 0))] = 0.0\nRij[((8, 19), (3, 0))] = 0.0\nRij[((8, 19), (4, 0))] = 0.0\nRij[((8, 19), (5, 0))] = 0.0\nRij[((8, 19), (6, 0))] = 0.0\nRij[((8, 19), (7, 0))] = 0.0\nRij[((8, 19), (9, 0))] = 0.0\nRij[((8, 19), (10, 0))] = 0.0\nRij[((8, 19), (11, 0))] = 0.0\nRij[((8, 19), (12, 0))] = 0.0\nRij[((8, 19), (13, 0))] = 0.0\nRij[((8, 19), (14, 0))] = 0.0\nRij[((8, 19), (15, 0))] = 0.0\nRij[((8, 19), (16, 0))] = 0.0\nRij[((8, 19), (17, 0))] = 0.0\nRij[((8, 19), (18, 0))] = 0.0\nRij[((8, 19), (19, 0))] = 0.0\nRij[((9, 19), (0, 0))] = 0.0\nRij[((9, 19), (1, 0))] = 0.0\nRij[((9, 19), (2, 0))] = 0.0\nRij[((9, 19), (3, 0))] = 0.0\nRij[((9, 19), (4, 0))] = 0.0\nRij[((9, 19), (5, 0))] = 0.0\nRij[((9, 19), (6, 0))] = 0.0\nRij[((9, 19), (7, 0))] = 0.0\nRij[((9, 19), (8, 0))] = 0.0\nRij[((9, 19), (10, 0))] = 0.0\nRij[((9, 19), (11, 0))] = 0.0\nRij[((9, 19), (12, 0))] = 0.0\nRij[((9, 19), (13, 0))] = 0.0\nRij[((9, 19), (14, 0))] = 0.0\nRij[((9, 19), (15, 0))] = 0.0\nRij[((9, 19), (16, 0))] = 0.0\nRij[((9, 19), (17, 0))] = 0.0\nRij[((9, 19), (18, 0))] = 0.0\nRij[((9, 19), (19, 0))] = 0.0\nRij[((10, 19), (0, 0))] = 0.0\nRij[((10, 19), (1, 0))] = 0.0\nRij[((10, 19), (2, 0))] = 0.0\nRij[((10, 19), (3, 0))] = 0.0\nRij[((10, 19), (4, 0))] = 0.0\nRij[((10, 19), (5, 0))] = 0.0\nRij[((10, 19), (6, 0))] = 0.0\nRij[((10, 19), (7, 0))] = 0.0\nRij[((10, 19), (8, 0))] = 0.0\nRij[((10, 19), (9, 0))] = 0.0\nRij[((10, 19), (11, 0))] = 0.0\nRij[((10, 19), (12, 0))] = 0.0\nRij[((10, 19), (13, 0))] = 0.0\nRij[((10, 19), (14, 0))] = 0.0\nRij[((10, 19), (15, 0))] = 0.0\nRij[((10, 19), (16, 0))] = 0.0\nRij[((10, 19), (17, 0))] = 0.0\nRij[((10, 19), (18, 0))] = 0.0\nRij[((10, 19), (19, 0))] = 0.0\nRij[((11, 19), (0, 0))] = 0.0\nRij[((11, 19), (1, 0))] = 0.0\nRij[((11, 19), (2, 0))] = 0.0\nRij[((11, 19), (3, 0))] = 0.0\nRij[((11, 19), (4, 0))] = 0.0\nRij[((11, 19), (5, 0))] = 0.0\nRij[((11, 19), (6, 0))] = 0.0\nRij[((11, 19), (7, 0))] = 0.0\nRij[((11, 19), (8, 0))] = 0.0\nRij[((11, 19), (9, 0))] = 0.0\nRij[((11, 19), (10, 0))] = 0.0\nRij[((11, 19), (12, 0))] = 0.0\nRij[((11, 19), (13, 0))] = 0.0\nRij[((11, 19), (14, 0))] = 0.0\nRij[((11, 19), (15, 0))] = 0.0\nRij[((11, 19), (16, 0))] = 0.0\nRij[((11, 19), (17, 0))] = 0.0\nRij[((11, 19), (18, 0))] = 0.0\nRij[((11, 19), (19, 0))] = 0.0\nRij[((12, 19), (0, 0))] = 0.0\nRij[((12, 19), (1, 0))] = 0.0\nRij[((12, 19), (2, 0))] = 0.0\nRij[((12, 19), (3, 0))] = 0.0\nRij[((12, 19), (4, 0))] = 0.0\nRij[((12, 19), (5, 0))] = 0.0\nRij[((12, 19), (6, 0))] = 0.0\nRij[((12, 19), (7, 0))] = 0.0\nRij[((12, 19), (8, 0))] = 0.0\nRij[((12, 19), (9, 0))] = 0.0\nRij[((12, 19), (10, 0))] = 0.0\nRij[((12, 19), (11, 0))] = 0.0\nRij[((12, 19), (13, 0))] = 0.0\nRij[((12, 19), (14, 0))] = 0.0\nRij[((12, 19), (15, 0))] = 0.0\nRij[((12, 19), (16, 0))] = 0.0\nRij[((12, 19), (17, 0))] = 0.0\nRij[((12, 19), (18, 0))] = 0.0\nRij[((12, 19), (19, 0))] = 0.0\nRij[((13, 19), (0, 0))] = 0.0\nRij[((13, 19), (1, 0))] = 0.0\nRij[((13, 19), (2, 0))] = 0.0\nRij[((13, 19), (3, 0))] = 0.0\nRij[((13, 19), (4, 0))] = 0.0\nRij[((13, 19), (5, 0))] = 0.0\nRij[((13, 19), (6, 0))] = 0.0\nRij[((13, 19), (7, 0))] = 0.0\nRij[((13, 19), (8, 0))] = 0.0\nRij[((13, 19), (9, 0))] = 0.0\nRij[((13, 19), (10, 0))] = 0.0\nRij[((13, 19), (11, 0))] = 0.0\nRij[((13, 19), (12, 0))] = 0.0\nRij[((13, 19), (14, 0))] = 0.0\nRij[((13, 19), (15, 0))] = 0.0\nRij[((13, 19), (16, 0))] = 0.0\nRij[((13, 19), (17, 0))] = 0.0\nRij[((13, 19), (18, 0))] = 0.0\nRij[((13, 19), (19, 0))] = 0.0\nRij[((14, 19), (0, 0))] = 0.0\nRij[((14, 19), (1, 0))] = 0.0\nRij[((14, 19), (2, 0))] = 0.0\nRij[((14, 19), (3, 0))] = 0.0\nRij[((14, 19), (4, 0))] = 0.0\nRij[((14, 19), (5, 0))] = 0.0\nRij[((14, 19), (6, 0))] = 0.0\nRij[((14, 19), (7, 0))] = 0.0\nRij[((14, 19), (8, 0))] = 0.0\nRij[((14, 19), (9, 0))] = 0.0\nRij[((14, 19), (10, 0))] = 0.0\nRij[((14, 19), (11, 0))] = 0.0\nRij[((14, 19), (12, 0))] = 0.0\nRij[((14, 19), (13, 0))] = 0.0\nRij[((14, 19), (15, 0))] = 0.0\nRij[((14, 19), (16, 0))] = 0.0\nRij[((14, 19), (17, 0))] = 0.0\nRij[((14, 19), (18, 0))] = 0.0\nRij[((14, 19), (19, 0))] = 0.0\nRij[((15, 19), (0, 0))] = 0.0\nRij[((15, 19), (1, 0))] = 0.0\nRij[((15, 19), (2, 0))] = 0.0\nRij[((15, 19), (3, 0))] = 0.0\nRij[((15, 19), (4, 0))] = 0.0\nRij[((15, 19), (5, 0))] = 0.0\nRij[((15, 19), (6, 0))] = 0.0\nRij[((15, 19), (7, 0))] = 0.0\nRij[((15, 19), (8, 0))] = 0.0\nRij[((15, 19), (9, 0))] = 0.0\nRij[((15, 19), (10, 0))] = 0.0\nRij[((15, 19), (11, 0))] = 0.0\nRij[((15, 19), (12, 0))] = 0.0\nRij[((15, 19), (13, 0))] = 0.0\nRij[((15, 19), (14, 0))] = 0.0\nRij[((15, 19), (16, 0))] = 0.0\nRij[((15, 19), (17, 0))] = 0.0\nRij[((15, 19), (18, 0))] = 0.0\nRij[((15, 19), (19, 0))] = 0.0\nRij[((16, 19), (0, 0))] = 0.0\nRij[((16, 19), (1, 0))] = 0.0\nRij[((16, 19), (2, 0))] = 0.0\nRij[((16, 19), (3, 0))] = 0.0\nRij[((16, 19), (4, 0))] = 0.0\nRij[((16, 19), (5, 0))] = 0.0\nRij[((16, 19), (6, 0))] = 0.0\nRij[((16, 19), (7, 0))] = 0.0\nRij[((16, 19), (8, 0))] = 0.0\nRij[((16, 19), (9, 0))] = 0.0\nRij[((16, 19), (10, 0))] = 0.0\nRij[((16, 19), (11, 0))] = 0.0\nRij[((16, 19), (12, 0))] = 0.0\nRij[((16, 19), (13, 0))] = 0.0\nRij[((16, 19), (14, 0))] = 0.0\nRij[((16, 19), (15, 0))] = 0.0\nRij[((16, 19), (17, 0))] = 0.0\nRij[((16, 19), (18, 0))] = 0.0\nRij[((16, 19), (19, 0))] = 0.0\nRij[((17, 19), (0, 0))] = 0.0\nRij[((17, 19), (1, 0))] = 0.0\nRij[((17, 19), (2, 0))] = 0.0\nRij[((17, 19), (3, 0))] = 0.0\nRij[((17, 19), (4, 0))] = 0.0\nRij[((17, 19), (5, 0))] = 0.0\nRij[((17, 19), (6, 0))] = 0.0\nRij[((17, 19), (7, 0))] = 0.0\nRij[((17, 19), (8, 0))] = 0.0\nRij[((17, 19), (9, 0))] = 0.0\nRij[((17, 19), (10, 0))] = 0.0\nRij[((17, 19), (11, 0))] = 0.0\nRij[((17, 19), (12, 0))] = 0.0\nRij[((17, 19), (13, 0))] = 0.0\nRij[((17, 19), (14, 0))] = 0.0\nRij[((17, 19), (15, 0))] = 0.0\nRij[((17, 19), (16, 0))] = 0.0\nRij[((17, 19), (18, 0))] = 0.0\nRij[((17, 19), (19, 0))] = 0.0\nRij[((18, 19), (0, 0))] = 0.0\nRij[((18, 19), (1, 0))] = 0.0\nRij[((18, 19), (2, 0))] = 0.0\nRij[((18, 19), (3, 0))] = 0.0\nRij[((18, 19), (4, 0))] = 0.0\nRij[((18, 19), (5, 0))] = 0.0\nRij[((18, 19), (6, 0))] = 0.0\nRij[((18, 19), (7, 0))] = 0.0\nRij[((18, 19), (8, 0))] = 0.0\nRij[((18, 19), (9, 0))] = 0.0\nRij[((18, 19), (10, 0))] = 0.0\nRij[((18, 19), (11, 0))] = 0.0\nRij[((18, 19), (12, 0))] = 0.0\nRij[((18, 19), (13, 0))] = 0.0\nRij[((18, 19), (14, 0))] = 0.0\nRij[((18, 19), (15, 0))] = 0.0\nRij[((18, 19), (16, 0))] = 0.0\nRij[((18, 19), (17, 0))] = 0.0\nRij[((18, 19), (19, 0))] = 0.0\nRij[((19, 19), (0, 0))] = 0.0\nRij[((19, 19), (1, 0))] = 0.0\nRij[((19, 19), (2, 0))] = 0.0\nRij[((19, 19), (3, 0))] = 0.0\nRij[((19, 19), (4, 0))] = 0.0\nRij[((19, 19), (5, 0))] = 0.0\nRij[((19, 19), (6, 0))] = 0.0\nRij[((19, 19), (7, 0))] = 0.0\nRij[((19, 19), (8, 0))] = 0.0\nRij[((19, 19), (9, 0))] = 0.0\nRij[((19, 19), (10, 0))] = 0.0\nRij[((19, 19), (11, 0))] = 0.0\nRij[((19, 19), (12, 0))] = 0.0\nRij[((19, 19), (13, 0))] = 0.0\nRij[((19, 19), (14, 0))] = 0.0\nRij[((19, 19), (15, 0))] = 0.0\nRij[((19, 19), (16, 0))] = 0.0\nRij[((19, 19), (17, 0))] = 0.0\nRij[((19, 19), (18, 0))] = 0.0\n"
     ]
    }
   ],
   "source": [
    "for k in Rij.keys():\n",
    "    print(f\"Rij[{k}] = {Rij[k].varValue}\")"
   ]
  },
  {
   "cell_type": "code",
   "execution_count": 46,
   "metadata": {},
   "outputs": [
    {
     "output_type": "stream",
     "name": "stdout",
     "text": [
      "0: 0.0 == 0.0\n1: 0.0 == 0.0\n2: 12.0 == 12.0\n3: 0.0 == 0.0\n4: 5.0 == 5.0\n5: 0.0 == 0.0\n6: 21.0 == 21.0\n7: 0.0 == 0.0\n8: 0.0 == 0.0\n9: 8.0 == 8.0\n10: 0.0 == 0.0\n11: 0.0 == 0.0\n12: 36.0 == 36.0\n13: 10.0 == 10.0\n14: 3.0 == 3.0\n15: 0.0 == 0.0\n16: 1.0 == 1.0\n17: 0.0 == 0.0\n18: 25.0 == 25.0\n19: 3.0 == 3.0\n"
     ]
    }
   ],
   "source": [
    "for i in location_idx:\n",
    "    print(f\"{i}: {Vit[(i,0)].varValue} == {Vit[(i,19)].varValue}\")"
   ]
  }
 ]
}